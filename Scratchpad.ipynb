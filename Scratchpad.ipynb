{
 "cells": [
  {
   "cell_type": "code",
   "execution_count": 37,
   "metadata": {},
   "outputs": [],
   "source": [
    "import pandas as pd\n",
    "import plotly.express as px\n",
    "import datetime\n",
    "import json\n",
    "import ast"
   ]
  },
  {
   "cell_type": "code",
   "execution_count": 6,
   "metadata": {},
   "outputs": [],
   "source": [
    "df=pd.read_csv('sample_data.csv')"
   ]
  },
  {
   "cell_type": "code",
   "execution_count": 28,
   "metadata": {},
   "outputs": [],
   "source": [
    "dffiltered=df[(df['partition_1']=='AMD') & (df['partition_0']=='Technology') ].sort_values(by=['create_date'],ascending=True)"
   ]
  },
  {
   "cell_type": "code",
   "execution_count": 19,
   "metadata": {},
   "outputs": [
    {
     "data": {
      "text/html": [
       "<div>\n",
       "<style scoped>\n",
       "    .dataframe tbody tr th:only-of-type {\n",
       "        vertical-align: middle;\n",
       "    }\n",
       "\n",
       "    .dataframe tbody tr th {\n",
       "        vertical-align: top;\n",
       "    }\n",
       "\n",
       "    .dataframe thead th {\n",
       "        text-align: right;\n",
       "    }\n",
       "</style>\n",
       "<table border=\"1\" class=\"dataframe\">\n",
       "  <thead>\n",
       "    <tr style=\"text-align: right;\">\n",
       "      <th></th>\n",
       "      <th>partition_1</th>\n",
       "      <th>partition_0</th>\n",
       "      <th>avg_polarity</th>\n",
       "      <th>avg_followers</th>\n",
       "      <th>avg_friends</th>\n",
       "      <th>avg_retweet_count</th>\n",
       "      <th>word_freq</th>\n",
       "      <th>count</th>\n",
       "      <th>create_date</th>\n",
       "    </tr>\n",
       "  </thead>\n",
       "  <tbody>\n",
       "    <tr>\n",
       "      <th>1395</th>\n",
       "      <td>AMD</td>\n",
       "      <td>Technology</td>\n",
       "      <td>0.114922</td>\n",
       "      <td>7745.202581</td>\n",
       "      <td>946.569417</td>\n",
       "      <td>2.221744</td>\n",
       "      <td>[('amd', 557), ('new', 371), ('ryzen', 298), (...</td>\n",
       "      <td>2557</td>\n",
       "      <td>2020-07-14</td>\n",
       "    </tr>\n",
       "    <tr>\n",
       "      <th>1541</th>\n",
       "      <td>AMD</td>\n",
       "      <td>Technology</td>\n",
       "      <td>0.097566</td>\n",
       "      <td>26592.059667</td>\n",
       "      <td>613.686401</td>\n",
       "      <td>2.330250</td>\n",
       "      <td>[('amd', 373), ('pro', 323), ('new', 320), ('r...</td>\n",
       "      <td>2162</td>\n",
       "      <td>2020-07-15</td>\n",
       "    </tr>\n",
       "    <tr>\n",
       "      <th>3555</th>\n",
       "      <td>AMD</td>\n",
       "      <td>Technology</td>\n",
       "      <td>0.116975</td>\n",
       "      <td>2807.891681</td>\n",
       "      <td>710.439775</td>\n",
       "      <td>4.974437</td>\n",
       "      <td>[('ryzen', 465), ('⚠️', 402), ('new', 364), ('...</td>\n",
       "      <td>2308</td>\n",
       "      <td>2020-07-16</td>\n",
       "    </tr>\n",
       "    <tr>\n",
       "      <th>3184</th>\n",
       "      <td>AMD</td>\n",
       "      <td>Technology</td>\n",
       "      <td>0.238191</td>\n",
       "      <td>5651.968842</td>\n",
       "      <td>735.835789</td>\n",
       "      <td>4.949895</td>\n",
       "      <td>[('aorus', 578), ('gaming', 411), ('next', 401...</td>\n",
       "      <td>2375</td>\n",
       "      <td>2020-07-17</td>\n",
       "    </tr>\n",
       "    <tr>\n",
       "      <th>1253</th>\n",
       "      <td>AMD</td>\n",
       "      <td>Technology</td>\n",
       "      <td>0.133132</td>\n",
       "      <td>3184.929990</td>\n",
       "      <td>489.051202</td>\n",
       "      <td>3.800418</td>\n",
       "      <td>[('ryzen', 174), ('pro', 153), ('amd', 118), (...</td>\n",
       "      <td>957</td>\n",
       "      <td>2020-07-18</td>\n",
       "    </tr>\n",
       "    <tr>\n",
       "      <th>281</th>\n",
       "      <td>AMD</td>\n",
       "      <td>Technology</td>\n",
       "      <td>0.221949</td>\n",
       "      <td>3818.354239</td>\n",
       "      <td>679.434379</td>\n",
       "      <td>3.233449</td>\n",
       "      <td>[('pc', 199), ('amd', 140), ('asp:', 126), ('r...</td>\n",
       "      <td>861</td>\n",
       "      <td>2020-07-19</td>\n",
       "    </tr>\n",
       "    <tr>\n",
       "      <th>2918</th>\n",
       "      <td>AMD</td>\n",
       "      <td>Technology</td>\n",
       "      <td>0.095059</td>\n",
       "      <td>3551.473786</td>\n",
       "      <td>655.540777</td>\n",
       "      <td>5.585437</td>\n",
       "      <td>[('amd', 174), ('1', 118), ('aorus', 100), ('1...</td>\n",
       "      <td>1030</td>\n",
       "      <td>2020-07-20</td>\n",
       "    </tr>\n",
       "    <tr>\n",
       "      <th>2322</th>\n",
       "      <td>AMD</td>\n",
       "      <td>Technology</td>\n",
       "      <td>0.160070</td>\n",
       "      <td>3557.071429</td>\n",
       "      <td>859.019841</td>\n",
       "      <td>4.728175</td>\n",
       "      <td>[('amd', 156), ('pcie', 83), ('ryzen', 80), ('...</td>\n",
       "      <td>504</td>\n",
       "      <td>2020-07-21</td>\n",
       "    </tr>\n",
       "    <tr>\n",
       "      <th>2181</th>\n",
       "      <td>AMD</td>\n",
       "      <td>Technology</td>\n",
       "      <td>0.186520</td>\n",
       "      <td>4857.899687</td>\n",
       "      <td>748.037618</td>\n",
       "      <td>2.796238</td>\n",
       "      <td>[('$amd', 62), ('amd', 61), ('ryzen', 53), ('n...</td>\n",
       "      <td>319</td>\n",
       "      <td>2020-07-22</td>\n",
       "    </tr>\n",
       "    <tr>\n",
       "      <th>1898</th>\n",
       "      <td>AMD</td>\n",
       "      <td>Technology</td>\n",
       "      <td>0.156478</td>\n",
       "      <td>3007.266990</td>\n",
       "      <td>762.189320</td>\n",
       "      <td>2.033981</td>\n",
       "      <td>[('new', 31), ('amd', 30), ('ryzen', 18), ('$a...</td>\n",
       "      <td>206</td>\n",
       "      <td>2020-07-23</td>\n",
       "    </tr>\n",
       "    <tr>\n",
       "      <th>421</th>\n",
       "      <td>AMD</td>\n",
       "      <td>Technology</td>\n",
       "      <td>0.146716</td>\n",
       "      <td>3902.263610</td>\n",
       "      <td>637.945559</td>\n",
       "      <td>4.054441</td>\n",
       "      <td>[('$amd', 52), ('amd', 43), ('intel', 37), ('s...</td>\n",
       "      <td>349</td>\n",
       "      <td>2020-07-24</td>\n",
       "    </tr>\n",
       "    <tr>\n",
       "      <th>1112</th>\n",
       "      <td>AMD</td>\n",
       "      <td>Technology</td>\n",
       "      <td>0.111914</td>\n",
       "      <td>1425.053571</td>\n",
       "      <td>672.187500</td>\n",
       "      <td>24.803571</td>\n",
       "      <td>[('dr.', 61), ('jekyll/mr.', 61), ('hyde', 61)...</td>\n",
       "      <td>224</td>\n",
       "      <td>2020-07-25</td>\n",
       "    </tr>\n",
       "    <tr>\n",
       "      <th>142</th>\n",
       "      <td>AMD</td>\n",
       "      <td>Technology</td>\n",
       "      <td>0.140879</td>\n",
       "      <td>22751.816667</td>\n",
       "      <td>534.750000</td>\n",
       "      <td>3.450000</td>\n",
       "      <td>[('ryzen', 30), ('$amd', 19), ('new', 16), ('a...</td>\n",
       "      <td>180</td>\n",
       "      <td>2020-07-26</td>\n",
       "    </tr>\n",
       "    <tr>\n",
       "      <th>3414</th>\n",
       "      <td>AMD</td>\n",
       "      <td>Technology</td>\n",
       "      <td>0.155044</td>\n",
       "      <td>3146.764423</td>\n",
       "      <td>816.687500</td>\n",
       "      <td>2.586538</td>\n",
       "      <td>[('$amd', 30), ('ryzen', 26), ('amd', 22), ('7...</td>\n",
       "      <td>208</td>\n",
       "      <td>2020-07-27</td>\n",
       "    </tr>\n",
       "    <tr>\n",
       "      <th>1</th>\n",
       "      <td>AMD</td>\n",
       "      <td>Technology</td>\n",
       "      <td>0.141724</td>\n",
       "      <td>4352.305810</td>\n",
       "      <td>948.954128</td>\n",
       "      <td>4.712538</td>\n",
       "      <td>[('$amd', 85), ('amd', 42), ('via', 25), ('rev...</td>\n",
       "      <td>327</td>\n",
       "      <td>2020-07-28</td>\n",
       "    </tr>\n",
       "  </tbody>\n",
       "</table>\n",
       "</div>"
      ],
      "text/plain": [
       "     partition_1 partition_0  avg_polarity  avg_followers  avg_friends  \\\n",
       "1395         AMD  Technology      0.114922    7745.202581   946.569417   \n",
       "1541         AMD  Technology      0.097566   26592.059667   613.686401   \n",
       "3555         AMD  Technology      0.116975    2807.891681   710.439775   \n",
       "3184         AMD  Technology      0.238191    5651.968842   735.835789   \n",
       "1253         AMD  Technology      0.133132    3184.929990   489.051202   \n",
       "281          AMD  Technology      0.221949    3818.354239   679.434379   \n",
       "2918         AMD  Technology      0.095059    3551.473786   655.540777   \n",
       "2322         AMD  Technology      0.160070    3557.071429   859.019841   \n",
       "2181         AMD  Technology      0.186520    4857.899687   748.037618   \n",
       "1898         AMD  Technology      0.156478    3007.266990   762.189320   \n",
       "421          AMD  Technology      0.146716    3902.263610   637.945559   \n",
       "1112         AMD  Technology      0.111914    1425.053571   672.187500   \n",
       "142          AMD  Technology      0.140879   22751.816667   534.750000   \n",
       "3414         AMD  Technology      0.155044    3146.764423   816.687500   \n",
       "1            AMD  Technology      0.141724    4352.305810   948.954128   \n",
       "\n",
       "      avg_retweet_count                                          word_freq  \\\n",
       "1395           2.221744  [('amd', 557), ('new', 371), ('ryzen', 298), (...   \n",
       "1541           2.330250  [('amd', 373), ('pro', 323), ('new', 320), ('r...   \n",
       "3555           4.974437  [('ryzen', 465), ('⚠️', 402), ('new', 364), ('...   \n",
       "3184           4.949895  [('aorus', 578), ('gaming', 411), ('next', 401...   \n",
       "1253           3.800418  [('ryzen', 174), ('pro', 153), ('amd', 118), (...   \n",
       "281            3.233449  [('pc', 199), ('amd', 140), ('asp:', 126), ('r...   \n",
       "2918           5.585437  [('amd', 174), ('1', 118), ('aorus', 100), ('1...   \n",
       "2322           4.728175  [('amd', 156), ('pcie', 83), ('ryzen', 80), ('...   \n",
       "2181           2.796238  [('$amd', 62), ('amd', 61), ('ryzen', 53), ('n...   \n",
       "1898           2.033981  [('new', 31), ('amd', 30), ('ryzen', 18), ('$a...   \n",
       "421            4.054441  [('$amd', 52), ('amd', 43), ('intel', 37), ('s...   \n",
       "1112          24.803571  [('dr.', 61), ('jekyll/mr.', 61), ('hyde', 61)...   \n",
       "142            3.450000  [('ryzen', 30), ('$amd', 19), ('new', 16), ('a...   \n",
       "3414           2.586538  [('$amd', 30), ('ryzen', 26), ('amd', 22), ('7...   \n",
       "1              4.712538  [('$amd', 85), ('amd', 42), ('via', 25), ('rev...   \n",
       "\n",
       "      count create_date  \n",
       "1395   2557  2020-07-14  \n",
       "1541   2162  2020-07-15  \n",
       "3555   2308  2020-07-16  \n",
       "3184   2375  2020-07-17  \n",
       "1253    957  2020-07-18  \n",
       "281     861  2020-07-19  \n",
       "2918   1030  2020-07-20  \n",
       "2322    504  2020-07-21  \n",
       "2181    319  2020-07-22  \n",
       "1898    206  2020-07-23  \n",
       "421     349  2020-07-24  \n",
       "1112    224  2020-07-25  \n",
       "142     180  2020-07-26  \n",
       "3414    208  2020-07-27  \n",
       "1       327  2020-07-28  "
      ]
     },
     "execution_count": 19,
     "metadata": {},
     "output_type": "execute_result"
    }
   ],
   "source": [
    "dffiltered"
   ]
  },
  {
   "cell_type": "code",
   "execution_count": 17,
   "metadata": {},
   "outputs": [],
   "source": [
    "fig = px.line(dffiltered, x=\"create_date\", y=\"avg_polarity\", title='Sample line Graph')"
   ]
  },
  {
   "cell_type": "code",
   "execution_count": 18,
   "metadata": {},
   "outputs": [
    {
     "data": {
      "application/vnd.plotly.v1+json": {
       "config": {
        "plotlyServerURL": "https://plot.ly"
       },
       "data": [
        {
         "hovertemplate": "create_date=%{x}<br>avg_polarity=%{y}<extra></extra>",
         "legendgroup": "",
         "line": {
          "color": "#636efa",
          "dash": "solid"
         },
         "mode": "lines",
         "name": "",
         "orientation": "v",
         "showlegend": false,
         "type": "scatter",
         "x": [
          "2020-07-14",
          "2020-07-15",
          "2020-07-16",
          "2020-07-17",
          "2020-07-18",
          "2020-07-19",
          "2020-07-20",
          "2020-07-21",
          "2020-07-22",
          "2020-07-23",
          "2020-07-24",
          "2020-07-25",
          "2020-07-26",
          "2020-07-27",
          "2020-07-28"
         ],
         "xaxis": "x",
         "y": [
          0.11492244818146286,
          0.09756623496762283,
          0.11697517331022515,
          0.2381909473684205,
          0.13313197492162973,
          0.22194889663182432,
          0.09505864077669918,
          0.16007023809523793,
          0.18651974921630093,
          0.15647815533980575,
          0.1467163323782235,
          0.11191383928571427,
          0.14087944444444442,
          0.15504374999999998,
          0.14172354740061158
         ],
         "yaxis": "y"
        }
       ],
       "layout": {
        "legend": {
         "tracegroupgap": 0
        },
        "template": {
         "data": {
          "bar": [
           {
            "error_x": {
             "color": "#2a3f5f"
            },
            "error_y": {
             "color": "#2a3f5f"
            },
            "marker": {
             "line": {
              "color": "#E5ECF6",
              "width": 0.5
             }
            },
            "type": "bar"
           }
          ],
          "barpolar": [
           {
            "marker": {
             "line": {
              "color": "#E5ECF6",
              "width": 0.5
             }
            },
            "type": "barpolar"
           }
          ],
          "carpet": [
           {
            "aaxis": {
             "endlinecolor": "#2a3f5f",
             "gridcolor": "white",
             "linecolor": "white",
             "minorgridcolor": "white",
             "startlinecolor": "#2a3f5f"
            },
            "baxis": {
             "endlinecolor": "#2a3f5f",
             "gridcolor": "white",
             "linecolor": "white",
             "minorgridcolor": "white",
             "startlinecolor": "#2a3f5f"
            },
            "type": "carpet"
           }
          ],
          "choropleth": [
           {
            "colorbar": {
             "outlinewidth": 0,
             "ticks": ""
            },
            "type": "choropleth"
           }
          ],
          "contour": [
           {
            "colorbar": {
             "outlinewidth": 0,
             "ticks": ""
            },
            "colorscale": [
             [
              0,
              "#0d0887"
             ],
             [
              0.1111111111111111,
              "#46039f"
             ],
             [
              0.2222222222222222,
              "#7201a8"
             ],
             [
              0.3333333333333333,
              "#9c179e"
             ],
             [
              0.4444444444444444,
              "#bd3786"
             ],
             [
              0.5555555555555556,
              "#d8576b"
             ],
             [
              0.6666666666666666,
              "#ed7953"
             ],
             [
              0.7777777777777778,
              "#fb9f3a"
             ],
             [
              0.8888888888888888,
              "#fdca26"
             ],
             [
              1,
              "#f0f921"
             ]
            ],
            "type": "contour"
           }
          ],
          "contourcarpet": [
           {
            "colorbar": {
             "outlinewidth": 0,
             "ticks": ""
            },
            "type": "contourcarpet"
           }
          ],
          "heatmap": [
           {
            "colorbar": {
             "outlinewidth": 0,
             "ticks": ""
            },
            "colorscale": [
             [
              0,
              "#0d0887"
             ],
             [
              0.1111111111111111,
              "#46039f"
             ],
             [
              0.2222222222222222,
              "#7201a8"
             ],
             [
              0.3333333333333333,
              "#9c179e"
             ],
             [
              0.4444444444444444,
              "#bd3786"
             ],
             [
              0.5555555555555556,
              "#d8576b"
             ],
             [
              0.6666666666666666,
              "#ed7953"
             ],
             [
              0.7777777777777778,
              "#fb9f3a"
             ],
             [
              0.8888888888888888,
              "#fdca26"
             ],
             [
              1,
              "#f0f921"
             ]
            ],
            "type": "heatmap"
           }
          ],
          "heatmapgl": [
           {
            "colorbar": {
             "outlinewidth": 0,
             "ticks": ""
            },
            "colorscale": [
             [
              0,
              "#0d0887"
             ],
             [
              0.1111111111111111,
              "#46039f"
             ],
             [
              0.2222222222222222,
              "#7201a8"
             ],
             [
              0.3333333333333333,
              "#9c179e"
             ],
             [
              0.4444444444444444,
              "#bd3786"
             ],
             [
              0.5555555555555556,
              "#d8576b"
             ],
             [
              0.6666666666666666,
              "#ed7953"
             ],
             [
              0.7777777777777778,
              "#fb9f3a"
             ],
             [
              0.8888888888888888,
              "#fdca26"
             ],
             [
              1,
              "#f0f921"
             ]
            ],
            "type": "heatmapgl"
           }
          ],
          "histogram": [
           {
            "marker": {
             "colorbar": {
              "outlinewidth": 0,
              "ticks": ""
             }
            },
            "type": "histogram"
           }
          ],
          "histogram2d": [
           {
            "colorbar": {
             "outlinewidth": 0,
             "ticks": ""
            },
            "colorscale": [
             [
              0,
              "#0d0887"
             ],
             [
              0.1111111111111111,
              "#46039f"
             ],
             [
              0.2222222222222222,
              "#7201a8"
             ],
             [
              0.3333333333333333,
              "#9c179e"
             ],
             [
              0.4444444444444444,
              "#bd3786"
             ],
             [
              0.5555555555555556,
              "#d8576b"
             ],
             [
              0.6666666666666666,
              "#ed7953"
             ],
             [
              0.7777777777777778,
              "#fb9f3a"
             ],
             [
              0.8888888888888888,
              "#fdca26"
             ],
             [
              1,
              "#f0f921"
             ]
            ],
            "type": "histogram2d"
           }
          ],
          "histogram2dcontour": [
           {
            "colorbar": {
             "outlinewidth": 0,
             "ticks": ""
            },
            "colorscale": [
             [
              0,
              "#0d0887"
             ],
             [
              0.1111111111111111,
              "#46039f"
             ],
             [
              0.2222222222222222,
              "#7201a8"
             ],
             [
              0.3333333333333333,
              "#9c179e"
             ],
             [
              0.4444444444444444,
              "#bd3786"
             ],
             [
              0.5555555555555556,
              "#d8576b"
             ],
             [
              0.6666666666666666,
              "#ed7953"
             ],
             [
              0.7777777777777778,
              "#fb9f3a"
             ],
             [
              0.8888888888888888,
              "#fdca26"
             ],
             [
              1,
              "#f0f921"
             ]
            ],
            "type": "histogram2dcontour"
           }
          ],
          "mesh3d": [
           {
            "colorbar": {
             "outlinewidth": 0,
             "ticks": ""
            },
            "type": "mesh3d"
           }
          ],
          "parcoords": [
           {
            "line": {
             "colorbar": {
              "outlinewidth": 0,
              "ticks": ""
             }
            },
            "type": "parcoords"
           }
          ],
          "pie": [
           {
            "automargin": true,
            "type": "pie"
           }
          ],
          "scatter": [
           {
            "marker": {
             "colorbar": {
              "outlinewidth": 0,
              "ticks": ""
             }
            },
            "type": "scatter"
           }
          ],
          "scatter3d": [
           {
            "line": {
             "colorbar": {
              "outlinewidth": 0,
              "ticks": ""
             }
            },
            "marker": {
             "colorbar": {
              "outlinewidth": 0,
              "ticks": ""
             }
            },
            "type": "scatter3d"
           }
          ],
          "scattercarpet": [
           {
            "marker": {
             "colorbar": {
              "outlinewidth": 0,
              "ticks": ""
             }
            },
            "type": "scattercarpet"
           }
          ],
          "scattergeo": [
           {
            "marker": {
             "colorbar": {
              "outlinewidth": 0,
              "ticks": ""
             }
            },
            "type": "scattergeo"
           }
          ],
          "scattergl": [
           {
            "marker": {
             "colorbar": {
              "outlinewidth": 0,
              "ticks": ""
             }
            },
            "type": "scattergl"
           }
          ],
          "scattermapbox": [
           {
            "marker": {
             "colorbar": {
              "outlinewidth": 0,
              "ticks": ""
             }
            },
            "type": "scattermapbox"
           }
          ],
          "scatterpolar": [
           {
            "marker": {
             "colorbar": {
              "outlinewidth": 0,
              "ticks": ""
             }
            },
            "type": "scatterpolar"
           }
          ],
          "scatterpolargl": [
           {
            "marker": {
             "colorbar": {
              "outlinewidth": 0,
              "ticks": ""
             }
            },
            "type": "scatterpolargl"
           }
          ],
          "scatterternary": [
           {
            "marker": {
             "colorbar": {
              "outlinewidth": 0,
              "ticks": ""
             }
            },
            "type": "scatterternary"
           }
          ],
          "surface": [
           {
            "colorbar": {
             "outlinewidth": 0,
             "ticks": ""
            },
            "colorscale": [
             [
              0,
              "#0d0887"
             ],
             [
              0.1111111111111111,
              "#46039f"
             ],
             [
              0.2222222222222222,
              "#7201a8"
             ],
             [
              0.3333333333333333,
              "#9c179e"
             ],
             [
              0.4444444444444444,
              "#bd3786"
             ],
             [
              0.5555555555555556,
              "#d8576b"
             ],
             [
              0.6666666666666666,
              "#ed7953"
             ],
             [
              0.7777777777777778,
              "#fb9f3a"
             ],
             [
              0.8888888888888888,
              "#fdca26"
             ],
             [
              1,
              "#f0f921"
             ]
            ],
            "type": "surface"
           }
          ],
          "table": [
           {
            "cells": {
             "fill": {
              "color": "#EBF0F8"
             },
             "line": {
              "color": "white"
             }
            },
            "header": {
             "fill": {
              "color": "#C8D4E3"
             },
             "line": {
              "color": "white"
             }
            },
            "type": "table"
           }
          ]
         },
         "layout": {
          "annotationdefaults": {
           "arrowcolor": "#2a3f5f",
           "arrowhead": 0,
           "arrowwidth": 1
          },
          "coloraxis": {
           "colorbar": {
            "outlinewidth": 0,
            "ticks": ""
           }
          },
          "colorscale": {
           "diverging": [
            [
             0,
             "#8e0152"
            ],
            [
             0.1,
             "#c51b7d"
            ],
            [
             0.2,
             "#de77ae"
            ],
            [
             0.3,
             "#f1b6da"
            ],
            [
             0.4,
             "#fde0ef"
            ],
            [
             0.5,
             "#f7f7f7"
            ],
            [
             0.6,
             "#e6f5d0"
            ],
            [
             0.7,
             "#b8e186"
            ],
            [
             0.8,
             "#7fbc41"
            ],
            [
             0.9,
             "#4d9221"
            ],
            [
             1,
             "#276419"
            ]
           ],
           "sequential": [
            [
             0,
             "#0d0887"
            ],
            [
             0.1111111111111111,
             "#46039f"
            ],
            [
             0.2222222222222222,
             "#7201a8"
            ],
            [
             0.3333333333333333,
             "#9c179e"
            ],
            [
             0.4444444444444444,
             "#bd3786"
            ],
            [
             0.5555555555555556,
             "#d8576b"
            ],
            [
             0.6666666666666666,
             "#ed7953"
            ],
            [
             0.7777777777777778,
             "#fb9f3a"
            ],
            [
             0.8888888888888888,
             "#fdca26"
            ],
            [
             1,
             "#f0f921"
            ]
           ],
           "sequentialminus": [
            [
             0,
             "#0d0887"
            ],
            [
             0.1111111111111111,
             "#46039f"
            ],
            [
             0.2222222222222222,
             "#7201a8"
            ],
            [
             0.3333333333333333,
             "#9c179e"
            ],
            [
             0.4444444444444444,
             "#bd3786"
            ],
            [
             0.5555555555555556,
             "#d8576b"
            ],
            [
             0.6666666666666666,
             "#ed7953"
            ],
            [
             0.7777777777777778,
             "#fb9f3a"
            ],
            [
             0.8888888888888888,
             "#fdca26"
            ],
            [
             1,
             "#f0f921"
            ]
           ]
          },
          "colorway": [
           "#636efa",
           "#EF553B",
           "#00cc96",
           "#ab63fa",
           "#FFA15A",
           "#19d3f3",
           "#FF6692",
           "#B6E880",
           "#FF97FF",
           "#FECB52"
          ],
          "font": {
           "color": "#2a3f5f"
          },
          "geo": {
           "bgcolor": "white",
           "lakecolor": "white",
           "landcolor": "#E5ECF6",
           "showlakes": true,
           "showland": true,
           "subunitcolor": "white"
          },
          "hoverlabel": {
           "align": "left"
          },
          "hovermode": "closest",
          "mapbox": {
           "style": "light"
          },
          "paper_bgcolor": "white",
          "plot_bgcolor": "#E5ECF6",
          "polar": {
           "angularaxis": {
            "gridcolor": "white",
            "linecolor": "white",
            "ticks": ""
           },
           "bgcolor": "#E5ECF6",
           "radialaxis": {
            "gridcolor": "white",
            "linecolor": "white",
            "ticks": ""
           }
          },
          "scene": {
           "xaxis": {
            "backgroundcolor": "#E5ECF6",
            "gridcolor": "white",
            "gridwidth": 2,
            "linecolor": "white",
            "showbackground": true,
            "ticks": "",
            "zerolinecolor": "white"
           },
           "yaxis": {
            "backgroundcolor": "#E5ECF6",
            "gridcolor": "white",
            "gridwidth": 2,
            "linecolor": "white",
            "showbackground": true,
            "ticks": "",
            "zerolinecolor": "white"
           },
           "zaxis": {
            "backgroundcolor": "#E5ECF6",
            "gridcolor": "white",
            "gridwidth": 2,
            "linecolor": "white",
            "showbackground": true,
            "ticks": "",
            "zerolinecolor": "white"
           }
          },
          "shapedefaults": {
           "line": {
            "color": "#2a3f5f"
           }
          },
          "ternary": {
           "aaxis": {
            "gridcolor": "white",
            "linecolor": "white",
            "ticks": ""
           },
           "baxis": {
            "gridcolor": "white",
            "linecolor": "white",
            "ticks": ""
           },
           "bgcolor": "#E5ECF6",
           "caxis": {
            "gridcolor": "white",
            "linecolor": "white",
            "ticks": ""
           }
          },
          "title": {
           "x": 0.05
          },
          "xaxis": {
           "automargin": true,
           "gridcolor": "white",
           "linecolor": "white",
           "ticks": "",
           "title": {
            "standoff": 15
           },
           "zerolinecolor": "white",
           "zerolinewidth": 2
          },
          "yaxis": {
           "automargin": true,
           "gridcolor": "white",
           "linecolor": "white",
           "ticks": "",
           "title": {
            "standoff": 15
           },
           "zerolinecolor": "white",
           "zerolinewidth": 2
          }
         }
        },
        "title": {
         "text": "Sample line Graph"
        },
        "xaxis": {
         "anchor": "y",
         "domain": [
          0,
          1
         ],
         "title": {
          "text": "create_date"
         }
        },
        "yaxis": {
         "anchor": "x",
         "domain": [
          0,
          1
         ],
         "title": {
          "text": "avg_polarity"
         }
        }
       }
      },
      "text/html": [
       "<div>\n",
       "        \n",
       "        \n",
       "            <div id=\"30a437d6-befe-4124-ae51-6a047dcee182\" class=\"plotly-graph-div\" style=\"height:525px; width:100%;\"></div>\n",
       "            <script type=\"text/javascript\">\n",
       "                require([\"plotly\"], function(Plotly) {\n",
       "                    window.PLOTLYENV=window.PLOTLYENV || {};\n",
       "                    \n",
       "                if (document.getElementById(\"30a437d6-befe-4124-ae51-6a047dcee182\")) {\n",
       "                    Plotly.newPlot(\n",
       "                        '30a437d6-befe-4124-ae51-6a047dcee182',\n",
       "                        [{\"hovertemplate\": \"create_date=%{x}<br>avg_polarity=%{y}<extra></extra>\", \"legendgroup\": \"\", \"line\": {\"color\": \"#636efa\", \"dash\": \"solid\"}, \"mode\": \"lines\", \"name\": \"\", \"orientation\": \"v\", \"showlegend\": false, \"type\": \"scatter\", \"x\": [\"2020-07-14\", \"2020-07-15\", \"2020-07-16\", \"2020-07-17\", \"2020-07-18\", \"2020-07-19\", \"2020-07-20\", \"2020-07-21\", \"2020-07-22\", \"2020-07-23\", \"2020-07-24\", \"2020-07-25\", \"2020-07-26\", \"2020-07-27\", \"2020-07-28\"], \"xaxis\": \"x\", \"y\": [0.11492244818146286, 0.09756623496762283, 0.11697517331022515, 0.2381909473684205, 0.13313197492162973, 0.22194889663182432, 0.09505864077669918, 0.16007023809523793, 0.18651974921630093, 0.15647815533980575, 0.1467163323782235, 0.11191383928571427, 0.14087944444444442, 0.15504374999999998, 0.14172354740061158], \"yaxis\": \"y\"}],\n",
       "                        {\"legend\": {\"tracegroupgap\": 0}, \"template\": {\"data\": {\"bar\": [{\"error_x\": {\"color\": \"#2a3f5f\"}, \"error_y\": {\"color\": \"#2a3f5f\"}, \"marker\": {\"line\": {\"color\": \"#E5ECF6\", \"width\": 0.5}}, \"type\": \"bar\"}], \"barpolar\": [{\"marker\": {\"line\": {\"color\": \"#E5ECF6\", \"width\": 0.5}}, \"type\": \"barpolar\"}], \"carpet\": [{\"aaxis\": {\"endlinecolor\": \"#2a3f5f\", \"gridcolor\": \"white\", \"linecolor\": \"white\", \"minorgridcolor\": \"white\", \"startlinecolor\": \"#2a3f5f\"}, \"baxis\": {\"endlinecolor\": \"#2a3f5f\", \"gridcolor\": \"white\", \"linecolor\": \"white\", \"minorgridcolor\": \"white\", \"startlinecolor\": \"#2a3f5f\"}, \"type\": \"carpet\"}], \"choropleth\": [{\"colorbar\": {\"outlinewidth\": 0, \"ticks\": \"\"}, \"type\": \"choropleth\"}], \"contour\": [{\"colorbar\": {\"outlinewidth\": 0, \"ticks\": \"\"}, \"colorscale\": [[0.0, \"#0d0887\"], [0.1111111111111111, \"#46039f\"], [0.2222222222222222, \"#7201a8\"], [0.3333333333333333, \"#9c179e\"], [0.4444444444444444, \"#bd3786\"], [0.5555555555555556, \"#d8576b\"], [0.6666666666666666, \"#ed7953\"], [0.7777777777777778, \"#fb9f3a\"], [0.8888888888888888, \"#fdca26\"], [1.0, \"#f0f921\"]], \"type\": \"contour\"}], \"contourcarpet\": [{\"colorbar\": {\"outlinewidth\": 0, \"ticks\": \"\"}, \"type\": \"contourcarpet\"}], \"heatmap\": [{\"colorbar\": {\"outlinewidth\": 0, \"ticks\": \"\"}, \"colorscale\": [[0.0, \"#0d0887\"], [0.1111111111111111, \"#46039f\"], [0.2222222222222222, \"#7201a8\"], [0.3333333333333333, \"#9c179e\"], [0.4444444444444444, \"#bd3786\"], [0.5555555555555556, \"#d8576b\"], [0.6666666666666666, \"#ed7953\"], [0.7777777777777778, \"#fb9f3a\"], [0.8888888888888888, \"#fdca26\"], [1.0, \"#f0f921\"]], \"type\": \"heatmap\"}], \"heatmapgl\": [{\"colorbar\": {\"outlinewidth\": 0, \"ticks\": \"\"}, \"colorscale\": [[0.0, \"#0d0887\"], [0.1111111111111111, \"#46039f\"], [0.2222222222222222, \"#7201a8\"], [0.3333333333333333, \"#9c179e\"], [0.4444444444444444, \"#bd3786\"], [0.5555555555555556, \"#d8576b\"], [0.6666666666666666, \"#ed7953\"], [0.7777777777777778, \"#fb9f3a\"], [0.8888888888888888, \"#fdca26\"], [1.0, \"#f0f921\"]], \"type\": \"heatmapgl\"}], \"histogram\": [{\"marker\": {\"colorbar\": {\"outlinewidth\": 0, \"ticks\": \"\"}}, \"type\": \"histogram\"}], \"histogram2d\": [{\"colorbar\": {\"outlinewidth\": 0, \"ticks\": \"\"}, \"colorscale\": [[0.0, \"#0d0887\"], [0.1111111111111111, \"#46039f\"], [0.2222222222222222, \"#7201a8\"], [0.3333333333333333, \"#9c179e\"], [0.4444444444444444, \"#bd3786\"], [0.5555555555555556, \"#d8576b\"], [0.6666666666666666, \"#ed7953\"], [0.7777777777777778, \"#fb9f3a\"], [0.8888888888888888, \"#fdca26\"], [1.0, \"#f0f921\"]], \"type\": \"histogram2d\"}], \"histogram2dcontour\": [{\"colorbar\": {\"outlinewidth\": 0, \"ticks\": \"\"}, \"colorscale\": [[0.0, \"#0d0887\"], [0.1111111111111111, \"#46039f\"], [0.2222222222222222, \"#7201a8\"], [0.3333333333333333, \"#9c179e\"], [0.4444444444444444, \"#bd3786\"], [0.5555555555555556, \"#d8576b\"], [0.6666666666666666, \"#ed7953\"], [0.7777777777777778, \"#fb9f3a\"], [0.8888888888888888, \"#fdca26\"], [1.0, \"#f0f921\"]], \"type\": \"histogram2dcontour\"}], \"mesh3d\": [{\"colorbar\": {\"outlinewidth\": 0, \"ticks\": \"\"}, \"type\": \"mesh3d\"}], \"parcoords\": [{\"line\": {\"colorbar\": {\"outlinewidth\": 0, \"ticks\": \"\"}}, \"type\": \"parcoords\"}], \"pie\": [{\"automargin\": true, \"type\": \"pie\"}], \"scatter\": [{\"marker\": {\"colorbar\": {\"outlinewidth\": 0, \"ticks\": \"\"}}, \"type\": \"scatter\"}], \"scatter3d\": [{\"line\": {\"colorbar\": {\"outlinewidth\": 0, \"ticks\": \"\"}}, \"marker\": {\"colorbar\": {\"outlinewidth\": 0, \"ticks\": \"\"}}, \"type\": \"scatter3d\"}], \"scattercarpet\": [{\"marker\": {\"colorbar\": {\"outlinewidth\": 0, \"ticks\": \"\"}}, \"type\": \"scattercarpet\"}], \"scattergeo\": [{\"marker\": {\"colorbar\": {\"outlinewidth\": 0, \"ticks\": \"\"}}, \"type\": \"scattergeo\"}], \"scattergl\": [{\"marker\": {\"colorbar\": {\"outlinewidth\": 0, \"ticks\": \"\"}}, \"type\": \"scattergl\"}], \"scattermapbox\": [{\"marker\": {\"colorbar\": {\"outlinewidth\": 0, \"ticks\": \"\"}}, \"type\": \"scattermapbox\"}], \"scatterpolar\": [{\"marker\": {\"colorbar\": {\"outlinewidth\": 0, \"ticks\": \"\"}}, \"type\": \"scatterpolar\"}], \"scatterpolargl\": [{\"marker\": {\"colorbar\": {\"outlinewidth\": 0, \"ticks\": \"\"}}, \"type\": \"scatterpolargl\"}], \"scatterternary\": [{\"marker\": {\"colorbar\": {\"outlinewidth\": 0, \"ticks\": \"\"}}, \"type\": \"scatterternary\"}], \"surface\": [{\"colorbar\": {\"outlinewidth\": 0, \"ticks\": \"\"}, \"colorscale\": [[0.0, \"#0d0887\"], [0.1111111111111111, \"#46039f\"], [0.2222222222222222, \"#7201a8\"], [0.3333333333333333, \"#9c179e\"], [0.4444444444444444, \"#bd3786\"], [0.5555555555555556, \"#d8576b\"], [0.6666666666666666, \"#ed7953\"], [0.7777777777777778, \"#fb9f3a\"], [0.8888888888888888, \"#fdca26\"], [1.0, \"#f0f921\"]], \"type\": \"surface\"}], \"table\": [{\"cells\": {\"fill\": {\"color\": \"#EBF0F8\"}, \"line\": {\"color\": \"white\"}}, \"header\": {\"fill\": {\"color\": \"#C8D4E3\"}, \"line\": {\"color\": \"white\"}}, \"type\": \"table\"}]}, \"layout\": {\"annotationdefaults\": {\"arrowcolor\": \"#2a3f5f\", \"arrowhead\": 0, \"arrowwidth\": 1}, \"coloraxis\": {\"colorbar\": {\"outlinewidth\": 0, \"ticks\": \"\"}}, \"colorscale\": {\"diverging\": [[0, \"#8e0152\"], [0.1, \"#c51b7d\"], [0.2, \"#de77ae\"], [0.3, \"#f1b6da\"], [0.4, \"#fde0ef\"], [0.5, \"#f7f7f7\"], [0.6, \"#e6f5d0\"], [0.7, \"#b8e186\"], [0.8, \"#7fbc41\"], [0.9, \"#4d9221\"], [1, \"#276419\"]], \"sequential\": [[0.0, \"#0d0887\"], [0.1111111111111111, \"#46039f\"], [0.2222222222222222, \"#7201a8\"], [0.3333333333333333, \"#9c179e\"], [0.4444444444444444, \"#bd3786\"], [0.5555555555555556, \"#d8576b\"], [0.6666666666666666, \"#ed7953\"], [0.7777777777777778, \"#fb9f3a\"], [0.8888888888888888, \"#fdca26\"], [1.0, \"#f0f921\"]], \"sequentialminus\": [[0.0, \"#0d0887\"], [0.1111111111111111, \"#46039f\"], [0.2222222222222222, \"#7201a8\"], [0.3333333333333333, \"#9c179e\"], [0.4444444444444444, \"#bd3786\"], [0.5555555555555556, \"#d8576b\"], [0.6666666666666666, \"#ed7953\"], [0.7777777777777778, \"#fb9f3a\"], [0.8888888888888888, \"#fdca26\"], [1.0, \"#f0f921\"]]}, \"colorway\": [\"#636efa\", \"#EF553B\", \"#00cc96\", \"#ab63fa\", \"#FFA15A\", \"#19d3f3\", \"#FF6692\", \"#B6E880\", \"#FF97FF\", \"#FECB52\"], \"font\": {\"color\": \"#2a3f5f\"}, \"geo\": {\"bgcolor\": \"white\", \"lakecolor\": \"white\", \"landcolor\": \"#E5ECF6\", \"showlakes\": true, \"showland\": true, \"subunitcolor\": \"white\"}, \"hoverlabel\": {\"align\": \"left\"}, \"hovermode\": \"closest\", \"mapbox\": {\"style\": \"light\"}, \"paper_bgcolor\": \"white\", \"plot_bgcolor\": \"#E5ECF6\", \"polar\": {\"angularaxis\": {\"gridcolor\": \"white\", \"linecolor\": \"white\", \"ticks\": \"\"}, \"bgcolor\": \"#E5ECF6\", \"radialaxis\": {\"gridcolor\": \"white\", \"linecolor\": \"white\", \"ticks\": \"\"}}, \"scene\": {\"xaxis\": {\"backgroundcolor\": \"#E5ECF6\", \"gridcolor\": \"white\", \"gridwidth\": 2, \"linecolor\": \"white\", \"showbackground\": true, \"ticks\": \"\", \"zerolinecolor\": \"white\"}, \"yaxis\": {\"backgroundcolor\": \"#E5ECF6\", \"gridcolor\": \"white\", \"gridwidth\": 2, \"linecolor\": \"white\", \"showbackground\": true, \"ticks\": \"\", \"zerolinecolor\": \"white\"}, \"zaxis\": {\"backgroundcolor\": \"#E5ECF6\", \"gridcolor\": \"white\", \"gridwidth\": 2, \"linecolor\": \"white\", \"showbackground\": true, \"ticks\": \"\", \"zerolinecolor\": \"white\"}}, \"shapedefaults\": {\"line\": {\"color\": \"#2a3f5f\"}}, \"ternary\": {\"aaxis\": {\"gridcolor\": \"white\", \"linecolor\": \"white\", \"ticks\": \"\"}, \"baxis\": {\"gridcolor\": \"white\", \"linecolor\": \"white\", \"ticks\": \"\"}, \"bgcolor\": \"#E5ECF6\", \"caxis\": {\"gridcolor\": \"white\", \"linecolor\": \"white\", \"ticks\": \"\"}}, \"title\": {\"x\": 0.05}, \"xaxis\": {\"automargin\": true, \"gridcolor\": \"white\", \"linecolor\": \"white\", \"ticks\": \"\", \"title\": {\"standoff\": 15}, \"zerolinecolor\": \"white\", \"zerolinewidth\": 2}, \"yaxis\": {\"automargin\": true, \"gridcolor\": \"white\", \"linecolor\": \"white\", \"ticks\": \"\", \"title\": {\"standoff\": 15}, \"zerolinecolor\": \"white\", \"zerolinewidth\": 2}}}, \"title\": {\"text\": \"Sample line Graph\"}, \"xaxis\": {\"anchor\": \"y\", \"domain\": [0.0, 1.0], \"title\": {\"text\": \"create_date\"}}, \"yaxis\": {\"anchor\": \"x\", \"domain\": [0.0, 1.0], \"title\": {\"text\": \"avg_polarity\"}}},\n",
       "                        {\"responsive\": true}\n",
       "                    ).then(function(){\n",
       "                            \n",
       "var gd = document.getElementById('30a437d6-befe-4124-ae51-6a047dcee182');\n",
       "var x = new MutationObserver(function (mutations, observer) {{\n",
       "        var display = window.getComputedStyle(gd).display;\n",
       "        if (!display || display === 'none') {{\n",
       "            console.log([gd, 'removed!']);\n",
       "            Plotly.purge(gd);\n",
       "            observer.disconnect();\n",
       "        }}\n",
       "}});\n",
       "\n",
       "// Listen for the removal of the full notebook cells\n",
       "var notebookContainer = gd.closest('#notebook-container');\n",
       "if (notebookContainer) {{\n",
       "    x.observe(notebookContainer, {childList: true});\n",
       "}}\n",
       "\n",
       "// Listen for the clearing of the current output cell\n",
       "var outputEl = gd.closest('.output');\n",
       "if (outputEl) {{\n",
       "    x.observe(outputEl, {childList: true});\n",
       "}}\n",
       "\n",
       "                        })\n",
       "                };\n",
       "                });\n",
       "            </script>\n",
       "        </div>"
      ]
     },
     "metadata": {},
     "output_type": "display_data"
    }
   ],
   "source": [
    "fig.show()"
   ]
  },
  {
   "cell_type": "markdown",
   "metadata": {},
   "source": [
    "## Horizontal bar chart of words"
   ]
  },
  {
   "cell_type": "code",
   "execution_count": 31,
   "metadata": {},
   "outputs": [],
   "source": [
    "date_selected='2020-07-20'\n",
    "df_wordthatdate=dffiltered[dffiltered['create_date']==date_selected]"
   ]
  },
  {
   "cell_type": "code",
   "execution_count": 38,
   "metadata": {},
   "outputs": [],
   "source": [
    "word_freq_str=df_wordthatdate['word_freq'].iloc[0]\n",
    "word_freq_arr=ast.literal_eval(word_freq_str)"
   ]
  },
  {
   "cell_type": "code",
   "execution_count": 39,
   "metadata": {},
   "outputs": [
    {
     "data": {
      "text/plain": [
       "[('amd', 174),\n",
       " ('1', 118),\n",
       " ('aorus', 100),\n",
       " ('10', 99),\n",
       " ('7nm', 98),\n",
       " ('lot', 93),\n",
       " ('conflicting', 93),\n",
       " ('rumors', 93),\n",
       " ('going', 93),\n",
       " ('8nm.', 93),\n",
       " ('well,', 93),\n",
       " ('bad', 93),\n",
       " ('new', 92),\n",
       " ('rx', 90),\n",
       " ('new…', 88),\n",
       " ('5700', 86),\n",
       " ('xt', 86),\n",
       " ('build', 85),\n",
       " ('ryzen', 81),\n",
       " ('✨you', 81),\n",
       " ('ask', 81),\n",
       " ('ya', 81),\n",
       " ('go!', 81),\n",
       " ('💯rate', 81),\n",
       " ('gpu!', 81),\n",
       " ('🛒shop', 81),\n",
       " ('🚨', 80),\n",
       " ('google', 78),\n",
       " ('confidential', 78),\n",
       " ('computing', 78)]"
      ]
     },
     "execution_count": 39,
     "metadata": {},
     "output_type": "execute_result"
    }
   ],
   "source": [
    "word_freq_arr"
   ]
  },
  {
   "cell_type": "code",
   "execution_count": 41,
   "metadata": {},
   "outputs": [],
   "source": [
    "df_wf=pd.DataFrame(word_freq_arr,columns=['word','freq'])"
   ]
  },
  {
   "cell_type": "code",
   "execution_count": 47,
   "metadata": {},
   "outputs": [],
   "source": [
    "df_wf=df_wf.sort_values(by=['freq'],ascending=True)"
   ]
  },
  {
   "cell_type": "code",
   "execution_count": 48,
   "metadata": {},
   "outputs": [
    {
     "data": {
      "application/vnd.plotly.v1+json": {
       "config": {
        "plotlyServerURL": "https://plot.ly"
       },
       "data": [
        {
         "alignmentgroup": "True",
         "hovertemplate": "freq=%{x}<br>word=%{y}<extra></extra>",
         "legendgroup": "",
         "marker": {
          "color": "#636efa"
         },
         "name": "",
         "offsetgroup": "",
         "orientation": "h",
         "showlegend": false,
         "textposition": "auto",
         "type": "bar",
         "x": [
          78,
          78,
          78,
          80,
          81,
          81,
          81,
          81,
          81,
          81,
          81,
          81,
          85,
          86,
          86,
          88,
          90,
          92,
          93,
          93,
          93,
          93,
          93,
          93,
          93,
          98,
          99,
          100,
          118,
          174
         ],
         "xaxis": "x",
         "y": [
          "computing",
          "google",
          "confidential",
          "🚨",
          "🛒shop",
          "gpu!",
          "💯rate",
          "go!",
          "ya",
          "ask",
          "✨you",
          "ryzen",
          "build",
          "xt",
          "5700",
          "new…",
          "rx",
          "new",
          "bad",
          "well,",
          "8nm.",
          "going",
          "rumors",
          "conflicting",
          "lot",
          "7nm",
          "10",
          "aorus",
          "1",
          "amd"
         ],
         "yaxis": "y"
        }
       ],
       "layout": {
        "barmode": "relative",
        "legend": {
         "tracegroupgap": 0
        },
        "margin": {
         "t": 60
        },
        "template": {
         "data": {
          "bar": [
           {
            "error_x": {
             "color": "#2a3f5f"
            },
            "error_y": {
             "color": "#2a3f5f"
            },
            "marker": {
             "line": {
              "color": "#E5ECF6",
              "width": 0.5
             }
            },
            "type": "bar"
           }
          ],
          "barpolar": [
           {
            "marker": {
             "line": {
              "color": "#E5ECF6",
              "width": 0.5
             }
            },
            "type": "barpolar"
           }
          ],
          "carpet": [
           {
            "aaxis": {
             "endlinecolor": "#2a3f5f",
             "gridcolor": "white",
             "linecolor": "white",
             "minorgridcolor": "white",
             "startlinecolor": "#2a3f5f"
            },
            "baxis": {
             "endlinecolor": "#2a3f5f",
             "gridcolor": "white",
             "linecolor": "white",
             "minorgridcolor": "white",
             "startlinecolor": "#2a3f5f"
            },
            "type": "carpet"
           }
          ],
          "choropleth": [
           {
            "colorbar": {
             "outlinewidth": 0,
             "ticks": ""
            },
            "type": "choropleth"
           }
          ],
          "contour": [
           {
            "colorbar": {
             "outlinewidth": 0,
             "ticks": ""
            },
            "colorscale": [
             [
              0,
              "#0d0887"
             ],
             [
              0.1111111111111111,
              "#46039f"
             ],
             [
              0.2222222222222222,
              "#7201a8"
             ],
             [
              0.3333333333333333,
              "#9c179e"
             ],
             [
              0.4444444444444444,
              "#bd3786"
             ],
             [
              0.5555555555555556,
              "#d8576b"
             ],
             [
              0.6666666666666666,
              "#ed7953"
             ],
             [
              0.7777777777777778,
              "#fb9f3a"
             ],
             [
              0.8888888888888888,
              "#fdca26"
             ],
             [
              1,
              "#f0f921"
             ]
            ],
            "type": "contour"
           }
          ],
          "contourcarpet": [
           {
            "colorbar": {
             "outlinewidth": 0,
             "ticks": ""
            },
            "type": "contourcarpet"
           }
          ],
          "heatmap": [
           {
            "colorbar": {
             "outlinewidth": 0,
             "ticks": ""
            },
            "colorscale": [
             [
              0,
              "#0d0887"
             ],
             [
              0.1111111111111111,
              "#46039f"
             ],
             [
              0.2222222222222222,
              "#7201a8"
             ],
             [
              0.3333333333333333,
              "#9c179e"
             ],
             [
              0.4444444444444444,
              "#bd3786"
             ],
             [
              0.5555555555555556,
              "#d8576b"
             ],
             [
              0.6666666666666666,
              "#ed7953"
             ],
             [
              0.7777777777777778,
              "#fb9f3a"
             ],
             [
              0.8888888888888888,
              "#fdca26"
             ],
             [
              1,
              "#f0f921"
             ]
            ],
            "type": "heatmap"
           }
          ],
          "heatmapgl": [
           {
            "colorbar": {
             "outlinewidth": 0,
             "ticks": ""
            },
            "colorscale": [
             [
              0,
              "#0d0887"
             ],
             [
              0.1111111111111111,
              "#46039f"
             ],
             [
              0.2222222222222222,
              "#7201a8"
             ],
             [
              0.3333333333333333,
              "#9c179e"
             ],
             [
              0.4444444444444444,
              "#bd3786"
             ],
             [
              0.5555555555555556,
              "#d8576b"
             ],
             [
              0.6666666666666666,
              "#ed7953"
             ],
             [
              0.7777777777777778,
              "#fb9f3a"
             ],
             [
              0.8888888888888888,
              "#fdca26"
             ],
             [
              1,
              "#f0f921"
             ]
            ],
            "type": "heatmapgl"
           }
          ],
          "histogram": [
           {
            "marker": {
             "colorbar": {
              "outlinewidth": 0,
              "ticks": ""
             }
            },
            "type": "histogram"
           }
          ],
          "histogram2d": [
           {
            "colorbar": {
             "outlinewidth": 0,
             "ticks": ""
            },
            "colorscale": [
             [
              0,
              "#0d0887"
             ],
             [
              0.1111111111111111,
              "#46039f"
             ],
             [
              0.2222222222222222,
              "#7201a8"
             ],
             [
              0.3333333333333333,
              "#9c179e"
             ],
             [
              0.4444444444444444,
              "#bd3786"
             ],
             [
              0.5555555555555556,
              "#d8576b"
             ],
             [
              0.6666666666666666,
              "#ed7953"
             ],
             [
              0.7777777777777778,
              "#fb9f3a"
             ],
             [
              0.8888888888888888,
              "#fdca26"
             ],
             [
              1,
              "#f0f921"
             ]
            ],
            "type": "histogram2d"
           }
          ],
          "histogram2dcontour": [
           {
            "colorbar": {
             "outlinewidth": 0,
             "ticks": ""
            },
            "colorscale": [
             [
              0,
              "#0d0887"
             ],
             [
              0.1111111111111111,
              "#46039f"
             ],
             [
              0.2222222222222222,
              "#7201a8"
             ],
             [
              0.3333333333333333,
              "#9c179e"
             ],
             [
              0.4444444444444444,
              "#bd3786"
             ],
             [
              0.5555555555555556,
              "#d8576b"
             ],
             [
              0.6666666666666666,
              "#ed7953"
             ],
             [
              0.7777777777777778,
              "#fb9f3a"
             ],
             [
              0.8888888888888888,
              "#fdca26"
             ],
             [
              1,
              "#f0f921"
             ]
            ],
            "type": "histogram2dcontour"
           }
          ],
          "mesh3d": [
           {
            "colorbar": {
             "outlinewidth": 0,
             "ticks": ""
            },
            "type": "mesh3d"
           }
          ],
          "parcoords": [
           {
            "line": {
             "colorbar": {
              "outlinewidth": 0,
              "ticks": ""
             }
            },
            "type": "parcoords"
           }
          ],
          "pie": [
           {
            "automargin": true,
            "type": "pie"
           }
          ],
          "scatter": [
           {
            "marker": {
             "colorbar": {
              "outlinewidth": 0,
              "ticks": ""
             }
            },
            "type": "scatter"
           }
          ],
          "scatter3d": [
           {
            "line": {
             "colorbar": {
              "outlinewidth": 0,
              "ticks": ""
             }
            },
            "marker": {
             "colorbar": {
              "outlinewidth": 0,
              "ticks": ""
             }
            },
            "type": "scatter3d"
           }
          ],
          "scattercarpet": [
           {
            "marker": {
             "colorbar": {
              "outlinewidth": 0,
              "ticks": ""
             }
            },
            "type": "scattercarpet"
           }
          ],
          "scattergeo": [
           {
            "marker": {
             "colorbar": {
              "outlinewidth": 0,
              "ticks": ""
             }
            },
            "type": "scattergeo"
           }
          ],
          "scattergl": [
           {
            "marker": {
             "colorbar": {
              "outlinewidth": 0,
              "ticks": ""
             }
            },
            "type": "scattergl"
           }
          ],
          "scattermapbox": [
           {
            "marker": {
             "colorbar": {
              "outlinewidth": 0,
              "ticks": ""
             }
            },
            "type": "scattermapbox"
           }
          ],
          "scatterpolar": [
           {
            "marker": {
             "colorbar": {
              "outlinewidth": 0,
              "ticks": ""
             }
            },
            "type": "scatterpolar"
           }
          ],
          "scatterpolargl": [
           {
            "marker": {
             "colorbar": {
              "outlinewidth": 0,
              "ticks": ""
             }
            },
            "type": "scatterpolargl"
           }
          ],
          "scatterternary": [
           {
            "marker": {
             "colorbar": {
              "outlinewidth": 0,
              "ticks": ""
             }
            },
            "type": "scatterternary"
           }
          ],
          "surface": [
           {
            "colorbar": {
             "outlinewidth": 0,
             "ticks": ""
            },
            "colorscale": [
             [
              0,
              "#0d0887"
             ],
             [
              0.1111111111111111,
              "#46039f"
             ],
             [
              0.2222222222222222,
              "#7201a8"
             ],
             [
              0.3333333333333333,
              "#9c179e"
             ],
             [
              0.4444444444444444,
              "#bd3786"
             ],
             [
              0.5555555555555556,
              "#d8576b"
             ],
             [
              0.6666666666666666,
              "#ed7953"
             ],
             [
              0.7777777777777778,
              "#fb9f3a"
             ],
             [
              0.8888888888888888,
              "#fdca26"
             ],
             [
              1,
              "#f0f921"
             ]
            ],
            "type": "surface"
           }
          ],
          "table": [
           {
            "cells": {
             "fill": {
              "color": "#EBF0F8"
             },
             "line": {
              "color": "white"
             }
            },
            "header": {
             "fill": {
              "color": "#C8D4E3"
             },
             "line": {
              "color": "white"
             }
            },
            "type": "table"
           }
          ]
         },
         "layout": {
          "annotationdefaults": {
           "arrowcolor": "#2a3f5f",
           "arrowhead": 0,
           "arrowwidth": 1
          },
          "coloraxis": {
           "colorbar": {
            "outlinewidth": 0,
            "ticks": ""
           }
          },
          "colorscale": {
           "diverging": [
            [
             0,
             "#8e0152"
            ],
            [
             0.1,
             "#c51b7d"
            ],
            [
             0.2,
             "#de77ae"
            ],
            [
             0.3,
             "#f1b6da"
            ],
            [
             0.4,
             "#fde0ef"
            ],
            [
             0.5,
             "#f7f7f7"
            ],
            [
             0.6,
             "#e6f5d0"
            ],
            [
             0.7,
             "#b8e186"
            ],
            [
             0.8,
             "#7fbc41"
            ],
            [
             0.9,
             "#4d9221"
            ],
            [
             1,
             "#276419"
            ]
           ],
           "sequential": [
            [
             0,
             "#0d0887"
            ],
            [
             0.1111111111111111,
             "#46039f"
            ],
            [
             0.2222222222222222,
             "#7201a8"
            ],
            [
             0.3333333333333333,
             "#9c179e"
            ],
            [
             0.4444444444444444,
             "#bd3786"
            ],
            [
             0.5555555555555556,
             "#d8576b"
            ],
            [
             0.6666666666666666,
             "#ed7953"
            ],
            [
             0.7777777777777778,
             "#fb9f3a"
            ],
            [
             0.8888888888888888,
             "#fdca26"
            ],
            [
             1,
             "#f0f921"
            ]
           ],
           "sequentialminus": [
            [
             0,
             "#0d0887"
            ],
            [
             0.1111111111111111,
             "#46039f"
            ],
            [
             0.2222222222222222,
             "#7201a8"
            ],
            [
             0.3333333333333333,
             "#9c179e"
            ],
            [
             0.4444444444444444,
             "#bd3786"
            ],
            [
             0.5555555555555556,
             "#d8576b"
            ],
            [
             0.6666666666666666,
             "#ed7953"
            ],
            [
             0.7777777777777778,
             "#fb9f3a"
            ],
            [
             0.8888888888888888,
             "#fdca26"
            ],
            [
             1,
             "#f0f921"
            ]
           ]
          },
          "colorway": [
           "#636efa",
           "#EF553B",
           "#00cc96",
           "#ab63fa",
           "#FFA15A",
           "#19d3f3",
           "#FF6692",
           "#B6E880",
           "#FF97FF",
           "#FECB52"
          ],
          "font": {
           "color": "#2a3f5f"
          },
          "geo": {
           "bgcolor": "white",
           "lakecolor": "white",
           "landcolor": "#E5ECF6",
           "showlakes": true,
           "showland": true,
           "subunitcolor": "white"
          },
          "hoverlabel": {
           "align": "left"
          },
          "hovermode": "closest",
          "mapbox": {
           "style": "light"
          },
          "paper_bgcolor": "white",
          "plot_bgcolor": "#E5ECF6",
          "polar": {
           "angularaxis": {
            "gridcolor": "white",
            "linecolor": "white",
            "ticks": ""
           },
           "bgcolor": "#E5ECF6",
           "radialaxis": {
            "gridcolor": "white",
            "linecolor": "white",
            "ticks": ""
           }
          },
          "scene": {
           "xaxis": {
            "backgroundcolor": "#E5ECF6",
            "gridcolor": "white",
            "gridwidth": 2,
            "linecolor": "white",
            "showbackground": true,
            "ticks": "",
            "zerolinecolor": "white"
           },
           "yaxis": {
            "backgroundcolor": "#E5ECF6",
            "gridcolor": "white",
            "gridwidth": 2,
            "linecolor": "white",
            "showbackground": true,
            "ticks": "",
            "zerolinecolor": "white"
           },
           "zaxis": {
            "backgroundcolor": "#E5ECF6",
            "gridcolor": "white",
            "gridwidth": 2,
            "linecolor": "white",
            "showbackground": true,
            "ticks": "",
            "zerolinecolor": "white"
           }
          },
          "shapedefaults": {
           "line": {
            "color": "#2a3f5f"
           }
          },
          "ternary": {
           "aaxis": {
            "gridcolor": "white",
            "linecolor": "white",
            "ticks": ""
           },
           "baxis": {
            "gridcolor": "white",
            "linecolor": "white",
            "ticks": ""
           },
           "bgcolor": "#E5ECF6",
           "caxis": {
            "gridcolor": "white",
            "linecolor": "white",
            "ticks": ""
           }
          },
          "title": {
           "x": 0.05
          },
          "xaxis": {
           "automargin": true,
           "gridcolor": "white",
           "linecolor": "white",
           "ticks": "",
           "title": {
            "standoff": 15
           },
           "zerolinecolor": "white",
           "zerolinewidth": 2
          },
          "yaxis": {
           "automargin": true,
           "gridcolor": "white",
           "linecolor": "white",
           "ticks": "",
           "title": {
            "standoff": 15
           },
           "zerolinecolor": "white",
           "zerolinewidth": 2
          }
         }
        },
        "xaxis": {
         "anchor": "y",
         "domain": [
          0,
          1
         ],
         "title": {
          "text": "freq"
         }
        },
        "yaxis": {
         "anchor": "x",
         "domain": [
          0,
          1
         ],
         "title": {
          "text": "word"
         }
        }
       }
      },
      "text/html": [
       "<div>\n",
       "        \n",
       "        \n",
       "            <div id=\"2b721639-26af-4e43-9c35-3ae17eb9dadb\" class=\"plotly-graph-div\" style=\"height:525px; width:100%;\"></div>\n",
       "            <script type=\"text/javascript\">\n",
       "                require([\"plotly\"], function(Plotly) {\n",
       "                    window.PLOTLYENV=window.PLOTLYENV || {};\n",
       "                    \n",
       "                if (document.getElementById(\"2b721639-26af-4e43-9c35-3ae17eb9dadb\")) {\n",
       "                    Plotly.newPlot(\n",
       "                        '2b721639-26af-4e43-9c35-3ae17eb9dadb',\n",
       "                        [{\"alignmentgroup\": \"True\", \"hovertemplate\": \"freq=%{x}<br>word=%{y}<extra></extra>\", \"legendgroup\": \"\", \"marker\": {\"color\": \"#636efa\"}, \"name\": \"\", \"offsetgroup\": \"\", \"orientation\": \"h\", \"showlegend\": false, \"textposition\": \"auto\", \"type\": \"bar\", \"x\": [78, 78, 78, 80, 81, 81, 81, 81, 81, 81, 81, 81, 85, 86, 86, 88, 90, 92, 93, 93, 93, 93, 93, 93, 93, 98, 99, 100, 118, 174], \"xaxis\": \"x\", \"y\": [\"computing\", \"google\", \"confidential\", \"\\ud83d\\udea8\", \"\\ud83d\\uded2shop\", \"gpu!\", \"\\ud83d\\udcafrate\", \"go!\", \"ya\", \"ask\", \"\\u2728you\", \"ryzen\", \"build\", \"xt\", \"5700\", \"new\\u2026\", \"rx\", \"new\", \"bad\", \"well,\", \"8nm.\", \"going\", \"rumors\", \"conflicting\", \"lot\", \"7nm\", \"10\", \"aorus\", \"1\", \"amd\"], \"yaxis\": \"y\"}],\n",
       "                        {\"barmode\": \"relative\", \"legend\": {\"tracegroupgap\": 0}, \"margin\": {\"t\": 60}, \"template\": {\"data\": {\"bar\": [{\"error_x\": {\"color\": \"#2a3f5f\"}, \"error_y\": {\"color\": \"#2a3f5f\"}, \"marker\": {\"line\": {\"color\": \"#E5ECF6\", \"width\": 0.5}}, \"type\": \"bar\"}], \"barpolar\": [{\"marker\": {\"line\": {\"color\": \"#E5ECF6\", \"width\": 0.5}}, \"type\": \"barpolar\"}], \"carpet\": [{\"aaxis\": {\"endlinecolor\": \"#2a3f5f\", \"gridcolor\": \"white\", \"linecolor\": \"white\", \"minorgridcolor\": \"white\", \"startlinecolor\": \"#2a3f5f\"}, \"baxis\": {\"endlinecolor\": \"#2a3f5f\", \"gridcolor\": \"white\", \"linecolor\": \"white\", \"minorgridcolor\": \"white\", \"startlinecolor\": \"#2a3f5f\"}, \"type\": \"carpet\"}], \"choropleth\": [{\"colorbar\": {\"outlinewidth\": 0, \"ticks\": \"\"}, \"type\": \"choropleth\"}], \"contour\": [{\"colorbar\": {\"outlinewidth\": 0, \"ticks\": \"\"}, \"colorscale\": [[0.0, \"#0d0887\"], [0.1111111111111111, \"#46039f\"], [0.2222222222222222, \"#7201a8\"], [0.3333333333333333, \"#9c179e\"], [0.4444444444444444, \"#bd3786\"], [0.5555555555555556, \"#d8576b\"], [0.6666666666666666, \"#ed7953\"], [0.7777777777777778, \"#fb9f3a\"], [0.8888888888888888, \"#fdca26\"], [1.0, \"#f0f921\"]], \"type\": \"contour\"}], \"contourcarpet\": [{\"colorbar\": {\"outlinewidth\": 0, \"ticks\": \"\"}, \"type\": \"contourcarpet\"}], \"heatmap\": [{\"colorbar\": {\"outlinewidth\": 0, \"ticks\": \"\"}, \"colorscale\": [[0.0, \"#0d0887\"], [0.1111111111111111, \"#46039f\"], [0.2222222222222222, \"#7201a8\"], [0.3333333333333333, \"#9c179e\"], [0.4444444444444444, \"#bd3786\"], [0.5555555555555556, \"#d8576b\"], [0.6666666666666666, \"#ed7953\"], [0.7777777777777778, \"#fb9f3a\"], [0.8888888888888888, \"#fdca26\"], [1.0, \"#f0f921\"]], \"type\": \"heatmap\"}], \"heatmapgl\": [{\"colorbar\": {\"outlinewidth\": 0, \"ticks\": \"\"}, \"colorscale\": [[0.0, \"#0d0887\"], [0.1111111111111111, \"#46039f\"], [0.2222222222222222, \"#7201a8\"], [0.3333333333333333, \"#9c179e\"], [0.4444444444444444, \"#bd3786\"], [0.5555555555555556, \"#d8576b\"], [0.6666666666666666, \"#ed7953\"], [0.7777777777777778, \"#fb9f3a\"], [0.8888888888888888, \"#fdca26\"], [1.0, \"#f0f921\"]], \"type\": \"heatmapgl\"}], \"histogram\": [{\"marker\": {\"colorbar\": {\"outlinewidth\": 0, \"ticks\": \"\"}}, \"type\": \"histogram\"}], \"histogram2d\": [{\"colorbar\": {\"outlinewidth\": 0, \"ticks\": \"\"}, \"colorscale\": [[0.0, \"#0d0887\"], [0.1111111111111111, \"#46039f\"], [0.2222222222222222, \"#7201a8\"], [0.3333333333333333, \"#9c179e\"], [0.4444444444444444, \"#bd3786\"], [0.5555555555555556, \"#d8576b\"], [0.6666666666666666, \"#ed7953\"], [0.7777777777777778, \"#fb9f3a\"], [0.8888888888888888, \"#fdca26\"], [1.0, \"#f0f921\"]], \"type\": \"histogram2d\"}], \"histogram2dcontour\": [{\"colorbar\": {\"outlinewidth\": 0, \"ticks\": \"\"}, \"colorscale\": [[0.0, \"#0d0887\"], [0.1111111111111111, \"#46039f\"], [0.2222222222222222, \"#7201a8\"], [0.3333333333333333, \"#9c179e\"], [0.4444444444444444, \"#bd3786\"], [0.5555555555555556, \"#d8576b\"], [0.6666666666666666, \"#ed7953\"], [0.7777777777777778, \"#fb9f3a\"], [0.8888888888888888, \"#fdca26\"], [1.0, \"#f0f921\"]], \"type\": \"histogram2dcontour\"}], \"mesh3d\": [{\"colorbar\": {\"outlinewidth\": 0, \"ticks\": \"\"}, \"type\": \"mesh3d\"}], \"parcoords\": [{\"line\": {\"colorbar\": {\"outlinewidth\": 0, \"ticks\": \"\"}}, \"type\": \"parcoords\"}], \"pie\": [{\"automargin\": true, \"type\": \"pie\"}], \"scatter\": [{\"marker\": {\"colorbar\": {\"outlinewidth\": 0, \"ticks\": \"\"}}, \"type\": \"scatter\"}], \"scatter3d\": [{\"line\": {\"colorbar\": {\"outlinewidth\": 0, \"ticks\": \"\"}}, \"marker\": {\"colorbar\": {\"outlinewidth\": 0, \"ticks\": \"\"}}, \"type\": \"scatter3d\"}], \"scattercarpet\": [{\"marker\": {\"colorbar\": {\"outlinewidth\": 0, \"ticks\": \"\"}}, \"type\": \"scattercarpet\"}], \"scattergeo\": [{\"marker\": {\"colorbar\": {\"outlinewidth\": 0, \"ticks\": \"\"}}, \"type\": \"scattergeo\"}], \"scattergl\": [{\"marker\": {\"colorbar\": {\"outlinewidth\": 0, \"ticks\": \"\"}}, \"type\": \"scattergl\"}], \"scattermapbox\": [{\"marker\": {\"colorbar\": {\"outlinewidth\": 0, \"ticks\": \"\"}}, \"type\": \"scattermapbox\"}], \"scatterpolar\": [{\"marker\": {\"colorbar\": {\"outlinewidth\": 0, \"ticks\": \"\"}}, \"type\": \"scatterpolar\"}], \"scatterpolargl\": [{\"marker\": {\"colorbar\": {\"outlinewidth\": 0, \"ticks\": \"\"}}, \"type\": \"scatterpolargl\"}], \"scatterternary\": [{\"marker\": {\"colorbar\": {\"outlinewidth\": 0, \"ticks\": \"\"}}, \"type\": \"scatterternary\"}], \"surface\": [{\"colorbar\": {\"outlinewidth\": 0, \"ticks\": \"\"}, \"colorscale\": [[0.0, \"#0d0887\"], [0.1111111111111111, \"#46039f\"], [0.2222222222222222, \"#7201a8\"], [0.3333333333333333, \"#9c179e\"], [0.4444444444444444, \"#bd3786\"], [0.5555555555555556, \"#d8576b\"], [0.6666666666666666, \"#ed7953\"], [0.7777777777777778, \"#fb9f3a\"], [0.8888888888888888, \"#fdca26\"], [1.0, \"#f0f921\"]], \"type\": \"surface\"}], \"table\": [{\"cells\": {\"fill\": {\"color\": \"#EBF0F8\"}, \"line\": {\"color\": \"white\"}}, \"header\": {\"fill\": {\"color\": \"#C8D4E3\"}, \"line\": {\"color\": \"white\"}}, \"type\": \"table\"}]}, \"layout\": {\"annotationdefaults\": {\"arrowcolor\": \"#2a3f5f\", \"arrowhead\": 0, \"arrowwidth\": 1}, \"coloraxis\": {\"colorbar\": {\"outlinewidth\": 0, \"ticks\": \"\"}}, \"colorscale\": {\"diverging\": [[0, \"#8e0152\"], [0.1, \"#c51b7d\"], [0.2, \"#de77ae\"], [0.3, \"#f1b6da\"], [0.4, \"#fde0ef\"], [0.5, \"#f7f7f7\"], [0.6, \"#e6f5d0\"], [0.7, \"#b8e186\"], [0.8, \"#7fbc41\"], [0.9, \"#4d9221\"], [1, \"#276419\"]], \"sequential\": [[0.0, \"#0d0887\"], [0.1111111111111111, \"#46039f\"], [0.2222222222222222, \"#7201a8\"], [0.3333333333333333, \"#9c179e\"], [0.4444444444444444, \"#bd3786\"], [0.5555555555555556, \"#d8576b\"], [0.6666666666666666, \"#ed7953\"], [0.7777777777777778, \"#fb9f3a\"], [0.8888888888888888, \"#fdca26\"], [1.0, \"#f0f921\"]], \"sequentialminus\": [[0.0, \"#0d0887\"], [0.1111111111111111, \"#46039f\"], [0.2222222222222222, \"#7201a8\"], [0.3333333333333333, \"#9c179e\"], [0.4444444444444444, \"#bd3786\"], [0.5555555555555556, \"#d8576b\"], [0.6666666666666666, \"#ed7953\"], [0.7777777777777778, \"#fb9f3a\"], [0.8888888888888888, \"#fdca26\"], [1.0, \"#f0f921\"]]}, \"colorway\": [\"#636efa\", \"#EF553B\", \"#00cc96\", \"#ab63fa\", \"#FFA15A\", \"#19d3f3\", \"#FF6692\", \"#B6E880\", \"#FF97FF\", \"#FECB52\"], \"font\": {\"color\": \"#2a3f5f\"}, \"geo\": {\"bgcolor\": \"white\", \"lakecolor\": \"white\", \"landcolor\": \"#E5ECF6\", \"showlakes\": true, \"showland\": true, \"subunitcolor\": \"white\"}, \"hoverlabel\": {\"align\": \"left\"}, \"hovermode\": \"closest\", \"mapbox\": {\"style\": \"light\"}, \"paper_bgcolor\": \"white\", \"plot_bgcolor\": \"#E5ECF6\", \"polar\": {\"angularaxis\": {\"gridcolor\": \"white\", \"linecolor\": \"white\", \"ticks\": \"\"}, \"bgcolor\": \"#E5ECF6\", \"radialaxis\": {\"gridcolor\": \"white\", \"linecolor\": \"white\", \"ticks\": \"\"}}, \"scene\": {\"xaxis\": {\"backgroundcolor\": \"#E5ECF6\", \"gridcolor\": \"white\", \"gridwidth\": 2, \"linecolor\": \"white\", \"showbackground\": true, \"ticks\": \"\", \"zerolinecolor\": \"white\"}, \"yaxis\": {\"backgroundcolor\": \"#E5ECF6\", \"gridcolor\": \"white\", \"gridwidth\": 2, \"linecolor\": \"white\", \"showbackground\": true, \"ticks\": \"\", \"zerolinecolor\": \"white\"}, \"zaxis\": {\"backgroundcolor\": \"#E5ECF6\", \"gridcolor\": \"white\", \"gridwidth\": 2, \"linecolor\": \"white\", \"showbackground\": true, \"ticks\": \"\", \"zerolinecolor\": \"white\"}}, \"shapedefaults\": {\"line\": {\"color\": \"#2a3f5f\"}}, \"ternary\": {\"aaxis\": {\"gridcolor\": \"white\", \"linecolor\": \"white\", \"ticks\": \"\"}, \"baxis\": {\"gridcolor\": \"white\", \"linecolor\": \"white\", \"ticks\": \"\"}, \"bgcolor\": \"#E5ECF6\", \"caxis\": {\"gridcolor\": \"white\", \"linecolor\": \"white\", \"ticks\": \"\"}}, \"title\": {\"x\": 0.05}, \"xaxis\": {\"automargin\": true, \"gridcolor\": \"white\", \"linecolor\": \"white\", \"ticks\": \"\", \"title\": {\"standoff\": 15}, \"zerolinecolor\": \"white\", \"zerolinewidth\": 2}, \"yaxis\": {\"automargin\": true, \"gridcolor\": \"white\", \"linecolor\": \"white\", \"ticks\": \"\", \"title\": {\"standoff\": 15}, \"zerolinecolor\": \"white\", \"zerolinewidth\": 2}}}, \"xaxis\": {\"anchor\": \"y\", \"domain\": [0.0, 1.0], \"title\": {\"text\": \"freq\"}}, \"yaxis\": {\"anchor\": \"x\", \"domain\": [0.0, 1.0], \"title\": {\"text\": \"word\"}}},\n",
       "                        {\"responsive\": true}\n",
       "                    ).then(function(){\n",
       "                            \n",
       "var gd = document.getElementById('2b721639-26af-4e43-9c35-3ae17eb9dadb');\n",
       "var x = new MutationObserver(function (mutations, observer) {{\n",
       "        var display = window.getComputedStyle(gd).display;\n",
       "        if (!display || display === 'none') {{\n",
       "            console.log([gd, 'removed!']);\n",
       "            Plotly.purge(gd);\n",
       "            observer.disconnect();\n",
       "        }}\n",
       "}});\n",
       "\n",
       "// Listen for the removal of the full notebook cells\n",
       "var notebookContainer = gd.closest('#notebook-container');\n",
       "if (notebookContainer) {{\n",
       "    x.observe(notebookContainer, {childList: true});\n",
       "}}\n",
       "\n",
       "// Listen for the clearing of the current output cell\n",
       "var outputEl = gd.closest('.output');\n",
       "if (outputEl) {{\n",
       "    x.observe(outputEl, {childList: true});\n",
       "}}\n",
       "\n",
       "                        })\n",
       "                };\n",
       "                });\n",
       "            </script>\n",
       "        </div>"
      ]
     },
     "metadata": {},
     "output_type": "display_data"
    }
   ],
   "source": [
    "fig = px.bar(df_wf, x=\"freq\", y=\"word\", orientation='h')\n",
    "fig.show()"
   ]
  },
  {
   "cell_type": "code",
   "execution_count": 58,
   "metadata": {},
   "outputs": [
    {
     "data": {
      "application/vnd.plotly.v1+json": {
       "config": {
        "plotlyServerURL": "https://plot.ly"
       },
       "data": [
        {
         "branchvalues": "total",
         "customdata": [
          [
           118
          ],
          [
           99
          ],
          [
           86
          ],
          [
           98
          ],
          [
           93
          ],
          [
           174
          ],
          [
           100
          ],
          [
           81
          ],
          [
           93
          ],
          [
           85
          ],
          [
           78
          ],
          [
           78
          ],
          [
           93
          ],
          [
           81
          ],
          [
           93
          ],
          [
           78
          ],
          [
           81
          ],
          [
           93
          ],
          [
           92
          ],
          [
           88
          ],
          [
           93
          ],
          [
           90
          ],
          [
           81
          ],
          [
           93
          ],
          [
           86
          ],
          [
           81
          ],
          [
           81
          ],
          [
           81
          ],
          [
           80
          ],
          [
           81
          ]
         ],
         "domain": {
          "x": [
           0,
           1
          ],
          "y": [
           0,
           1
          ]
         },
         "hovertemplate": "labels=%{label}<br>freq_sum=%{value}<br>parent=%{parent}<br>id=%{id}<br>freq=%{color}<extra></extra>",
         "ids": [
          "1",
          "10",
          "5700",
          "7nm",
          "8nm.",
          "amd",
          "aorus",
          "ask",
          "bad",
          "build",
          "computing",
          "confidential",
          "conflicting",
          "go!",
          "going",
          "google",
          "gpu!",
          "lot",
          "new",
          "new…",
          "rumors",
          "rx",
          "ryzen",
          "well,",
          "xt",
          "ya",
          "✨you",
          "💯rate",
          "🚨",
          "🛒shop"
         ],
         "labels": [
          "1",
          "10",
          "5700",
          "7nm",
          "8nm.",
          "amd",
          "aorus",
          "ask",
          "bad",
          "build",
          "computing",
          "confidential",
          "conflicting",
          "go!",
          "going",
          "google",
          "gpu!",
          "lot",
          "new",
          "new…",
          "rumors",
          "rx",
          "ryzen",
          "well,",
          "xt",
          "ya",
          "✨you",
          "💯rate",
          "🚨",
          "🛒shop"
         ],
         "marker": {
          "coloraxis": "coloraxis",
          "colors": [
           118,
           99,
           86,
           98,
           93,
           174,
           100,
           81,
           93,
           85,
           78,
           78,
           93,
           81,
           93,
           78,
           81,
           93,
           92,
           88,
           93,
           90,
           81,
           93,
           86,
           81,
           81,
           81,
           80,
           81
          ]
         },
         "name": "",
         "parents": [
          "",
          "",
          "",
          "",
          "",
          "",
          "",
          "",
          "",
          "",
          "",
          "",
          "",
          "",
          "",
          "",
          "",
          "",
          "",
          "",
          "",
          "",
          "",
          "",
          "",
          "",
          "",
          "",
          "",
          ""
         ],
         "type": "treemap",
         "values": [
          118,
          99,
          86,
          98,
          93,
          174,
          100,
          81,
          93,
          85,
          78,
          78,
          93,
          81,
          93,
          78,
          81,
          93,
          92,
          88,
          93,
          90,
          81,
          93,
          86,
          81,
          81,
          81,
          80,
          81
         ]
        }
       ],
       "layout": {
        "coloraxis": {
         "colorbar": {
          "title": {
           "text": "freq"
          }
         },
         "colorscale": [
          [
           0,
           "rgb(247,251,255)"
          ],
          [
           0.125,
           "rgb(222,235,247)"
          ],
          [
           0.25,
           "rgb(198,219,239)"
          ],
          [
           0.375,
           "rgb(158,202,225)"
          ],
          [
           0.5,
           "rgb(107,174,214)"
          ],
          [
           0.625,
           "rgb(66,146,198)"
          ],
          [
           0.75,
           "rgb(33,113,181)"
          ],
          [
           0.875,
           "rgb(8,81,156)"
          ],
          [
           1,
           "rgb(8,48,107)"
          ]
         ]
        },
        "legend": {
         "tracegroupgap": 0
        },
        "margin": {
         "t": 60
        },
        "template": {
         "data": {
          "bar": [
           {
            "error_x": {
             "color": "#2a3f5f"
            },
            "error_y": {
             "color": "#2a3f5f"
            },
            "marker": {
             "line": {
              "color": "#E5ECF6",
              "width": 0.5
             }
            },
            "type": "bar"
           }
          ],
          "barpolar": [
           {
            "marker": {
             "line": {
              "color": "#E5ECF6",
              "width": 0.5
             }
            },
            "type": "barpolar"
           }
          ],
          "carpet": [
           {
            "aaxis": {
             "endlinecolor": "#2a3f5f",
             "gridcolor": "white",
             "linecolor": "white",
             "minorgridcolor": "white",
             "startlinecolor": "#2a3f5f"
            },
            "baxis": {
             "endlinecolor": "#2a3f5f",
             "gridcolor": "white",
             "linecolor": "white",
             "minorgridcolor": "white",
             "startlinecolor": "#2a3f5f"
            },
            "type": "carpet"
           }
          ],
          "choropleth": [
           {
            "colorbar": {
             "outlinewidth": 0,
             "ticks": ""
            },
            "type": "choropleth"
           }
          ],
          "contour": [
           {
            "colorbar": {
             "outlinewidth": 0,
             "ticks": ""
            },
            "colorscale": [
             [
              0,
              "#0d0887"
             ],
             [
              0.1111111111111111,
              "#46039f"
             ],
             [
              0.2222222222222222,
              "#7201a8"
             ],
             [
              0.3333333333333333,
              "#9c179e"
             ],
             [
              0.4444444444444444,
              "#bd3786"
             ],
             [
              0.5555555555555556,
              "#d8576b"
             ],
             [
              0.6666666666666666,
              "#ed7953"
             ],
             [
              0.7777777777777778,
              "#fb9f3a"
             ],
             [
              0.8888888888888888,
              "#fdca26"
             ],
             [
              1,
              "#f0f921"
             ]
            ],
            "type": "contour"
           }
          ],
          "contourcarpet": [
           {
            "colorbar": {
             "outlinewidth": 0,
             "ticks": ""
            },
            "type": "contourcarpet"
           }
          ],
          "heatmap": [
           {
            "colorbar": {
             "outlinewidth": 0,
             "ticks": ""
            },
            "colorscale": [
             [
              0,
              "#0d0887"
             ],
             [
              0.1111111111111111,
              "#46039f"
             ],
             [
              0.2222222222222222,
              "#7201a8"
             ],
             [
              0.3333333333333333,
              "#9c179e"
             ],
             [
              0.4444444444444444,
              "#bd3786"
             ],
             [
              0.5555555555555556,
              "#d8576b"
             ],
             [
              0.6666666666666666,
              "#ed7953"
             ],
             [
              0.7777777777777778,
              "#fb9f3a"
             ],
             [
              0.8888888888888888,
              "#fdca26"
             ],
             [
              1,
              "#f0f921"
             ]
            ],
            "type": "heatmap"
           }
          ],
          "heatmapgl": [
           {
            "colorbar": {
             "outlinewidth": 0,
             "ticks": ""
            },
            "colorscale": [
             [
              0,
              "#0d0887"
             ],
             [
              0.1111111111111111,
              "#46039f"
             ],
             [
              0.2222222222222222,
              "#7201a8"
             ],
             [
              0.3333333333333333,
              "#9c179e"
             ],
             [
              0.4444444444444444,
              "#bd3786"
             ],
             [
              0.5555555555555556,
              "#d8576b"
             ],
             [
              0.6666666666666666,
              "#ed7953"
             ],
             [
              0.7777777777777778,
              "#fb9f3a"
             ],
             [
              0.8888888888888888,
              "#fdca26"
             ],
             [
              1,
              "#f0f921"
             ]
            ],
            "type": "heatmapgl"
           }
          ],
          "histogram": [
           {
            "marker": {
             "colorbar": {
              "outlinewidth": 0,
              "ticks": ""
             }
            },
            "type": "histogram"
           }
          ],
          "histogram2d": [
           {
            "colorbar": {
             "outlinewidth": 0,
             "ticks": ""
            },
            "colorscale": [
             [
              0,
              "#0d0887"
             ],
             [
              0.1111111111111111,
              "#46039f"
             ],
             [
              0.2222222222222222,
              "#7201a8"
             ],
             [
              0.3333333333333333,
              "#9c179e"
             ],
             [
              0.4444444444444444,
              "#bd3786"
             ],
             [
              0.5555555555555556,
              "#d8576b"
             ],
             [
              0.6666666666666666,
              "#ed7953"
             ],
             [
              0.7777777777777778,
              "#fb9f3a"
             ],
             [
              0.8888888888888888,
              "#fdca26"
             ],
             [
              1,
              "#f0f921"
             ]
            ],
            "type": "histogram2d"
           }
          ],
          "histogram2dcontour": [
           {
            "colorbar": {
             "outlinewidth": 0,
             "ticks": ""
            },
            "colorscale": [
             [
              0,
              "#0d0887"
             ],
             [
              0.1111111111111111,
              "#46039f"
             ],
             [
              0.2222222222222222,
              "#7201a8"
             ],
             [
              0.3333333333333333,
              "#9c179e"
             ],
             [
              0.4444444444444444,
              "#bd3786"
             ],
             [
              0.5555555555555556,
              "#d8576b"
             ],
             [
              0.6666666666666666,
              "#ed7953"
             ],
             [
              0.7777777777777778,
              "#fb9f3a"
             ],
             [
              0.8888888888888888,
              "#fdca26"
             ],
             [
              1,
              "#f0f921"
             ]
            ],
            "type": "histogram2dcontour"
           }
          ],
          "mesh3d": [
           {
            "colorbar": {
             "outlinewidth": 0,
             "ticks": ""
            },
            "type": "mesh3d"
           }
          ],
          "parcoords": [
           {
            "line": {
             "colorbar": {
              "outlinewidth": 0,
              "ticks": ""
             }
            },
            "type": "parcoords"
           }
          ],
          "pie": [
           {
            "automargin": true,
            "type": "pie"
           }
          ],
          "scatter": [
           {
            "marker": {
             "colorbar": {
              "outlinewidth": 0,
              "ticks": ""
             }
            },
            "type": "scatter"
           }
          ],
          "scatter3d": [
           {
            "line": {
             "colorbar": {
              "outlinewidth": 0,
              "ticks": ""
             }
            },
            "marker": {
             "colorbar": {
              "outlinewidth": 0,
              "ticks": ""
             }
            },
            "type": "scatter3d"
           }
          ],
          "scattercarpet": [
           {
            "marker": {
             "colorbar": {
              "outlinewidth": 0,
              "ticks": ""
             }
            },
            "type": "scattercarpet"
           }
          ],
          "scattergeo": [
           {
            "marker": {
             "colorbar": {
              "outlinewidth": 0,
              "ticks": ""
             }
            },
            "type": "scattergeo"
           }
          ],
          "scattergl": [
           {
            "marker": {
             "colorbar": {
              "outlinewidth": 0,
              "ticks": ""
             }
            },
            "type": "scattergl"
           }
          ],
          "scattermapbox": [
           {
            "marker": {
             "colorbar": {
              "outlinewidth": 0,
              "ticks": ""
             }
            },
            "type": "scattermapbox"
           }
          ],
          "scatterpolar": [
           {
            "marker": {
             "colorbar": {
              "outlinewidth": 0,
              "ticks": ""
             }
            },
            "type": "scatterpolar"
           }
          ],
          "scatterpolargl": [
           {
            "marker": {
             "colorbar": {
              "outlinewidth": 0,
              "ticks": ""
             }
            },
            "type": "scatterpolargl"
           }
          ],
          "scatterternary": [
           {
            "marker": {
             "colorbar": {
              "outlinewidth": 0,
              "ticks": ""
             }
            },
            "type": "scatterternary"
           }
          ],
          "surface": [
           {
            "colorbar": {
             "outlinewidth": 0,
             "ticks": ""
            },
            "colorscale": [
             [
              0,
              "#0d0887"
             ],
             [
              0.1111111111111111,
              "#46039f"
             ],
             [
              0.2222222222222222,
              "#7201a8"
             ],
             [
              0.3333333333333333,
              "#9c179e"
             ],
             [
              0.4444444444444444,
              "#bd3786"
             ],
             [
              0.5555555555555556,
              "#d8576b"
             ],
             [
              0.6666666666666666,
              "#ed7953"
             ],
             [
              0.7777777777777778,
              "#fb9f3a"
             ],
             [
              0.8888888888888888,
              "#fdca26"
             ],
             [
              1,
              "#f0f921"
             ]
            ],
            "type": "surface"
           }
          ],
          "table": [
           {
            "cells": {
             "fill": {
              "color": "#EBF0F8"
             },
             "line": {
              "color": "white"
             }
            },
            "header": {
             "fill": {
              "color": "#C8D4E3"
             },
             "line": {
              "color": "white"
             }
            },
            "type": "table"
           }
          ]
         },
         "layout": {
          "annotationdefaults": {
           "arrowcolor": "#2a3f5f",
           "arrowhead": 0,
           "arrowwidth": 1
          },
          "coloraxis": {
           "colorbar": {
            "outlinewidth": 0,
            "ticks": ""
           }
          },
          "colorscale": {
           "diverging": [
            [
             0,
             "#8e0152"
            ],
            [
             0.1,
             "#c51b7d"
            ],
            [
             0.2,
             "#de77ae"
            ],
            [
             0.3,
             "#f1b6da"
            ],
            [
             0.4,
             "#fde0ef"
            ],
            [
             0.5,
             "#f7f7f7"
            ],
            [
             0.6,
             "#e6f5d0"
            ],
            [
             0.7,
             "#b8e186"
            ],
            [
             0.8,
             "#7fbc41"
            ],
            [
             0.9,
             "#4d9221"
            ],
            [
             1,
             "#276419"
            ]
           ],
           "sequential": [
            [
             0,
             "#0d0887"
            ],
            [
             0.1111111111111111,
             "#46039f"
            ],
            [
             0.2222222222222222,
             "#7201a8"
            ],
            [
             0.3333333333333333,
             "#9c179e"
            ],
            [
             0.4444444444444444,
             "#bd3786"
            ],
            [
             0.5555555555555556,
             "#d8576b"
            ],
            [
             0.6666666666666666,
             "#ed7953"
            ],
            [
             0.7777777777777778,
             "#fb9f3a"
            ],
            [
             0.8888888888888888,
             "#fdca26"
            ],
            [
             1,
             "#f0f921"
            ]
           ],
           "sequentialminus": [
            [
             0,
             "#0d0887"
            ],
            [
             0.1111111111111111,
             "#46039f"
            ],
            [
             0.2222222222222222,
             "#7201a8"
            ],
            [
             0.3333333333333333,
             "#9c179e"
            ],
            [
             0.4444444444444444,
             "#bd3786"
            ],
            [
             0.5555555555555556,
             "#d8576b"
            ],
            [
             0.6666666666666666,
             "#ed7953"
            ],
            [
             0.7777777777777778,
             "#fb9f3a"
            ],
            [
             0.8888888888888888,
             "#fdca26"
            ],
            [
             1,
             "#f0f921"
            ]
           ]
          },
          "colorway": [
           "#636efa",
           "#EF553B",
           "#00cc96",
           "#ab63fa",
           "#FFA15A",
           "#19d3f3",
           "#FF6692",
           "#B6E880",
           "#FF97FF",
           "#FECB52"
          ],
          "font": {
           "color": "#2a3f5f"
          },
          "geo": {
           "bgcolor": "white",
           "lakecolor": "white",
           "landcolor": "#E5ECF6",
           "showlakes": true,
           "showland": true,
           "subunitcolor": "white"
          },
          "hoverlabel": {
           "align": "left"
          },
          "hovermode": "closest",
          "mapbox": {
           "style": "light"
          },
          "paper_bgcolor": "white",
          "plot_bgcolor": "#E5ECF6",
          "polar": {
           "angularaxis": {
            "gridcolor": "white",
            "linecolor": "white",
            "ticks": ""
           },
           "bgcolor": "#E5ECF6",
           "radialaxis": {
            "gridcolor": "white",
            "linecolor": "white",
            "ticks": ""
           }
          },
          "scene": {
           "xaxis": {
            "backgroundcolor": "#E5ECF6",
            "gridcolor": "white",
            "gridwidth": 2,
            "linecolor": "white",
            "showbackground": true,
            "ticks": "",
            "zerolinecolor": "white"
           },
           "yaxis": {
            "backgroundcolor": "#E5ECF6",
            "gridcolor": "white",
            "gridwidth": 2,
            "linecolor": "white",
            "showbackground": true,
            "ticks": "",
            "zerolinecolor": "white"
           },
           "zaxis": {
            "backgroundcolor": "#E5ECF6",
            "gridcolor": "white",
            "gridwidth": 2,
            "linecolor": "white",
            "showbackground": true,
            "ticks": "",
            "zerolinecolor": "white"
           }
          },
          "shapedefaults": {
           "line": {
            "color": "#2a3f5f"
           }
          },
          "ternary": {
           "aaxis": {
            "gridcolor": "white",
            "linecolor": "white",
            "ticks": ""
           },
           "baxis": {
            "gridcolor": "white",
            "linecolor": "white",
            "ticks": ""
           },
           "bgcolor": "#E5ECF6",
           "caxis": {
            "gridcolor": "white",
            "linecolor": "white",
            "ticks": ""
           }
          },
          "title": {
           "x": 0.05
          },
          "xaxis": {
           "automargin": true,
           "gridcolor": "white",
           "linecolor": "white",
           "ticks": "",
           "title": {
            "standoff": 15
           },
           "zerolinecolor": "white",
           "zerolinewidth": 2
          },
          "yaxis": {
           "automargin": true,
           "gridcolor": "white",
           "linecolor": "white",
           "ticks": "",
           "title": {
            "standoff": 15
           },
           "zerolinecolor": "white",
           "zerolinewidth": 2
          }
         }
        }
       }
      },
      "text/html": [
       "<div>\n",
       "        \n",
       "        \n",
       "            <div id=\"4c6661e9-a162-4169-9bce-6563a4767ea2\" class=\"plotly-graph-div\" style=\"height:525px; width:100%;\"></div>\n",
       "            <script type=\"text/javascript\">\n",
       "                require([\"plotly\"], function(Plotly) {\n",
       "                    window.PLOTLYENV=window.PLOTLYENV || {};\n",
       "                    \n",
       "                if (document.getElementById(\"4c6661e9-a162-4169-9bce-6563a4767ea2\")) {\n",
       "                    Plotly.newPlot(\n",
       "                        '4c6661e9-a162-4169-9bce-6563a4767ea2',\n",
       "                        [{\"branchvalues\": \"total\", \"customdata\": [[118], [99], [86], [98], [93], [174], [100], [81], [93], [85], [78], [78], [93], [81], [93], [78], [81], [93], [92], [88], [93], [90], [81], [93], [86], [81], [81], [81], [80], [81]], \"domain\": {\"x\": [0.0, 1.0], \"y\": [0.0, 1.0]}, \"hovertemplate\": \"labels=%{label}<br>freq_sum=%{value}<br>parent=%{parent}<br>id=%{id}<br>freq=%{color}<extra></extra>\", \"ids\": [\"1\", \"10\", \"5700\", \"7nm\", \"8nm.\", \"amd\", \"aorus\", \"ask\", \"bad\", \"build\", \"computing\", \"confidential\", \"conflicting\", \"go!\", \"going\", \"google\", \"gpu!\", \"lot\", \"new\", \"new\\u2026\", \"rumors\", \"rx\", \"ryzen\", \"well,\", \"xt\", \"ya\", \"\\u2728you\", \"\\ud83d\\udcafrate\", \"\\ud83d\\udea8\", \"\\ud83d\\uded2shop\"], \"labels\": [\"1\", \"10\", \"5700\", \"7nm\", \"8nm.\", \"amd\", \"aorus\", \"ask\", \"bad\", \"build\", \"computing\", \"confidential\", \"conflicting\", \"go!\", \"going\", \"google\", \"gpu!\", \"lot\", \"new\", \"new\\u2026\", \"rumors\", \"rx\", \"ryzen\", \"well,\", \"xt\", \"ya\", \"\\u2728you\", \"\\ud83d\\udcafrate\", \"\\ud83d\\udea8\", \"\\ud83d\\uded2shop\"], \"marker\": {\"coloraxis\": \"coloraxis\", \"colors\": [118, 99, 86, 98, 93, 174, 100, 81, 93, 85, 78, 78, 93, 81, 93, 78, 81, 93, 92, 88, 93, 90, 81, 93, 86, 81, 81, 81, 80, 81]}, \"name\": \"\", \"parents\": [\"\", \"\", \"\", \"\", \"\", \"\", \"\", \"\", \"\", \"\", \"\", \"\", \"\", \"\", \"\", \"\", \"\", \"\", \"\", \"\", \"\", \"\", \"\", \"\", \"\", \"\", \"\", \"\", \"\", \"\"], \"type\": \"treemap\", \"values\": [118, 99, 86, 98, 93, 174, 100, 81, 93, 85, 78, 78, 93, 81, 93, 78, 81, 93, 92, 88, 93, 90, 81, 93, 86, 81, 81, 81, 80, 81]}],\n",
       "                        {\"coloraxis\": {\"colorbar\": {\"title\": {\"text\": \"freq\"}}, \"colorscale\": [[0.0, \"rgb(247,251,255)\"], [0.125, \"rgb(222,235,247)\"], [0.25, \"rgb(198,219,239)\"], [0.375, \"rgb(158,202,225)\"], [0.5, \"rgb(107,174,214)\"], [0.625, \"rgb(66,146,198)\"], [0.75, \"rgb(33,113,181)\"], [0.875, \"rgb(8,81,156)\"], [1.0, \"rgb(8,48,107)\"]]}, \"legend\": {\"tracegroupgap\": 0}, \"margin\": {\"t\": 60}, \"template\": {\"data\": {\"bar\": [{\"error_x\": {\"color\": \"#2a3f5f\"}, \"error_y\": {\"color\": \"#2a3f5f\"}, \"marker\": {\"line\": {\"color\": \"#E5ECF6\", \"width\": 0.5}}, \"type\": \"bar\"}], \"barpolar\": [{\"marker\": {\"line\": {\"color\": \"#E5ECF6\", \"width\": 0.5}}, \"type\": \"barpolar\"}], \"carpet\": [{\"aaxis\": {\"endlinecolor\": \"#2a3f5f\", \"gridcolor\": \"white\", \"linecolor\": \"white\", \"minorgridcolor\": \"white\", \"startlinecolor\": \"#2a3f5f\"}, \"baxis\": {\"endlinecolor\": \"#2a3f5f\", \"gridcolor\": \"white\", \"linecolor\": \"white\", \"minorgridcolor\": \"white\", \"startlinecolor\": \"#2a3f5f\"}, \"type\": \"carpet\"}], \"choropleth\": [{\"colorbar\": {\"outlinewidth\": 0, \"ticks\": \"\"}, \"type\": \"choropleth\"}], \"contour\": [{\"colorbar\": {\"outlinewidth\": 0, \"ticks\": \"\"}, \"colorscale\": [[0.0, \"#0d0887\"], [0.1111111111111111, \"#46039f\"], [0.2222222222222222, \"#7201a8\"], [0.3333333333333333, \"#9c179e\"], [0.4444444444444444, \"#bd3786\"], [0.5555555555555556, \"#d8576b\"], [0.6666666666666666, \"#ed7953\"], [0.7777777777777778, \"#fb9f3a\"], [0.8888888888888888, \"#fdca26\"], [1.0, \"#f0f921\"]], \"type\": \"contour\"}], \"contourcarpet\": [{\"colorbar\": {\"outlinewidth\": 0, \"ticks\": \"\"}, \"type\": \"contourcarpet\"}], \"heatmap\": [{\"colorbar\": {\"outlinewidth\": 0, \"ticks\": \"\"}, \"colorscale\": [[0.0, \"#0d0887\"], [0.1111111111111111, \"#46039f\"], [0.2222222222222222, \"#7201a8\"], [0.3333333333333333, \"#9c179e\"], [0.4444444444444444, \"#bd3786\"], [0.5555555555555556, \"#d8576b\"], [0.6666666666666666, \"#ed7953\"], [0.7777777777777778, \"#fb9f3a\"], [0.8888888888888888, \"#fdca26\"], [1.0, \"#f0f921\"]], \"type\": \"heatmap\"}], \"heatmapgl\": [{\"colorbar\": {\"outlinewidth\": 0, \"ticks\": \"\"}, \"colorscale\": [[0.0, \"#0d0887\"], [0.1111111111111111, \"#46039f\"], [0.2222222222222222, \"#7201a8\"], [0.3333333333333333, \"#9c179e\"], [0.4444444444444444, \"#bd3786\"], [0.5555555555555556, \"#d8576b\"], [0.6666666666666666, \"#ed7953\"], [0.7777777777777778, \"#fb9f3a\"], [0.8888888888888888, \"#fdca26\"], [1.0, \"#f0f921\"]], \"type\": \"heatmapgl\"}], \"histogram\": [{\"marker\": {\"colorbar\": {\"outlinewidth\": 0, \"ticks\": \"\"}}, \"type\": \"histogram\"}], \"histogram2d\": [{\"colorbar\": {\"outlinewidth\": 0, \"ticks\": \"\"}, \"colorscale\": [[0.0, \"#0d0887\"], [0.1111111111111111, \"#46039f\"], [0.2222222222222222, \"#7201a8\"], [0.3333333333333333, \"#9c179e\"], [0.4444444444444444, \"#bd3786\"], [0.5555555555555556, \"#d8576b\"], [0.6666666666666666, \"#ed7953\"], [0.7777777777777778, \"#fb9f3a\"], [0.8888888888888888, \"#fdca26\"], [1.0, \"#f0f921\"]], \"type\": \"histogram2d\"}], \"histogram2dcontour\": [{\"colorbar\": {\"outlinewidth\": 0, \"ticks\": \"\"}, \"colorscale\": [[0.0, \"#0d0887\"], [0.1111111111111111, \"#46039f\"], [0.2222222222222222, \"#7201a8\"], [0.3333333333333333, \"#9c179e\"], [0.4444444444444444, \"#bd3786\"], [0.5555555555555556, \"#d8576b\"], [0.6666666666666666, \"#ed7953\"], [0.7777777777777778, \"#fb9f3a\"], [0.8888888888888888, \"#fdca26\"], [1.0, \"#f0f921\"]], \"type\": \"histogram2dcontour\"}], \"mesh3d\": [{\"colorbar\": {\"outlinewidth\": 0, \"ticks\": \"\"}, \"type\": \"mesh3d\"}], \"parcoords\": [{\"line\": {\"colorbar\": {\"outlinewidth\": 0, \"ticks\": \"\"}}, \"type\": \"parcoords\"}], \"pie\": [{\"automargin\": true, \"type\": \"pie\"}], \"scatter\": [{\"marker\": {\"colorbar\": {\"outlinewidth\": 0, \"ticks\": \"\"}}, \"type\": \"scatter\"}], \"scatter3d\": [{\"line\": {\"colorbar\": {\"outlinewidth\": 0, \"ticks\": \"\"}}, \"marker\": {\"colorbar\": {\"outlinewidth\": 0, \"ticks\": \"\"}}, \"type\": \"scatter3d\"}], \"scattercarpet\": [{\"marker\": {\"colorbar\": {\"outlinewidth\": 0, \"ticks\": \"\"}}, \"type\": \"scattercarpet\"}], \"scattergeo\": [{\"marker\": {\"colorbar\": {\"outlinewidth\": 0, \"ticks\": \"\"}}, \"type\": \"scattergeo\"}], \"scattergl\": [{\"marker\": {\"colorbar\": {\"outlinewidth\": 0, \"ticks\": \"\"}}, \"type\": \"scattergl\"}], \"scattermapbox\": [{\"marker\": {\"colorbar\": {\"outlinewidth\": 0, \"ticks\": \"\"}}, \"type\": \"scattermapbox\"}], \"scatterpolar\": [{\"marker\": {\"colorbar\": {\"outlinewidth\": 0, \"ticks\": \"\"}}, \"type\": \"scatterpolar\"}], \"scatterpolargl\": [{\"marker\": {\"colorbar\": {\"outlinewidth\": 0, \"ticks\": \"\"}}, \"type\": \"scatterpolargl\"}], \"scatterternary\": [{\"marker\": {\"colorbar\": {\"outlinewidth\": 0, \"ticks\": \"\"}}, \"type\": \"scatterternary\"}], \"surface\": [{\"colorbar\": {\"outlinewidth\": 0, \"ticks\": \"\"}, \"colorscale\": [[0.0, \"#0d0887\"], [0.1111111111111111, \"#46039f\"], [0.2222222222222222, \"#7201a8\"], [0.3333333333333333, \"#9c179e\"], [0.4444444444444444, \"#bd3786\"], [0.5555555555555556, \"#d8576b\"], [0.6666666666666666, \"#ed7953\"], [0.7777777777777778, \"#fb9f3a\"], [0.8888888888888888, \"#fdca26\"], [1.0, \"#f0f921\"]], \"type\": \"surface\"}], \"table\": [{\"cells\": {\"fill\": {\"color\": \"#EBF0F8\"}, \"line\": {\"color\": \"white\"}}, \"header\": {\"fill\": {\"color\": \"#C8D4E3\"}, \"line\": {\"color\": \"white\"}}, \"type\": \"table\"}]}, \"layout\": {\"annotationdefaults\": {\"arrowcolor\": \"#2a3f5f\", \"arrowhead\": 0, \"arrowwidth\": 1}, \"coloraxis\": {\"colorbar\": {\"outlinewidth\": 0, \"ticks\": \"\"}}, \"colorscale\": {\"diverging\": [[0, \"#8e0152\"], [0.1, \"#c51b7d\"], [0.2, \"#de77ae\"], [0.3, \"#f1b6da\"], [0.4, \"#fde0ef\"], [0.5, \"#f7f7f7\"], [0.6, \"#e6f5d0\"], [0.7, \"#b8e186\"], [0.8, \"#7fbc41\"], [0.9, \"#4d9221\"], [1, \"#276419\"]], \"sequential\": [[0.0, \"#0d0887\"], [0.1111111111111111, \"#46039f\"], [0.2222222222222222, \"#7201a8\"], [0.3333333333333333, \"#9c179e\"], [0.4444444444444444, \"#bd3786\"], [0.5555555555555556, \"#d8576b\"], [0.6666666666666666, \"#ed7953\"], [0.7777777777777778, \"#fb9f3a\"], [0.8888888888888888, \"#fdca26\"], [1.0, \"#f0f921\"]], \"sequentialminus\": [[0.0, \"#0d0887\"], [0.1111111111111111, \"#46039f\"], [0.2222222222222222, \"#7201a8\"], [0.3333333333333333, \"#9c179e\"], [0.4444444444444444, \"#bd3786\"], [0.5555555555555556, \"#d8576b\"], [0.6666666666666666, \"#ed7953\"], [0.7777777777777778, \"#fb9f3a\"], [0.8888888888888888, \"#fdca26\"], [1.0, \"#f0f921\"]]}, \"colorway\": [\"#636efa\", \"#EF553B\", \"#00cc96\", \"#ab63fa\", \"#FFA15A\", \"#19d3f3\", \"#FF6692\", \"#B6E880\", \"#FF97FF\", \"#FECB52\"], \"font\": {\"color\": \"#2a3f5f\"}, \"geo\": {\"bgcolor\": \"white\", \"lakecolor\": \"white\", \"landcolor\": \"#E5ECF6\", \"showlakes\": true, \"showland\": true, \"subunitcolor\": \"white\"}, \"hoverlabel\": {\"align\": \"left\"}, \"hovermode\": \"closest\", \"mapbox\": {\"style\": \"light\"}, \"paper_bgcolor\": \"white\", \"plot_bgcolor\": \"#E5ECF6\", \"polar\": {\"angularaxis\": {\"gridcolor\": \"white\", \"linecolor\": \"white\", \"ticks\": \"\"}, \"bgcolor\": \"#E5ECF6\", \"radialaxis\": {\"gridcolor\": \"white\", \"linecolor\": \"white\", \"ticks\": \"\"}}, \"scene\": {\"xaxis\": {\"backgroundcolor\": \"#E5ECF6\", \"gridcolor\": \"white\", \"gridwidth\": 2, \"linecolor\": \"white\", \"showbackground\": true, \"ticks\": \"\", \"zerolinecolor\": \"white\"}, \"yaxis\": {\"backgroundcolor\": \"#E5ECF6\", \"gridcolor\": \"white\", \"gridwidth\": 2, \"linecolor\": \"white\", \"showbackground\": true, \"ticks\": \"\", \"zerolinecolor\": \"white\"}, \"zaxis\": {\"backgroundcolor\": \"#E5ECF6\", \"gridcolor\": \"white\", \"gridwidth\": 2, \"linecolor\": \"white\", \"showbackground\": true, \"ticks\": \"\", \"zerolinecolor\": \"white\"}}, \"shapedefaults\": {\"line\": {\"color\": \"#2a3f5f\"}}, \"ternary\": {\"aaxis\": {\"gridcolor\": \"white\", \"linecolor\": \"white\", \"ticks\": \"\"}, \"baxis\": {\"gridcolor\": \"white\", \"linecolor\": \"white\", \"ticks\": \"\"}, \"bgcolor\": \"#E5ECF6\", \"caxis\": {\"gridcolor\": \"white\", \"linecolor\": \"white\", \"ticks\": \"\"}}, \"title\": {\"x\": 0.05}, \"xaxis\": {\"automargin\": true, \"gridcolor\": \"white\", \"linecolor\": \"white\", \"ticks\": \"\", \"title\": {\"standoff\": 15}, \"zerolinecolor\": \"white\", \"zerolinewidth\": 2}, \"yaxis\": {\"automargin\": true, \"gridcolor\": \"white\", \"linecolor\": \"white\", \"ticks\": \"\", \"title\": {\"standoff\": 15}, \"zerolinecolor\": \"white\", \"zerolinewidth\": 2}}}},\n",
       "                        {\"responsive\": true}\n",
       "                    ).then(function(){\n",
       "                            \n",
       "var gd = document.getElementById('4c6661e9-a162-4169-9bce-6563a4767ea2');\n",
       "var x = new MutationObserver(function (mutations, observer) {{\n",
       "        var display = window.getComputedStyle(gd).display;\n",
       "        if (!display || display === 'none') {{\n",
       "            console.log([gd, 'removed!']);\n",
       "            Plotly.purge(gd);\n",
       "            observer.disconnect();\n",
       "        }}\n",
       "}});\n",
       "\n",
       "// Listen for the removal of the full notebook cells\n",
       "var notebookContainer = gd.closest('#notebook-container');\n",
       "if (notebookContainer) {{\n",
       "    x.observe(notebookContainer, {childList: true});\n",
       "}}\n",
       "\n",
       "// Listen for the clearing of the current output cell\n",
       "var outputEl = gd.closest('.output');\n",
       "if (outputEl) {{\n",
       "    x.observe(outputEl, {childList: true});\n",
       "}}\n",
       "\n",
       "                        })\n",
       "                };\n",
       "                });\n",
       "            </script>\n",
       "        </div>"
      ]
     },
     "metadata": {},
     "output_type": "display_data"
    }
   ],
   "source": [
    "fig = px.treemap(df_wf, path=['word'], values='freq',\n",
    "                  color='freq',color_continuous_scale='blues')\n",
    "fig.show()"
   ]
  },
  {
   "cell_type": "code",
   "execution_count": 60,
   "metadata": {},
   "outputs": [],
   "source": [
    "unique_partition_1=df['partition_1'].unique()"
   ]
  },
  {
   "cell_type": "code",
   "execution_count": 61,
   "metadata": {},
   "outputs": [],
   "source": [
    "partition_1_options=[]\n",
    "for i in df['partition_1'].unique():\n",
    "    partition_1_options.append({'label': i, 'value': i})"
   ]
  },
  {
   "cell_type": "code",
   "execution_count": 62,
   "metadata": {},
   "outputs": [
    {
     "data": {
      "text/plain": [
       "[{'label': 'AFC Bournemouth', 'value': 'AFC Bournemouth'},\n",
       " {'label': 'AMD', 'value': 'AMD'},\n",
       " {'label': 'Adelaide', 'value': 'Adelaide'},\n",
       " {'label': 'Adidas', 'value': 'Adidas'},\n",
       " {'label': 'Afghanistan', 'value': 'Afghanistan'},\n",
       " {'label': 'Albania', 'value': 'Albania'},\n",
       " {'label': 'Algeria', 'value': 'Algeria'},\n",
       " {'label': 'Amazon', 'value': 'Amazon'},\n",
       " {'label': 'Andorra', 'value': 'Andorra'},\n",
       " {'label': 'AndyMurray', 'value': 'AndyMurray'},\n",
       " {'label': 'Angola', 'value': 'Angola'},\n",
       " {'label': 'Anguilla', 'value': 'Anguilla'},\n",
       " {'label': 'Antarctica', 'value': 'Antarctica'},\n",
       " {'label': 'Apple', 'value': 'Apple'},\n",
       " {'label': 'Argentina', 'value': 'Argentina'},\n",
       " {'label': 'Armenia', 'value': 'Armenia'},\n",
       " {'label': 'Arsenal', 'value': 'Arsenal'},\n",
       " {'label': 'Atheist', 'value': 'Atheist'},\n",
       " {'label': 'AtlantaHawks', 'value': 'AtlantaHawks'},\n",
       " {'label': 'Australia', 'value': 'Australia'},\n",
       " {'label': 'Austria', 'value': 'Austria'},\n",
       " {'label': 'Azerbaijan', 'value': 'Azerbaijan'},\n",
       " {'label': 'Bahamas', 'value': 'Bahamas'},\n",
       " {'label': 'Bahrain', 'value': 'Bahrain'},\n",
       " {'label': 'Bangladesh', 'value': 'Bangladesh'},\n",
       " {'label': 'Barbados', 'value': 'Barbados'},\n",
       " {'label': 'Belarus', 'value': 'Belarus'},\n",
       " {'label': 'Belgium', 'value': 'Belgium'},\n",
       " {'label': 'Belize', 'value': 'Belize'},\n",
       " {'label': 'Benin', 'value': 'Benin'},\n",
       " {'label': 'Bermuda', 'value': 'Bermuda'},\n",
       " {'label': 'Bhutan', 'value': 'Bhutan'},\n",
       " {'label': 'BillGates', 'value': 'BillGates'},\n",
       " {'label': 'Bolivia', 'value': 'Bolivia'},\n",
       " {'label': 'Bosnia', 'value': 'Bosnia'},\n",
       " {'label': 'BostonCeltics', 'value': 'BostonCeltics'},\n",
       " {'label': 'Botswana', 'value': 'Botswana'},\n",
       " {'label': 'Brazil', 'value': 'Brazil'},\n",
       " {'label': 'Brisbane', 'value': 'Brisbane'},\n",
       " {'label': 'BrooklynNets', 'value': 'BrooklynNets'},\n",
       " {'label': 'BubbleTea', 'value': 'BubbleTea'},\n",
       " {'label': 'Buddhism', 'value': 'Buddhism'},\n",
       " {'label': 'Bulgaria', 'value': 'Bulgaria'},\n",
       " {'label': 'Burnley', 'value': 'Burnley'},\n",
       " {'label': 'CSGO', 'value': 'CSGO'},\n",
       " {'label': 'Cambodia', 'value': 'Cambodia'},\n",
       " {'label': 'Cameroon', 'value': 'Cameroon'},\n",
       " {'label': 'Canada', 'value': 'Canada'},\n",
       " {'label': 'Canberra', 'value': 'Canberra'},\n",
       " {'label': 'Cayman Islands', 'value': 'Cayman Islands'},\n",
       " {'label': 'Chad', 'value': 'Chad'},\n",
       " {'label': 'CharlotteHornets', 'value': 'CharlotteHornets'},\n",
       " {'label': 'Chelsea', 'value': 'Chelsea'},\n",
       " {'label': 'Chess', 'value': 'Chess'},\n",
       " {'label': 'ChicagoBulls', 'value': 'ChicagoBulls'},\n",
       " {'label': 'Chile', 'value': 'Chile'},\n",
       " {'label': 'China', 'value': 'China'},\n",
       " {'label': 'Christian', 'value': 'Christian'},\n",
       " {'label': 'Christmas Island', 'value': 'Christmas Island'},\n",
       " {'label': 'Colombia', 'value': 'Colombia'},\n",
       " {'label': 'Congo', 'value': 'Congo'},\n",
       " {'label': 'Coronavirus', 'value': 'Coronavirus'},\n",
       " {'label': 'Costa Rica', 'value': 'Costa Rica'},\n",
       " {'label': 'Croatia', 'value': 'Croatia'},\n",
       " {'label': 'CrystalPalace', 'value': 'CrystalPalace'},\n",
       " {'label': 'Cuba', 'value': 'Cuba'},\n",
       " {'label': 'Cyprus', 'value': 'Cyprus'},\n",
       " {'label': 'Czech Republic', 'value': 'Czech Republic'},\n",
       " {'label': 'DallasMavericks', 'value': 'DallasMavericks'},\n",
       " {'label': 'Dao', 'value': 'Dao'},\n",
       " {'label': 'Denmark', 'value': 'Denmark'},\n",
       " {'label': 'DenverNuggets', 'value': 'DenverNuggets'},\n",
       " {'label': 'DetroitPistons', 'value': 'DetroitPistons'},\n",
       " {'label': 'Djibouti', 'value': 'Djibouti'},\n",
       " {'label': 'Dominican Republic', 'value': 'Dominican Republic'},\n",
       " {'label': 'Dominos', 'value': 'Dominos'},\n",
       " {'label': 'DonaldTrump', 'value': 'DonaldTrump'},\n",
       " {'label': 'Dota2', 'value': 'Dota2'},\n",
       " {'label': 'Ecuador', 'value': 'Ecuador'},\n",
       " {'label': 'Egypt', 'value': 'Egypt'},\n",
       " {'label': 'El Salvador', 'value': 'El Salvador'},\n",
       " {'label': 'ElonMusk', 'value': 'ElonMusk'},\n",
       " {'label': 'Equatorial Guinea', 'value': 'Equatorial Guinea'},\n",
       " {'label': 'Eritrea', 'value': 'Eritrea'},\n",
       " {'label': 'Estonia', 'value': 'Estonia'},\n",
       " {'label': 'Ethiopia', 'value': 'Ethiopia'},\n",
       " {'label': 'Everton', 'value': 'Everton'},\n",
       " {'label': 'Fiji', 'value': 'Fiji'},\n",
       " {'label': 'Finland', 'value': 'Finland'},\n",
       " {'label': 'Fortnite', 'value': 'Fortnite'},\n",
       " {'label': 'France', 'value': 'France'},\n",
       " {'label': 'Gabon', 'value': 'Gabon'},\n",
       " {'label': 'Gambia', 'value': 'Gambia'},\n",
       " {'label': 'Georgia', 'value': 'Georgia'},\n",
       " {'label': 'Germany', 'value': 'Germany'},\n",
       " {'label': 'Ghana', 'value': 'Ghana'},\n",
       " {'label': 'Gibraltar', 'value': 'Gibraltar'},\n",
       " {'label': 'GoldCoast', 'value': 'GoldCoast'},\n",
       " {'label': 'GoldenStateWarriors', 'value': 'GoldenStateWarriors'},\n",
       " {'label': 'Google', 'value': 'Google'},\n",
       " {'label': 'Greece', 'value': 'Greece'},\n",
       " {'label': 'Greenland', 'value': 'Greenland'},\n",
       " {'label': 'Grenada', 'value': 'Grenada'},\n",
       " {'label': 'Guadeloupe', 'value': 'Guadeloupe'},\n",
       " {'label': 'Guam', 'value': 'Guam'},\n",
       " {'label': 'Guatemala', 'value': 'Guatemala'},\n",
       " {'label': 'Guyana', 'value': 'Guyana'},\n",
       " {'label': 'Haiti', 'value': 'Haiti'},\n",
       " {'label': 'HikaruNakamura', 'value': 'HikaruNakamura'},\n",
       " {'label': 'Hindu', 'value': 'Hindu'},\n",
       " {'label': 'Honduras', 'value': 'Honduras'},\n",
       " {'label': 'HongKong', 'value': 'HongKong'},\n",
       " {'label': 'HoustonRockets', 'value': 'HoustonRockets'},\n",
       " {'label': 'Hungary', 'value': 'Hungary'},\n",
       " {'label': 'Iceland', 'value': 'Iceland'},\n",
       " {'label': 'India', 'value': 'India'},\n",
       " {'label': 'IndianaPacers', 'value': 'IndianaPacers'},\n",
       " {'label': 'Indonesia', 'value': 'Indonesia'},\n",
       " {'label': 'Iran', 'value': 'Iran'},\n",
       " {'label': 'Iraq', 'value': 'Iraq'},\n",
       " {'label': 'Ireland', 'value': 'Ireland'},\n",
       " {'label': 'Islam', 'value': 'Islam'},\n",
       " {'label': 'Isle of Man', 'value': 'Isle of Man'},\n",
       " {'label': 'Israel', 'value': 'Israel'},\n",
       " {'label': 'Italy', 'value': 'Italy'},\n",
       " {'label': 'Ivory Coast', 'value': 'Ivory Coast'},\n",
       " {'label': 'JackMa', 'value': 'JackMa'},\n",
       " {'label': 'Jamaica', 'value': 'Jamaica'},\n",
       " {'label': 'Japan', 'value': 'Japan'},\n",
       " {'label': 'JeffBezos', 'value': 'JeffBezos'},\n",
       " {'label': 'Jersey', 'value': 'Jersey'},\n",
       " {'label': 'Jewish', 'value': 'Jewish'},\n",
       " {'label': 'Jordan', 'value': 'Jordan'},\n",
       " {'label': 'KFC', 'value': 'KFC'},\n",
       " {'label': 'Kazakhstan', 'value': 'Kazakhstan'},\n",
       " {'label': 'Kenya', 'value': 'Kenya'},\n",
       " {'label': 'Kiribati', 'value': 'Kiribati'},\n",
       " {'label': 'Kuwait', 'value': 'Kuwait'},\n",
       " {'label': 'Kyrgyzstan', 'value': 'Kyrgyzstan'},\n",
       " {'label': 'Lao', 'value': 'Lao'},\n",
       " {'label': 'Latvia', 'value': 'Latvia'},\n",
       " {'label': 'ClevelandCavaliers', 'value': 'ClevelandCavaliers'},\n",
       " {'label': 'ANU', 'value': 'ANU'},\n",
       " {'label': 'Berkeley', 'value': 'Berkeley'},\n",
       " {'label': 'Caltech', 'value': 'Caltech'},\n",
       " {'label': 'Cambridge', 'value': 'Cambridge'},\n",
       " {'label': 'ColumbiaUniversity', 'value': 'ColumbiaUniversity'},\n",
       " {'label': 'HKUST', 'value': 'HKUST'},\n",
       " {'label': 'Harvard', 'value': 'Harvard'},\n",
       " {'label': 'KeiNishikori', 'value': 'KeiNishikori'},\n",
       " {'label': 'LeagueofLegends', 'value': 'LeagueofLegends'},\n",
       " {'label': 'Lebanon', 'value': 'Lebanon'},\n",
       " {'label': 'LeicesterCity', 'value': 'LeicesterCity'},\n",
       " {'label': 'Lesotho', 'value': 'Lesotho'},\n",
       " {'label': 'Liberia', 'value': 'Liberia'},\n",
       " {'label': 'Liechtenstein', 'value': 'Liechtenstein'},\n",
       " {'label': 'Lithuania', 'value': 'Lithuania'},\n",
       " {'label': 'Liverpool', 'value': 'Liverpool'},\n",
       " {'label': 'LosAngelesClippers', 'value': 'LosAngelesClippers'},\n",
       " {'label': 'LosAngelesLakers', 'value': 'LosAngelesLakers'},\n",
       " {'label': 'Luxembourg', 'value': 'Luxembourg'},\n",
       " {'label': 'MIT', 'value': 'MIT'},\n",
       " {'label': 'Macao', 'value': 'Macao'},\n",
       " {'label': 'Madagascar', 'value': 'Madagascar'},\n",
       " {'label': 'Malaysia', 'value': 'Malaysia'},\n",
       " {'label': 'ManchesterCity', 'value': 'ManchesterCity'},\n",
       " {'label': 'ManchesterUnited', 'value': 'ManchesterUnited'},\n",
       " {'label': 'MarkZuckerberg', 'value': 'MarkZuckerberg'},\n",
       " {'label': 'Marshall Islands', 'value': 'Marshall Islands'},\n",
       " {'label': 'Martinique', 'value': 'Martinique'},\n",
       " {'label': 'Mauritania', 'value': 'Mauritania'},\n",
       " {'label': 'Mauritius', 'value': 'Mauritius'},\n",
       " {'label': 'Mayotte', 'value': 'Mayotte'},\n",
       " {'label': 'Mcdonalds', 'value': 'Mcdonalds'},\n",
       " {'label': 'Melbourne', 'value': 'Melbourne'},\n",
       " {'label': 'MemphisGrizzlies', 'value': 'MemphisGrizzlies'},\n",
       " {'label': 'Mexico', 'value': 'Mexico'},\n",
       " {'label': 'MiamiHeat', 'value': 'MiamiHeat'},\n",
       " {'label': 'Microsoft', 'value': 'Microsoft'},\n",
       " {'label': 'MilwaukeeBucks', 'value': 'MilwaukeeBucks'},\n",
       " {'label': 'MinnesotaTimberwolves', 'value': 'MinnesotaTimberwolves'},\n",
       " {'label': 'MonashUniversity', 'value': 'MonashUniversity'},\n",
       " {'label': 'Mongolia', 'value': 'Mongolia'},\n",
       " {'label': 'Montenegro', 'value': 'Montenegro'},\n",
       " {'label': 'Morocco', 'value': 'Morocco'},\n",
       " {'label': 'Mozambique', 'value': 'Mozambique'},\n",
       " {'label': 'Muslim', 'value': 'Muslim'},\n",
       " {'label': 'NUS', 'value': 'NUS'},\n",
       " {'label': 'Namibia', 'value': 'Namibia'},\n",
       " {'label': 'Nandos', 'value': 'Nandos'},\n",
       " {'label': 'Nauru', 'value': 'Nauru'},\n",
       " {'label': 'Nepal', 'value': 'Nepal'},\n",
       " {'label': 'Netflix', 'value': 'Netflix'},\n",
       " {'label': 'Netherlands', 'value': 'Netherlands'},\n",
       " {'label': 'New Caledonia', 'value': 'New Caledonia'},\n",
       " {'label': 'NewOrleansPelicans', 'value': 'NewOrleansPelicans'},\n",
       " {'label': 'NewYorkKnicks', 'value': 'NewYorkKnicks'},\n",
       " {'label': 'NewZealand', 'value': 'NewZealand'},\n",
       " {'label': 'NickKyrgios', 'value': 'NickKyrgios'},\n",
       " {'label': 'Nigeria', 'value': 'Nigeria'},\n",
       " {'label': 'Nike', 'value': 'Nike'},\n",
       " {'label': 'NorthKorea', 'value': 'NorthKorea'},\n",
       " {'label': 'Norway', 'value': 'Norway'},\n",
       " {'label': 'NovakDjokovic', 'value': 'NovakDjokovic'},\n",
       " {'label': 'Nvidia', 'value': 'Nvidia'},\n",
       " {'label': 'OklahomaCityThunder', 'value': 'OklahomaCityThunder'},\n",
       " {'label': 'OrlandoMagic', 'value': 'OrlandoMagic'},\n",
       " {'label': 'Overwatch', 'value': 'Overwatch'},\n",
       " {'label': 'OxfordUni', 'value': 'OxfordUni'},\n",
       " {'label': 'Pakistan', 'value': 'Pakistan'},\n",
       " {'label': 'Papua New Guinea', 'value': 'Papua New Guinea'},\n",
       " {'label': 'Paraguay', 'value': 'Paraguay'},\n",
       " {'label': 'Perth', 'value': 'Perth'},\n",
       " {'label': 'Peru', 'value': 'Peru'},\n",
       " {'label': 'Philadelphia76ers', 'value': 'Philadelphia76ers'},\n",
       " {'label': 'Philippines', 'value': 'Philippines'},\n",
       " {'label': 'PhoenixSuns', 'value': 'PhoenixSuns'},\n",
       " {'label': 'Pitcairn', 'value': 'Pitcairn'},\n",
       " {'label': 'Poland', 'value': 'Poland'},\n",
       " {'label': 'Popeyes', 'value': 'Popeyes'},\n",
       " {'label': 'PortlandTrailBlazers', 'value': 'PortlandTrailBlazers'},\n",
       " {'label': 'Princeton', 'value': 'Princeton'},\n",
       " {'label': 'Puerto Rico', 'value': 'Puerto Rico'},\n",
       " {'label': 'RMIT', 'value': 'RMIT'},\n",
       " {'label': 'RafaelNadal', 'value': 'RafaelNadal'},\n",
       " {'label': 'RogerFederer', 'value': 'RogerFederer'},\n",
       " {'label': 'Russia', 'value': 'Russia'},\n",
       " {'label': 'SacramentoKings', 'value': 'SacramentoKings'},\n",
       " {'label': 'Samoa', 'value': 'Samoa'},\n",
       " {'label': 'SanAntonioSpurs', 'value': 'SanAntonioSpurs'},\n",
       " {'label': 'Saudi Arabia', 'value': 'Saudi Arabia'},\n",
       " {'label': 'Senegal', 'value': 'Senegal'},\n",
       " {'label': 'Serbia', 'value': 'Serbia'},\n",
       " {'label': 'Seychelles', 'value': 'Seychelles'},\n",
       " {'label': 'Sierra Leone', 'value': 'Sierra Leone'},\n",
       " {'label': 'Singapore', 'value': 'Singapore'},\n",
       " {'label': 'Solomon Islands', 'value': 'Solomon Islands'},\n",
       " {'label': 'Somalia', 'value': 'Somalia'},\n",
       " {'label': 'SouthAfrica', 'value': 'SouthAfrica'},\n",
       " {'label': 'SouthKorea', 'value': 'SouthKorea'},\n",
       " {'label': 'Southampton', 'value': 'Southampton'},\n",
       " {'label': 'Spain', 'value': 'Spain'},\n",
       " {'label': 'Sri Lanka', 'value': 'Sri Lanka'},\n",
       " {'label': 'Stanford', 'value': 'Stanford'},\n",
       " {'label': 'Starbucks', 'value': 'Starbucks'},\n",
       " {'label': 'Subway', 'value': 'Subway'},\n",
       " {'label': 'Sudan', 'value': 'Sudan'},\n",
       " {'label': 'Sweden', 'value': 'Sweden'},\n",
       " {'label': 'Switzerland', 'value': 'Switzerland'},\n",
       " {'label': 'Sydney', 'value': 'Sydney'},\n",
       " {'label': 'Syria', 'value': 'Syria'},\n",
       " {'label': 'Taiwan', 'value': 'Taiwan'},\n",
       " {'label': 'Tajikistan', 'value': 'Tajikistan'},\n",
       " {'label': 'Tanzania', 'value': 'Tanzania'},\n",
       " {'label': 'Tesla', 'value': 'Tesla'},\n",
       " {'label': 'Thailand', 'value': 'Thailand'},\n",
       " {'label': 'Togo', 'value': 'Togo'},\n",
       " {'label': 'TorontoRaptors', 'value': 'TorontoRaptors'},\n",
       " {'label': 'TottenhamHotspur', 'value': 'TottenhamHotspur'},\n",
       " {'label': 'Travel', 'value': 'Travel'},\n",
       " {'label': 'Trinidad and Tobago', 'value': 'Trinidad and Tobago'},\n",
       " {'label': 'Turkey', 'value': 'Turkey'},\n",
       " {'label': 'Turkmenistan', 'value': 'Turkmenistan'},\n",
       " {'label': 'Twitch', 'value': 'Twitch'},\n",
       " {'label': 'UCL', 'value': 'UCL'},\n",
       " {'label': 'UCLA', 'value': 'UCLA'},\n",
       " {'label': 'UCSD', 'value': 'UCSD'},\n",
       " {'label': 'USA', 'value': 'USA'},\n",
       " {'label': 'Uganda', 'value': 'Uganda'},\n",
       " {'label': 'Ukraine', 'value': 'Ukraine'},\n",
       " {'label': 'Uniqlo', 'value': 'Uniqlo'},\n",
       " {'label': 'United Arab Emirates', 'value': 'United Arab Emirates'},\n",
       " {'label': 'UnitedKingdom', 'value': 'UnitedKingdom'},\n",
       " {'label': 'UniversityOfBritishColumbia',\n",
       "  'value': 'UniversityOfBritishColumbia'},\n",
       " {'label': 'UniversityOfHongKong', 'value': 'UniversityOfHongKong'},\n",
       " {'label': 'UniversityOfMelbourne', 'value': 'UniversityOfMelbourne'},\n",
       " {'label': 'Uruguay', 'value': 'Uruguay'},\n",
       " {'label': 'UtahJazz', 'value': 'UtahJazz'},\n",
       " {'label': 'Uzbekistan', 'value': 'Uzbekistan'},\n",
       " {'label': 'Valorant', 'value': 'Valorant'},\n",
       " {'label': 'Vanuatu', 'value': 'Vanuatu'},\n",
       " {'label': 'Venezuela', 'value': 'Venezuela'},\n",
       " {'label': 'Vietnam', 'value': 'Vietnam'},\n",
       " {'label': 'WarrenBuffett', 'value': 'WarrenBuffett'},\n",
       " {'label': 'Youtube', 'value': 'Youtube'},\n",
       " {'label': 'Zambia', 'value': 'Zambia'},\n",
       " {'label': 'Zara', 'value': 'Zara'},\n",
       " {'label': 'Zimbabwe', 'value': 'Zimbabwe'},\n",
       " {'label': 'cats', 'value': 'cats'},\n",
       " {'label': 'dogs', 'value': 'dogs'},\n",
       " {'label': 'Libya', 'value': 'Libya'},\n",
       " {'label': 'Malawi', 'value': 'Malawi'},\n",
       " {'label': 'Maldives', 'value': 'Maldives'},\n",
       " {'label': 'Mali', 'value': 'Mali'},\n",
       " {'label': 'Malta', 'value': 'Malta'},\n",
       " {'label': 'Monaco', 'value': 'Monaco'},\n",
       " {'label': 'Myanmar', 'value': 'Myanmar'},\n",
       " {'label': 'Oman', 'value': 'Oman'},\n",
       " {'label': 'Palestine', 'value': 'Palestine'},\n",
       " {'label': 'Panama', 'value': 'Panama'},\n",
       " {'label': 'Phillippines', 'value': 'Phillippines'},\n",
       " {'label': 'Portugal', 'value': 'Portugal'},\n",
       " {'label': 'Qatar', 'value': 'Qatar'},\n",
       " {'label': 'Romania', 'value': 'Romania'},\n",
       " {'label': 'Rwanda', 'value': 'Rwanda'},\n",
       " {'label': 'Slovakia', 'value': 'Slovakia'},\n",
       " {'label': 'Slovenia', 'value': 'Slovenia'},\n",
       " {'label': 'Tonga', 'value': 'Tonga'},\n",
       " {'label': 'Tunisia', 'value': 'Tunisia'},\n",
       " {'label': 'Yemen', 'value': 'Yemen'},\n",
       " {'label': 'DeakinUniversity', 'value': 'DeakinUniversity'},\n",
       " {'label': 'KingsCollege', 'value': 'KingsCollege'},\n",
       " {'label': 'UniversityOfSydney', 'value': 'UniversityOfSydney'}]"
      ]
     },
     "execution_count": 62,
     "metadata": {},
     "output_type": "execute_result"
    }
   ],
   "source": [
    "partition_1_options"
   ]
  },
  {
   "cell_type": "code",
   "execution_count": null,
   "metadata": {},
   "outputs": [],
   "source": []
  }
 ],
 "metadata": {
  "kernelspec": {
   "display_name": "Python 3",
   "language": "python",
   "name": "python3"
  },
  "language_info": {
   "codemirror_mode": {
    "name": "ipython",
    "version": 3
   },
   "file_extension": ".py",
   "mimetype": "text/x-python",
   "name": "python",
   "nbconvert_exporter": "python",
   "pygments_lexer": "ipython3",
   "version": "3.6.3"
  }
 },
 "nbformat": 4,
 "nbformat_minor": 4
}
