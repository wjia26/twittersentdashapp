{
 "cells": [
  {
   "cell_type": "code",
   "execution_count": 6,
   "metadata": {},
   "outputs": [],
   "source": [
    "import pandas as pd\n",
    "import plotly.express as px\n",
    "import datetime\n",
    "import os\n",
    "import json\n",
    "import ast\n",
    "import s3fs"
   ]
  },
  {
   "cell_type": "code",
   "execution_count": 30,
   "metadata": {},
   "outputs": [
    {
     "data": {
      "text/html": [
       "<div>\n",
       "<style scoped>\n",
       "    .dataframe tbody tr th:only-of-type {\n",
       "        vertical-align: middle;\n",
       "    }\n",
       "\n",
       "    .dataframe tbody tr th {\n",
       "        vertical-align: top;\n",
       "    }\n",
       "\n",
       "    .dataframe thead th {\n",
       "        text-align: right;\n",
       "    }\n",
       "</style>\n",
       "<table border=\"1\" class=\"dataframe\">\n",
       "  <thead>\n",
       "    <tr style=\"text-align: right;\">\n",
       "      <th></th>\n",
       "      <th>partition_1</th>\n",
       "      <th>partition_0</th>\n",
       "      <th>search_query</th>\n",
       "      <th>avg_polarity</th>\n",
       "      <th>avg_followers</th>\n",
       "      <th>avg_friends</th>\n",
       "      <th>avg_retweet_count</th>\n",
       "      <th>word_freq</th>\n",
       "      <th>count</th>\n",
       "      <th>top_tweets</th>\n",
       "      <th>create_date</th>\n",
       "    </tr>\n",
       "  </thead>\n",
       "  <tbody>\n",
       "    <tr>\n",
       "      <th>0</th>\n",
       "      <td>AFC Bournemouth</td>\n",
       "      <td>EPL</td>\n",
       "      <td>#Bournemouth</td>\n",
       "      <td>0.124462</td>\n",
       "      <td>7269.750000</td>\n",
       "      <td>2709.102273</td>\n",
       "      <td>7.329545</td>\n",
       "      <td>[('looking', 36), ('view', 33), ('pier.', 31),...</td>\n",
       "      <td>264</td>\n",
       "      <td>[{'max_retweet_count': 348, 'text': 'RT @lazbi...</td>\n",
       "      <td>2020-07-31</td>\n",
       "    </tr>\n",
       "    <tr>\n",
       "      <th>1</th>\n",
       "      <td>AMD</td>\n",
       "      <td>Technology</td>\n",
       "      <td>#AMD</td>\n",
       "      <td>0.167238</td>\n",
       "      <td>4258.261780</td>\n",
       "      <td>1351.947644</td>\n",
       "      <td>2.581152</td>\n",
       "      <td>[('ryzen', 26), ('amd', 21), ('$amd', 18), ('5...</td>\n",
       "      <td>191</td>\n",
       "      <td>[{'max_retweet_count': 62, 'text': 'RT @Tsunau...</td>\n",
       "      <td>2020-07-31</td>\n",
       "    </tr>\n",
       "    <tr>\n",
       "      <th>2</th>\n",
       "      <td>Adelaide</td>\n",
       "      <td>Australia</td>\n",
       "      <td>#Adelaide</td>\n",
       "      <td>0.175739</td>\n",
       "      <td>14167.537849</td>\n",
       "      <td>4468.709163</td>\n",
       "      <td>11.422311</td>\n",
       "      <td>[('new', 31), ('kaurna', 16), ('officially', 1...</td>\n",
       "      <td>251</td>\n",
       "      <td>[{'max_retweet_count': 291, 'text': 'RT @MikeH...</td>\n",
       "      <td>2020-07-31</td>\n",
       "    </tr>\n",
       "    <tr>\n",
       "      <th>3</th>\n",
       "      <td>Adidas</td>\n",
       "      <td>Fashion</td>\n",
       "      <td>#Adidas</td>\n",
       "      <td>0.322866</td>\n",
       "      <td>6787.027479</td>\n",
       "      <td>1110.169654</td>\n",
       "      <td>11.506571</td>\n",
       "      <td>[('check', 206), ('good', 190), (\"i'm\", 190), ...</td>\n",
       "      <td>837</td>\n",
       "      <td>[{'max_retweet_count': 438, 'text': 'RT @Stuar...</td>\n",
       "      <td>2020-07-31</td>\n",
       "    </tr>\n",
       "    <tr>\n",
       "      <th>4</th>\n",
       "      <td>Afghanistan</td>\n",
       "      <td>Politics</td>\n",
       "      <td>#Afghanistan</td>\n",
       "      <td>-0.123064</td>\n",
       "      <td>7412.314098</td>\n",
       "      <td>1583.798689</td>\n",
       "      <td>52.022295</td>\n",
       "      <td>[('border', 323), ('side', 220), ('boldak', 20...</td>\n",
       "      <td>1525</td>\n",
       "      <td>[{'max_retweet_count': 952, 'text': 'RT @Hartw...</td>\n",
       "      <td>2020-07-31</td>\n",
       "    </tr>\n",
       "  </tbody>\n",
       "</table>\n",
       "</div>"
      ],
      "text/plain": [
       "       partition_1 partition_0  search_query  avg_polarity  avg_followers  \\\n",
       "0  AFC Bournemouth         EPL  #Bournemouth      0.124462    7269.750000   \n",
       "1              AMD  Technology          #AMD      0.167238    4258.261780   \n",
       "2         Adelaide   Australia     #Adelaide      0.175739   14167.537849   \n",
       "3           Adidas     Fashion       #Adidas      0.322866    6787.027479   \n",
       "4      Afghanistan    Politics  #Afghanistan     -0.123064    7412.314098   \n",
       "\n",
       "   avg_friends  avg_retweet_count  \\\n",
       "0  2709.102273           7.329545   \n",
       "1  1351.947644           2.581152   \n",
       "2  4468.709163          11.422311   \n",
       "3  1110.169654          11.506571   \n",
       "4  1583.798689          52.022295   \n",
       "\n",
       "                                           word_freq  count  \\\n",
       "0  [('looking', 36), ('view', 33), ('pier.', 31),...    264   \n",
       "1  [('ryzen', 26), ('amd', 21), ('$amd', 18), ('5...    191   \n",
       "2  [('new', 31), ('kaurna', 16), ('officially', 1...    251   \n",
       "3  [('check', 206), ('good', 190), (\"i'm\", 190), ...    837   \n",
       "4  [('border', 323), ('side', 220), ('boldak', 20...   1525   \n",
       "\n",
       "                                          top_tweets create_date  \n",
       "0  [{'max_retweet_count': 348, 'text': 'RT @lazbi...  2020-07-31  \n",
       "1  [{'max_retweet_count': 62, 'text': 'RT @Tsunau...  2020-07-31  \n",
       "2  [{'max_retweet_count': 291, 'text': 'RT @MikeH...  2020-07-31  \n",
       "3  [{'max_retweet_count': 438, 'text': 'RT @Stuar...  2020-07-31  \n",
       "4  [{'max_retweet_count': 952, 'text': 'RT @Hartw...  2020-07-31  "
      ]
     },
     "execution_count": 30,
     "metadata": {},
     "output_type": "execute_result"
    }
   ],
   "source": [
    "df.head()"
   ]
  },
  {
   "cell_type": "code",
   "execution_count": 31,
   "metadata": {},
   "outputs": [],
   "source": [
    "dffiltered=df[(df['partition_1']=='AMD') & (df['partition_0']=='Technology') ].sort_values(by=['create_date'],ascending=True)"
   ]
  },
  {
   "cell_type": "code",
   "execution_count": 35,
   "metadata": {},
   "outputs": [],
   "source": [
    "top_tweets_str=dffiltered.head(1)['top_tweets'].iloc[0]\n",
    "top_tweets_arr=ast.literal_eval(top_tweets_str)"
   ]
  },
  {
   "cell_type": "code",
   "execution_count": 36,
   "metadata": {},
   "outputs": [
    {
     "data": {
      "text/plain": [
       "[{'max_retweet_count': 15,\n",
       "  'text': '#AMD Launches The @AMDRyzen #ThreadripperPRO For Workstations  https://t.co/bMeberft4K https://t.co/8sKj6LF6qw',\n",
       "  'count': 12,\n",
       "  'avg_polarity': 0.0},\n",
       " {'max_retweet_count': 15,\n",
       "  'text': 'RT @phoronix: #AMD Launches The @AMDRyzen #ThreadripperPRO For Workstations  https://t.co/bMeberft4K https://t.co/8sKj6LF6qw',\n",
       "  'count': 151,\n",
       "  'avg_polarity': 0.0},\n",
       " {'max_retweet_count': 8,\n",
       "  'text': 'RT @SapphireTech: #AMD is back with a new #RaiseTheGame Bundle! Get up to 2 games when you buy a SAPPHIRE #Radeon RX 5000 Series #GPU🙌  Rea…',\n",
       "  'count': 63,\n",
       "  'avg_polarity': 0.0},\n",
       " {'max_retweet_count': 8,\n",
       "  'text': 'RT @DjoricAna: New LenovoThinkStation P620 with AMD Ryzen Threadripper PRO Processor - up to 64 cores, 1TB memory and Gen 4 PCI express sto…',\n",
       "  'count': 45,\n",
       "  'avg_polarity': 0.0},\n",
       " {'max_retweet_count': 8,\n",
       "  'text': 'New LenovoThinkStation P620 with AMD Ryzen Threadripper PRO Processor - up to 64 cores, 1TB memory and Gen 4 PCI express storage just announced. WOW #wearelenovo, #workstations #AMD https://t.co/f8lMTbtr1x https://t.co/DWVF2PaWYz',\n",
       "  'count': 10,\n",
       "  'avg_polarity': 0.674},\n",
       " {'max_retweet_count': 8,\n",
       "  'text': '#AMD is back with a new #RaiseTheGame Bundle! Get up to 2 games when you buy a SAPPHIRE #Radeon RX 5000 Series #GPU🙌  Read the full details here: https://t.co/Jrdy3e6V8G https://t.co/EBqDU2mOtf',\n",
       "  'count': 9,\n",
       "  'avg_polarity': 0.0},\n",
       " {'max_retweet_count': 5,\n",
       "  'text': 'youngie15 #battlestations #desktop #gaming #gamer #gamingpc #pcgaming #tech #techie #intel #gamingsetup #nvidia… https://t.co/eANLI5sf4B',\n",
       "  'count': 4,\n",
       "  'avg_polarity': 0.0},\n",
       " {'max_retweet_count': 5,\n",
       "  'text': \"RT @DeusQain: Fuck it.. We'll do it live! https://t.co/a1rYEqFwwv #AMD #surgery #CPU #lowfi\",\n",
       "  'count': 40,\n",
       "  'avg_polarity': -0.585},\n",
       " {'max_retweet_count': 5,\n",
       "  'text': 'RT @msolucionesinfo: youngie15 #battlestations #desktop #gaming #gamer #gamingpc #pcgaming #tech #techie #intel #gamingsetup #nvidia #water…',\n",
       "  'count': 59,\n",
       "  'avg_polarity': 0.0},\n",
       " {'max_retweet_count': 5,\n",
       "  'text': 'youngie15 #battlestations #desktop #gaming #gamer #gamingpc #pcgaming #tech #techie #intel #gamingsetup #nvidia #watercooled #pc #uruguay #computer #amd #computers #mods #workstation #pcmod #custompc #pcbuild #pcmasterrace #pcgamer #informatica #rgb https://t.co/yxAoBO6f63',\n",
       "  'count': 10,\n",
       "  'avg_polarity': 0.0},\n",
       " {'max_retweet_count': 5,\n",
       "  'text': \"Fuck it.. We'll do it live! https://t.co/a1rYEqFwwv #AMD #surgery #CPU #lowfi\",\n",
       "  'count': 10,\n",
       "  'avg_polarity': -0.585},\n",
       " {'max_retweet_count': 5,\n",
       "  'text': 'New LenovoThinkStation P620 with AMD Ryzen Threadripper PRO Processor - up to 64 cores, 1TB memory and Gen 4 PCI ex… https://t.co/6nwObdlGOo',\n",
       "  'count': 5,\n",
       "  'avg_polarity': 0.0},\n",
       " {'max_retweet_count': 5,\n",
       "  'text': '#AMD is back with a new #RaiseTheGame Bundle! Get up to 2 games when you buy a SAPPHIRE #Radeon RX 5000 Series #GPU… https://t.co/NpGLT5m37E',\n",
       "  'count': 2,\n",
       "  'avg_polarity': 0.0},\n",
       " {'max_retweet_count': 4,\n",
       "  'text': 'RT @mooreslawisdead: Today I received some info regarding #AMD RDNA 2 just as I was finishing a video about #Nvidia Ampere.  And you know w…',\n",
       "  'count': 40,\n",
       "  'avg_polarity': 0.0},\n",
       " {'max_retweet_count': 4,\n",
       "  'text': 'Today I received some info regarding #AMD RDNA 2 just as I was finishing a video about #Nvidia Ampere.  And you kno… https://t.co/C7i4RaP5Ml',\n",
       "  'count': 2,\n",
       "  'avg_polarity': 0.0},\n",
       " {'max_retweet_count': 4,\n",
       "  'text': '#OccupierBio This week we are highlighting @GyroscopeTx and their mission to develop genetically-defined therapies for the treatment of eye diseases linked to an unbalanced complement system. Find out more here: https://t.co/tDgC0bIaj9 #AMD #VisionForLife #genetherapy https://t.co/UY11A1OZqn',\n",
       "  'count': 8,\n",
       "  'avg_polarity': 0.0},\n",
       " {'max_retweet_count': 4,\n",
       "  'text': 'JulianBright #battlestations #desktop #gaming #gamer #gamingpc #pcgaming #tech #techie #intel #gamingsetup #nvidia #watercooled #pc #uruguay #computer #amd #computers #mods #workstation #pcmod #custompc #pcbuild #pcmasterrace #pcgamer #informatica #rgb https://t.co/Op1gEzJZzo',\n",
       "  'count': 10,\n",
       "  'avg_polarity': 0.0},\n",
       " {'max_retweet_count': 4,\n",
       "  'text': 'JulianBright #battlestations #desktop #gaming #gamer #gamingpc #pcgaming #tech #techie #intel #gamingsetup #nvidia… https://t.co/mXdortcsYG',\n",
       "  'count': 4,\n",
       "  'avg_polarity': 0.0},\n",
       " {'max_retweet_count': 4,\n",
       "  'text': 'RT @SteBioCat: #OccupierBio This week we are highlighting @GyroscopeTx and their mission to develop genetically-defined therapies for the t…',\n",
       "  'count': 12,\n",
       "  'avg_polarity': 0.0},\n",
       " {'max_retweet_count': 4,\n",
       "  'text': 'RT @msolucionesinfo: JulianBright #battlestations #desktop #gaming #gamer #gamingpc #pcgaming #tech #techie #intel #gamingsetup #nvidia #wa…',\n",
       "  'count': 59,\n",
       "  'avg_polarity': 0.0}]"
      ]
     },
     "execution_count": 36,
     "metadata": {},
     "output_type": "execute_result"
    }
   ],
   "source": [
    "top_tweets_arr"
   ]
  },
  {
   "cell_type": "code",
   "execution_count": 37,
   "metadata": {},
   "outputs": [],
   "source": [
    "df_toptweets=pd.DataFrame(top_tweets_arr)"
   ]
  },
  {
   "cell_type": "code",
   "execution_count": 38,
   "metadata": {},
   "outputs": [
    {
     "data": {
      "text/html": [
       "<div>\n",
       "<style scoped>\n",
       "    .dataframe tbody tr th:only-of-type {\n",
       "        vertical-align: middle;\n",
       "    }\n",
       "\n",
       "    .dataframe tbody tr th {\n",
       "        vertical-align: top;\n",
       "    }\n",
       "\n",
       "    .dataframe thead th {\n",
       "        text-align: right;\n",
       "    }\n",
       "</style>\n",
       "<table border=\"1\" class=\"dataframe\">\n",
       "  <thead>\n",
       "    <tr style=\"text-align: right;\">\n",
       "      <th></th>\n",
       "      <th>max_retweet_count</th>\n",
       "      <th>text</th>\n",
       "      <th>count</th>\n",
       "      <th>avg_polarity</th>\n",
       "    </tr>\n",
       "  </thead>\n",
       "  <tbody>\n",
       "    <tr>\n",
       "      <th>0</th>\n",
       "      <td>15</td>\n",
       "      <td>#AMD Launches The @AMDRyzen #ThreadripperPRO F...</td>\n",
       "      <td>12</td>\n",
       "      <td>0.000</td>\n",
       "    </tr>\n",
       "    <tr>\n",
       "      <th>1</th>\n",
       "      <td>15</td>\n",
       "      <td>RT @phoronix: #AMD Launches The @AMDRyzen #Thr...</td>\n",
       "      <td>151</td>\n",
       "      <td>0.000</td>\n",
       "    </tr>\n",
       "    <tr>\n",
       "      <th>2</th>\n",
       "      <td>8</td>\n",
       "      <td>RT @SapphireTech: #AMD is back with a new #Rai...</td>\n",
       "      <td>63</td>\n",
       "      <td>0.000</td>\n",
       "    </tr>\n",
       "    <tr>\n",
       "      <th>3</th>\n",
       "      <td>8</td>\n",
       "      <td>RT @DjoricAna: New LenovoThinkStation P620 wit...</td>\n",
       "      <td>45</td>\n",
       "      <td>0.000</td>\n",
       "    </tr>\n",
       "    <tr>\n",
       "      <th>4</th>\n",
       "      <td>8</td>\n",
       "      <td>New LenovoThinkStation P620 with AMD Ryzen Thr...</td>\n",
       "      <td>10</td>\n",
       "      <td>0.674</td>\n",
       "    </tr>\n",
       "    <tr>\n",
       "      <th>5</th>\n",
       "      <td>8</td>\n",
       "      <td>#AMD is back with a new #RaiseTheGame Bundle! ...</td>\n",
       "      <td>9</td>\n",
       "      <td>0.000</td>\n",
       "    </tr>\n",
       "    <tr>\n",
       "      <th>6</th>\n",
       "      <td>5</td>\n",
       "      <td>youngie15 #battlestations #desktop #gaming #ga...</td>\n",
       "      <td>4</td>\n",
       "      <td>0.000</td>\n",
       "    </tr>\n",
       "    <tr>\n",
       "      <th>7</th>\n",
       "      <td>5</td>\n",
       "      <td>RT @DeusQain: Fuck it.. We'll do it live! http...</td>\n",
       "      <td>40</td>\n",
       "      <td>-0.585</td>\n",
       "    </tr>\n",
       "    <tr>\n",
       "      <th>8</th>\n",
       "      <td>5</td>\n",
       "      <td>RT @msolucionesinfo: youngie15 #battlestations...</td>\n",
       "      <td>59</td>\n",
       "      <td>0.000</td>\n",
       "    </tr>\n",
       "    <tr>\n",
       "      <th>9</th>\n",
       "      <td>5</td>\n",
       "      <td>youngie15 #battlestations #desktop #gaming #ga...</td>\n",
       "      <td>10</td>\n",
       "      <td>0.000</td>\n",
       "    </tr>\n",
       "    <tr>\n",
       "      <th>10</th>\n",
       "      <td>5</td>\n",
       "      <td>Fuck it.. We'll do it live! https://t.co/a1rYE...</td>\n",
       "      <td>10</td>\n",
       "      <td>-0.585</td>\n",
       "    </tr>\n",
       "    <tr>\n",
       "      <th>11</th>\n",
       "      <td>5</td>\n",
       "      <td>New LenovoThinkStation P620 with AMD Ryzen Thr...</td>\n",
       "      <td>5</td>\n",
       "      <td>0.000</td>\n",
       "    </tr>\n",
       "    <tr>\n",
       "      <th>12</th>\n",
       "      <td>5</td>\n",
       "      <td>#AMD is back with a new #RaiseTheGame Bundle! ...</td>\n",
       "      <td>2</td>\n",
       "      <td>0.000</td>\n",
       "    </tr>\n",
       "    <tr>\n",
       "      <th>13</th>\n",
       "      <td>4</td>\n",
       "      <td>RT @mooreslawisdead: Today I received some inf...</td>\n",
       "      <td>40</td>\n",
       "      <td>0.000</td>\n",
       "    </tr>\n",
       "    <tr>\n",
       "      <th>14</th>\n",
       "      <td>4</td>\n",
       "      <td>Today I received some info regarding #AMD RDNA...</td>\n",
       "      <td>2</td>\n",
       "      <td>0.000</td>\n",
       "    </tr>\n",
       "    <tr>\n",
       "      <th>15</th>\n",
       "      <td>4</td>\n",
       "      <td>#OccupierBio This week we are highlighting @Gy...</td>\n",
       "      <td>8</td>\n",
       "      <td>0.000</td>\n",
       "    </tr>\n",
       "    <tr>\n",
       "      <th>16</th>\n",
       "      <td>4</td>\n",
       "      <td>JulianBright #battlestations #desktop #gaming ...</td>\n",
       "      <td>10</td>\n",
       "      <td>0.000</td>\n",
       "    </tr>\n",
       "    <tr>\n",
       "      <th>17</th>\n",
       "      <td>4</td>\n",
       "      <td>JulianBright #battlestations #desktop #gaming ...</td>\n",
       "      <td>4</td>\n",
       "      <td>0.000</td>\n",
       "    </tr>\n",
       "    <tr>\n",
       "      <th>18</th>\n",
       "      <td>4</td>\n",
       "      <td>RT @SteBioCat: #OccupierBio This week we are h...</td>\n",
       "      <td>12</td>\n",
       "      <td>0.000</td>\n",
       "    </tr>\n",
       "    <tr>\n",
       "      <th>19</th>\n",
       "      <td>4</td>\n",
       "      <td>RT @msolucionesinfo: JulianBright #battlestati...</td>\n",
       "      <td>59</td>\n",
       "      <td>0.000</td>\n",
       "    </tr>\n",
       "  </tbody>\n",
       "</table>\n",
       "</div>"
      ],
      "text/plain": [
       "    max_retweet_count                                               text  \\\n",
       "0                  15  #AMD Launches The @AMDRyzen #ThreadripperPRO F...   \n",
       "1                  15  RT @phoronix: #AMD Launches The @AMDRyzen #Thr...   \n",
       "2                   8  RT @SapphireTech: #AMD is back with a new #Rai...   \n",
       "3                   8  RT @DjoricAna: New LenovoThinkStation P620 wit...   \n",
       "4                   8  New LenovoThinkStation P620 with AMD Ryzen Thr...   \n",
       "5                   8  #AMD is back with a new #RaiseTheGame Bundle! ...   \n",
       "6                   5  youngie15 #battlestations #desktop #gaming #ga...   \n",
       "7                   5  RT @DeusQain: Fuck it.. We'll do it live! http...   \n",
       "8                   5  RT @msolucionesinfo: youngie15 #battlestations...   \n",
       "9                   5  youngie15 #battlestations #desktop #gaming #ga...   \n",
       "10                  5  Fuck it.. We'll do it live! https://t.co/a1rYE...   \n",
       "11                  5  New LenovoThinkStation P620 with AMD Ryzen Thr...   \n",
       "12                  5  #AMD is back with a new #RaiseTheGame Bundle! ...   \n",
       "13                  4  RT @mooreslawisdead: Today I received some inf...   \n",
       "14                  4  Today I received some info regarding #AMD RDNA...   \n",
       "15                  4  #OccupierBio This week we are highlighting @Gy...   \n",
       "16                  4  JulianBright #battlestations #desktop #gaming ...   \n",
       "17                  4  JulianBright #battlestations #desktop #gaming ...   \n",
       "18                  4  RT @SteBioCat: #OccupierBio This week we are h...   \n",
       "19                  4  RT @msolucionesinfo: JulianBright #battlestati...   \n",
       "\n",
       "    count  avg_polarity  \n",
       "0      12         0.000  \n",
       "1     151         0.000  \n",
       "2      63         0.000  \n",
       "3      45         0.000  \n",
       "4      10         0.674  \n",
       "5       9         0.000  \n",
       "6       4         0.000  \n",
       "7      40        -0.585  \n",
       "8      59         0.000  \n",
       "9      10         0.000  \n",
       "10     10        -0.585  \n",
       "11      5         0.000  \n",
       "12      2         0.000  \n",
       "13     40         0.000  \n",
       "14      2         0.000  \n",
       "15      8         0.000  \n",
       "16     10         0.000  \n",
       "17      4         0.000  \n",
       "18     12         0.000  \n",
       "19     59         0.000  "
      ]
     },
     "execution_count": 38,
     "metadata": {},
     "output_type": "execute_result"
    }
   ],
   "source": [
    "df_toptweets.sort_"
   ]
  },
  {
   "cell_type": "code",
   "execution_count": 19,
   "metadata": {},
   "outputs": [
    {
     "data": {
      "text/html": [
       "<div>\n",
       "<style scoped>\n",
       "    .dataframe tbody tr th:only-of-type {\n",
       "        vertical-align: middle;\n",
       "    }\n",
       "\n",
       "    .dataframe tbody tr th {\n",
       "        vertical-align: top;\n",
       "    }\n",
       "\n",
       "    .dataframe thead th {\n",
       "        text-align: right;\n",
       "    }\n",
       "</style>\n",
       "<table border=\"1\" class=\"dataframe\">\n",
       "  <thead>\n",
       "    <tr style=\"text-align: right;\">\n",
       "      <th></th>\n",
       "      <th>partition_1</th>\n",
       "      <th>partition_0</th>\n",
       "      <th>avg_polarity</th>\n",
       "      <th>avg_followers</th>\n",
       "      <th>avg_friends</th>\n",
       "      <th>avg_retweet_count</th>\n",
       "      <th>word_freq</th>\n",
       "      <th>count</th>\n",
       "      <th>create_date</th>\n",
       "    </tr>\n",
       "  </thead>\n",
       "  <tbody>\n",
       "    <tr>\n",
       "      <th>1395</th>\n",
       "      <td>AMD</td>\n",
       "      <td>Technology</td>\n",
       "      <td>0.114922</td>\n",
       "      <td>7745.202581</td>\n",
       "      <td>946.569417</td>\n",
       "      <td>2.221744</td>\n",
       "      <td>[('amd', 557), ('new', 371), ('ryzen', 298), (...</td>\n",
       "      <td>2557</td>\n",
       "      <td>2020-07-14</td>\n",
       "    </tr>\n",
       "    <tr>\n",
       "      <th>1541</th>\n",
       "      <td>AMD</td>\n",
       "      <td>Technology</td>\n",
       "      <td>0.097566</td>\n",
       "      <td>26592.059667</td>\n",
       "      <td>613.686401</td>\n",
       "      <td>2.330250</td>\n",
       "      <td>[('amd', 373), ('pro', 323), ('new', 320), ('r...</td>\n",
       "      <td>2162</td>\n",
       "      <td>2020-07-15</td>\n",
       "    </tr>\n",
       "    <tr>\n",
       "      <th>3555</th>\n",
       "      <td>AMD</td>\n",
       "      <td>Technology</td>\n",
       "      <td>0.116975</td>\n",
       "      <td>2807.891681</td>\n",
       "      <td>710.439775</td>\n",
       "      <td>4.974437</td>\n",
       "      <td>[('ryzen', 465), ('⚠️', 402), ('new', 364), ('...</td>\n",
       "      <td>2308</td>\n",
       "      <td>2020-07-16</td>\n",
       "    </tr>\n",
       "    <tr>\n",
       "      <th>3184</th>\n",
       "      <td>AMD</td>\n",
       "      <td>Technology</td>\n",
       "      <td>0.238191</td>\n",
       "      <td>5651.968842</td>\n",
       "      <td>735.835789</td>\n",
       "      <td>4.949895</td>\n",
       "      <td>[('aorus', 578), ('gaming', 411), ('next', 401...</td>\n",
       "      <td>2375</td>\n",
       "      <td>2020-07-17</td>\n",
       "    </tr>\n",
       "    <tr>\n",
       "      <th>1253</th>\n",
       "      <td>AMD</td>\n",
       "      <td>Technology</td>\n",
       "      <td>0.133132</td>\n",
       "      <td>3184.929990</td>\n",
       "      <td>489.051202</td>\n",
       "      <td>3.800418</td>\n",
       "      <td>[('ryzen', 174), ('pro', 153), ('amd', 118), (...</td>\n",
       "      <td>957</td>\n",
       "      <td>2020-07-18</td>\n",
       "    </tr>\n",
       "    <tr>\n",
       "      <th>281</th>\n",
       "      <td>AMD</td>\n",
       "      <td>Technology</td>\n",
       "      <td>0.221949</td>\n",
       "      <td>3818.354239</td>\n",
       "      <td>679.434379</td>\n",
       "      <td>3.233449</td>\n",
       "      <td>[('pc', 199), ('amd', 140), ('asp:', 126), ('r...</td>\n",
       "      <td>861</td>\n",
       "      <td>2020-07-19</td>\n",
       "    </tr>\n",
       "    <tr>\n",
       "      <th>2918</th>\n",
       "      <td>AMD</td>\n",
       "      <td>Technology</td>\n",
       "      <td>0.095059</td>\n",
       "      <td>3551.473786</td>\n",
       "      <td>655.540777</td>\n",
       "      <td>5.585437</td>\n",
       "      <td>[('amd', 174), ('1', 118), ('aorus', 100), ('1...</td>\n",
       "      <td>1030</td>\n",
       "      <td>2020-07-20</td>\n",
       "    </tr>\n",
       "    <tr>\n",
       "      <th>2322</th>\n",
       "      <td>AMD</td>\n",
       "      <td>Technology</td>\n",
       "      <td>0.160070</td>\n",
       "      <td>3557.071429</td>\n",
       "      <td>859.019841</td>\n",
       "      <td>4.728175</td>\n",
       "      <td>[('amd', 156), ('pcie', 83), ('ryzen', 80), ('...</td>\n",
       "      <td>504</td>\n",
       "      <td>2020-07-21</td>\n",
       "    </tr>\n",
       "    <tr>\n",
       "      <th>2181</th>\n",
       "      <td>AMD</td>\n",
       "      <td>Technology</td>\n",
       "      <td>0.186520</td>\n",
       "      <td>4857.899687</td>\n",
       "      <td>748.037618</td>\n",
       "      <td>2.796238</td>\n",
       "      <td>[('$amd', 62), ('amd', 61), ('ryzen', 53), ('n...</td>\n",
       "      <td>319</td>\n",
       "      <td>2020-07-22</td>\n",
       "    </tr>\n",
       "    <tr>\n",
       "      <th>1898</th>\n",
       "      <td>AMD</td>\n",
       "      <td>Technology</td>\n",
       "      <td>0.156478</td>\n",
       "      <td>3007.266990</td>\n",
       "      <td>762.189320</td>\n",
       "      <td>2.033981</td>\n",
       "      <td>[('new', 31), ('amd', 30), ('ryzen', 18), ('$a...</td>\n",
       "      <td>206</td>\n",
       "      <td>2020-07-23</td>\n",
       "    </tr>\n",
       "    <tr>\n",
       "      <th>421</th>\n",
       "      <td>AMD</td>\n",
       "      <td>Technology</td>\n",
       "      <td>0.146716</td>\n",
       "      <td>3902.263610</td>\n",
       "      <td>637.945559</td>\n",
       "      <td>4.054441</td>\n",
       "      <td>[('$amd', 52), ('amd', 43), ('intel', 37), ('s...</td>\n",
       "      <td>349</td>\n",
       "      <td>2020-07-24</td>\n",
       "    </tr>\n",
       "    <tr>\n",
       "      <th>1112</th>\n",
       "      <td>AMD</td>\n",
       "      <td>Technology</td>\n",
       "      <td>0.111914</td>\n",
       "      <td>1425.053571</td>\n",
       "      <td>672.187500</td>\n",
       "      <td>24.803571</td>\n",
       "      <td>[('dr.', 61), ('jekyll/mr.', 61), ('hyde', 61)...</td>\n",
       "      <td>224</td>\n",
       "      <td>2020-07-25</td>\n",
       "    </tr>\n",
       "    <tr>\n",
       "      <th>142</th>\n",
       "      <td>AMD</td>\n",
       "      <td>Technology</td>\n",
       "      <td>0.140879</td>\n",
       "      <td>22751.816667</td>\n",
       "      <td>534.750000</td>\n",
       "      <td>3.450000</td>\n",
       "      <td>[('ryzen', 30), ('$amd', 19), ('new', 16), ('a...</td>\n",
       "      <td>180</td>\n",
       "      <td>2020-07-26</td>\n",
       "    </tr>\n",
       "    <tr>\n",
       "      <th>3414</th>\n",
       "      <td>AMD</td>\n",
       "      <td>Technology</td>\n",
       "      <td>0.155044</td>\n",
       "      <td>3146.764423</td>\n",
       "      <td>816.687500</td>\n",
       "      <td>2.586538</td>\n",
       "      <td>[('$amd', 30), ('ryzen', 26), ('amd', 22), ('7...</td>\n",
       "      <td>208</td>\n",
       "      <td>2020-07-27</td>\n",
       "    </tr>\n",
       "    <tr>\n",
       "      <th>1</th>\n",
       "      <td>AMD</td>\n",
       "      <td>Technology</td>\n",
       "      <td>0.141724</td>\n",
       "      <td>4352.305810</td>\n",
       "      <td>948.954128</td>\n",
       "      <td>4.712538</td>\n",
       "      <td>[('$amd', 85), ('amd', 42), ('via', 25), ('rev...</td>\n",
       "      <td>327</td>\n",
       "      <td>2020-07-28</td>\n",
       "    </tr>\n",
       "  </tbody>\n",
       "</table>\n",
       "</div>"
      ],
      "text/plain": [
       "     partition_1 partition_0  avg_polarity  avg_followers  avg_friends  \\\n",
       "1395         AMD  Technology      0.114922    7745.202581   946.569417   \n",
       "1541         AMD  Technology      0.097566   26592.059667   613.686401   \n",
       "3555         AMD  Technology      0.116975    2807.891681   710.439775   \n",
       "3184         AMD  Technology      0.238191    5651.968842   735.835789   \n",
       "1253         AMD  Technology      0.133132    3184.929990   489.051202   \n",
       "281          AMD  Technology      0.221949    3818.354239   679.434379   \n",
       "2918         AMD  Technology      0.095059    3551.473786   655.540777   \n",
       "2322         AMD  Technology      0.160070    3557.071429   859.019841   \n",
       "2181         AMD  Technology      0.186520    4857.899687   748.037618   \n",
       "1898         AMD  Technology      0.156478    3007.266990   762.189320   \n",
       "421          AMD  Technology      0.146716    3902.263610   637.945559   \n",
       "1112         AMD  Technology      0.111914    1425.053571   672.187500   \n",
       "142          AMD  Technology      0.140879   22751.816667   534.750000   \n",
       "3414         AMD  Technology      0.155044    3146.764423   816.687500   \n",
       "1            AMD  Technology      0.141724    4352.305810   948.954128   \n",
       "\n",
       "      avg_retweet_count                                          word_freq  \\\n",
       "1395           2.221744  [('amd', 557), ('new', 371), ('ryzen', 298), (...   \n",
       "1541           2.330250  [('amd', 373), ('pro', 323), ('new', 320), ('r...   \n",
       "3555           4.974437  [('ryzen', 465), ('⚠️', 402), ('new', 364), ('...   \n",
       "3184           4.949895  [('aorus', 578), ('gaming', 411), ('next', 401...   \n",
       "1253           3.800418  [('ryzen', 174), ('pro', 153), ('amd', 118), (...   \n",
       "281            3.233449  [('pc', 199), ('amd', 140), ('asp:', 126), ('r...   \n",
       "2918           5.585437  [('amd', 174), ('1', 118), ('aorus', 100), ('1...   \n",
       "2322           4.728175  [('amd', 156), ('pcie', 83), ('ryzen', 80), ('...   \n",
       "2181           2.796238  [('$amd', 62), ('amd', 61), ('ryzen', 53), ('n...   \n",
       "1898           2.033981  [('new', 31), ('amd', 30), ('ryzen', 18), ('$a...   \n",
       "421            4.054441  [('$amd', 52), ('amd', 43), ('intel', 37), ('s...   \n",
       "1112          24.803571  [('dr.', 61), ('jekyll/mr.', 61), ('hyde', 61)...   \n",
       "142            3.450000  [('ryzen', 30), ('$amd', 19), ('new', 16), ('a...   \n",
       "3414           2.586538  [('$amd', 30), ('ryzen', 26), ('amd', 22), ('7...   \n",
       "1              4.712538  [('$amd', 85), ('amd', 42), ('via', 25), ('rev...   \n",
       "\n",
       "      count create_date  \n",
       "1395   2557  2020-07-14  \n",
       "1541   2162  2020-07-15  \n",
       "3555   2308  2020-07-16  \n",
       "3184   2375  2020-07-17  \n",
       "1253    957  2020-07-18  \n",
       "281     861  2020-07-19  \n",
       "2918   1030  2020-07-20  \n",
       "2322    504  2020-07-21  \n",
       "2181    319  2020-07-22  \n",
       "1898    206  2020-07-23  \n",
       "421     349  2020-07-24  \n",
       "1112    224  2020-07-25  \n",
       "142     180  2020-07-26  \n",
       "3414    208  2020-07-27  \n",
       "1       327  2020-07-28  "
      ]
     },
     "execution_count": 19,
     "metadata": {},
     "output_type": "execute_result"
    }
   ],
   "source": [
    "dffiltered"
   ]
  },
  {
   "cell_type": "code",
   "execution_count": 17,
   "metadata": {},
   "outputs": [],
   "source": [
    "fig = px.line(dffiltered, x=\"create_date\", y=\"avg_polarity\", title='Sample line Graph')"
   ]
  },
  {
   "cell_type": "code",
   "execution_count": 18,
   "metadata": {},
   "outputs": [
    {
     "data": {
      "application/vnd.plotly.v1+json": {
       "config": {
        "plotlyServerURL": "https://plot.ly"
       },
       "data": [
        {
         "hovertemplate": "create_date=%{x}<br>avg_polarity=%{y}<extra></extra>",
         "legendgroup": "",
         "line": {
          "color": "#636efa",
          "dash": "solid"
         },
         "mode": "lines",
         "name": "",
         "orientation": "v",
         "showlegend": false,
         "type": "scatter",
         "x": [
          "2020-07-14",
          "2020-07-15",
          "2020-07-16",
          "2020-07-17",
          "2020-07-18",
          "2020-07-19",
          "2020-07-20",
          "2020-07-21",
          "2020-07-22",
          "2020-07-23",
          "2020-07-24",
          "2020-07-25",
          "2020-07-26",
          "2020-07-27",
          "2020-07-28"
         ],
         "xaxis": "x",
         "y": [
          0.11492244818146286,
          0.09756623496762283,
          0.11697517331022515,
          0.2381909473684205,
          0.13313197492162973,
          0.22194889663182432,
          0.09505864077669918,
          0.16007023809523793,
          0.18651974921630093,
          0.15647815533980575,
          0.1467163323782235,
          0.11191383928571427,
          0.14087944444444442,
          0.15504374999999998,
          0.14172354740061158
         ],
         "yaxis": "y"
        }
       ],
       "layout": {
        "legend": {
         "tracegroupgap": 0
        },
        "template": {
         "data": {
          "bar": [
           {
            "error_x": {
             "color": "#2a3f5f"
            },
            "error_y": {
             "color": "#2a3f5f"
            },
            "marker": {
             "line": {
              "color": "#E5ECF6",
              "width": 0.5
             }
            },
            "type": "bar"
           }
          ],
          "barpolar": [
           {
            "marker": {
             "line": {
              "color": "#E5ECF6",
              "width": 0.5
             }
            },
            "type": "barpolar"
           }
          ],
          "carpet": [
           {
            "aaxis": {
             "endlinecolor": "#2a3f5f",
             "gridcolor": "white",
             "linecolor": "white",
             "minorgridcolor": "white",
             "startlinecolor": "#2a3f5f"
            },
            "baxis": {
             "endlinecolor": "#2a3f5f",
             "gridcolor": "white",
             "linecolor": "white",
             "minorgridcolor": "white",
             "startlinecolor": "#2a3f5f"
            },
            "type": "carpet"
           }
          ],
          "choropleth": [
           {
            "colorbar": {
             "outlinewidth": 0,
             "ticks": ""
            },
            "type": "choropleth"
           }
          ],
          "contour": [
           {
            "colorbar": {
             "outlinewidth": 0,
             "ticks": ""
            },
            "colorscale": [
             [
              0,
              "#0d0887"
             ],
             [
              0.1111111111111111,
              "#46039f"
             ],
             [
              0.2222222222222222,
              "#7201a8"
             ],
             [
              0.3333333333333333,
              "#9c179e"
             ],
             [
              0.4444444444444444,
              "#bd3786"
             ],
             [
              0.5555555555555556,
              "#d8576b"
             ],
             [
              0.6666666666666666,
              "#ed7953"
             ],
             [
              0.7777777777777778,
              "#fb9f3a"
             ],
             [
              0.8888888888888888,
              "#fdca26"
             ],
             [
              1,
              "#f0f921"
             ]
            ],
            "type": "contour"
           }
          ],
          "contourcarpet": [
           {
            "colorbar": {
             "outlinewidth": 0,
             "ticks": ""
            },
            "type": "contourcarpet"
           }
          ],
          "heatmap": [
           {
            "colorbar": {
             "outlinewidth": 0,
             "ticks": ""
            },
            "colorscale": [
             [
              0,
              "#0d0887"
             ],
             [
              0.1111111111111111,
              "#46039f"
             ],
             [
              0.2222222222222222,
              "#7201a8"
             ],
             [
              0.3333333333333333,
              "#9c179e"
             ],
             [
              0.4444444444444444,
              "#bd3786"
             ],
             [
              0.5555555555555556,
              "#d8576b"
             ],
             [
              0.6666666666666666,
              "#ed7953"
             ],
             [
              0.7777777777777778,
              "#fb9f3a"
             ],
             [
              0.8888888888888888,
              "#fdca26"
             ],
             [
              1,
              "#f0f921"
             ]
            ],
            "type": "heatmap"
           }
          ],
          "heatmapgl": [
           {
            "colorbar": {
             "outlinewidth": 0,
             "ticks": ""
            },
            "colorscale": [
             [
              0,
              "#0d0887"
             ],
             [
              0.1111111111111111,
              "#46039f"
             ],
             [
              0.2222222222222222,
              "#7201a8"
             ],
             [
              0.3333333333333333,
              "#9c179e"
             ],
             [
              0.4444444444444444,
              "#bd3786"
             ],
             [
              0.5555555555555556,
              "#d8576b"
             ],
             [
              0.6666666666666666,
              "#ed7953"
             ],
             [
              0.7777777777777778,
              "#fb9f3a"
             ],
             [
              0.8888888888888888,
              "#fdca26"
             ],
             [
              1,
              "#f0f921"
             ]
            ],
            "type": "heatmapgl"
           }
          ],
          "histogram": [
           {
            "marker": {
             "colorbar": {
              "outlinewidth": 0,
              "ticks": ""
             }
            },
            "type": "histogram"
           }
          ],
          "histogram2d": [
           {
            "colorbar": {
             "outlinewidth": 0,
             "ticks": ""
            },
            "colorscale": [
             [
              0,
              "#0d0887"
             ],
             [
              0.1111111111111111,
              "#46039f"
             ],
             [
              0.2222222222222222,
              "#7201a8"
             ],
             [
              0.3333333333333333,
              "#9c179e"
             ],
             [
              0.4444444444444444,
              "#bd3786"
             ],
             [
              0.5555555555555556,
              "#d8576b"
             ],
             [
              0.6666666666666666,
              "#ed7953"
             ],
             [
              0.7777777777777778,
              "#fb9f3a"
             ],
             [
              0.8888888888888888,
              "#fdca26"
             ],
             [
              1,
              "#f0f921"
             ]
            ],
            "type": "histogram2d"
           }
          ],
          "histogram2dcontour": [
           {
            "colorbar": {
             "outlinewidth": 0,
             "ticks": ""
            },
            "colorscale": [
             [
              0,
              "#0d0887"
             ],
             [
              0.1111111111111111,
              "#46039f"
             ],
             [
              0.2222222222222222,
              "#7201a8"
             ],
             [
              0.3333333333333333,
              "#9c179e"
             ],
             [
              0.4444444444444444,
              "#bd3786"
             ],
             [
              0.5555555555555556,
              "#d8576b"
             ],
             [
              0.6666666666666666,
              "#ed7953"
             ],
             [
              0.7777777777777778,
              "#fb9f3a"
             ],
             [
              0.8888888888888888,
              "#fdca26"
             ],
             [
              1,
              "#f0f921"
             ]
            ],
            "type": "histogram2dcontour"
           }
          ],
          "mesh3d": [
           {
            "colorbar": {
             "outlinewidth": 0,
             "ticks": ""
            },
            "type": "mesh3d"
           }
          ],
          "parcoords": [
           {
            "line": {
             "colorbar": {
              "outlinewidth": 0,
              "ticks": ""
             }
            },
            "type": "parcoords"
           }
          ],
          "pie": [
           {
            "automargin": true,
            "type": "pie"
           }
          ],
          "scatter": [
           {
            "marker": {
             "colorbar": {
              "outlinewidth": 0,
              "ticks": ""
             }
            },
            "type": "scatter"
           }
          ],
          "scatter3d": [
           {
            "line": {
             "colorbar": {
              "outlinewidth": 0,
              "ticks": ""
             }
            },
            "marker": {
             "colorbar": {
              "outlinewidth": 0,
              "ticks": ""
             }
            },
            "type": "scatter3d"
           }
          ],
          "scattercarpet": [
           {
            "marker": {
             "colorbar": {
              "outlinewidth": 0,
              "ticks": ""
             }
            },
            "type": "scattercarpet"
           }
          ],
          "scattergeo": [
           {
            "marker": {
             "colorbar": {
              "outlinewidth": 0,
              "ticks": ""
             }
            },
            "type": "scattergeo"
           }
          ],
          "scattergl": [
           {
            "marker": {
             "colorbar": {
              "outlinewidth": 0,
              "ticks": ""
             }
            },
            "type": "scattergl"
           }
          ],
          "scattermapbox": [
           {
            "marker": {
             "colorbar": {
              "outlinewidth": 0,
              "ticks": ""
             }
            },
            "type": "scattermapbox"
           }
          ],
          "scatterpolar": [
           {
            "marker": {
             "colorbar": {
              "outlinewidth": 0,
              "ticks": ""
             }
            },
            "type": "scatterpolar"
           }
          ],
          "scatterpolargl": [
           {
            "marker": {
             "colorbar": {
              "outlinewidth": 0,
              "ticks": ""
             }
            },
            "type": "scatterpolargl"
           }
          ],
          "scatterternary": [
           {
            "marker": {
             "colorbar": {
              "outlinewidth": 0,
              "ticks": ""
             }
            },
            "type": "scatterternary"
           }
          ],
          "surface": [
           {
            "colorbar": {
             "outlinewidth": 0,
             "ticks": ""
            },
            "colorscale": [
             [
              0,
              "#0d0887"
             ],
             [
              0.1111111111111111,
              "#46039f"
             ],
             [
              0.2222222222222222,
              "#7201a8"
             ],
             [
              0.3333333333333333,
              "#9c179e"
             ],
             [
              0.4444444444444444,
              "#bd3786"
             ],
             [
              0.5555555555555556,
              "#d8576b"
             ],
             [
              0.6666666666666666,
              "#ed7953"
             ],
             [
              0.7777777777777778,
              "#fb9f3a"
             ],
             [
              0.8888888888888888,
              "#fdca26"
             ],
             [
              1,
              "#f0f921"
             ]
            ],
            "type": "surface"
           }
          ],
          "table": [
           {
            "cells": {
             "fill": {
              "color": "#EBF0F8"
             },
             "line": {
              "color": "white"
             }
            },
            "header": {
             "fill": {
              "color": "#C8D4E3"
             },
             "line": {
              "color": "white"
             }
            },
            "type": "table"
           }
          ]
         },
         "layout": {
          "annotationdefaults": {
           "arrowcolor": "#2a3f5f",
           "arrowhead": 0,
           "arrowwidth": 1
          },
          "coloraxis": {
           "colorbar": {
            "outlinewidth": 0,
            "ticks": ""
           }
          },
          "colorscale": {
           "diverging": [
            [
             0,
             "#8e0152"
            ],
            [
             0.1,
             "#c51b7d"
            ],
            [
             0.2,
             "#de77ae"
            ],
            [
             0.3,
             "#f1b6da"
            ],
            [
             0.4,
             "#fde0ef"
            ],
            [
             0.5,
             "#f7f7f7"
            ],
            [
             0.6,
             "#e6f5d0"
            ],
            [
             0.7,
             "#b8e186"
            ],
            [
             0.8,
             "#7fbc41"
            ],
            [
             0.9,
             "#4d9221"
            ],
            [
             1,
             "#276419"
            ]
           ],
           "sequential": [
            [
             0,
             "#0d0887"
            ],
            [
             0.1111111111111111,
             "#46039f"
            ],
            [
             0.2222222222222222,
             "#7201a8"
            ],
            [
             0.3333333333333333,
             "#9c179e"
            ],
            [
             0.4444444444444444,
             "#bd3786"
            ],
            [
             0.5555555555555556,
             "#d8576b"
            ],
            [
             0.6666666666666666,
             "#ed7953"
            ],
            [
             0.7777777777777778,
             "#fb9f3a"
            ],
            [
             0.8888888888888888,
             "#fdca26"
            ],
            [
             1,
             "#f0f921"
            ]
           ],
           "sequentialminus": [
            [
             0,
             "#0d0887"
            ],
            [
             0.1111111111111111,
             "#46039f"
            ],
            [
             0.2222222222222222,
             "#7201a8"
            ],
            [
             0.3333333333333333,
             "#9c179e"
            ],
            [
             0.4444444444444444,
             "#bd3786"
            ],
            [
             0.5555555555555556,
             "#d8576b"
            ],
            [
             0.6666666666666666,
             "#ed7953"
            ],
            [
             0.7777777777777778,
             "#fb9f3a"
            ],
            [
             0.8888888888888888,
             "#fdca26"
            ],
            [
             1,
             "#f0f921"
            ]
           ]
          },
          "colorway": [
           "#636efa",
           "#EF553B",
           "#00cc96",
           "#ab63fa",
           "#FFA15A",
           "#19d3f3",
           "#FF6692",
           "#B6E880",
           "#FF97FF",
           "#FECB52"
          ],
          "font": {
           "color": "#2a3f5f"
          },
          "geo": {
           "bgcolor": "white",
           "lakecolor": "white",
           "landcolor": "#E5ECF6",
           "showlakes": true,
           "showland": true,
           "subunitcolor": "white"
          },
          "hoverlabel": {
           "align": "left"
          },
          "hovermode": "closest",
          "mapbox": {
           "style": "light"
          },
          "paper_bgcolor": "white",
          "plot_bgcolor": "#E5ECF6",
          "polar": {
           "angularaxis": {
            "gridcolor": "white",
            "linecolor": "white",
            "ticks": ""
           },
           "bgcolor": "#E5ECF6",
           "radialaxis": {
            "gridcolor": "white",
            "linecolor": "white",
            "ticks": ""
           }
          },
          "scene": {
           "xaxis": {
            "backgroundcolor": "#E5ECF6",
            "gridcolor": "white",
            "gridwidth": 2,
            "linecolor": "white",
            "showbackground": true,
            "ticks": "",
            "zerolinecolor": "white"
           },
           "yaxis": {
            "backgroundcolor": "#E5ECF6",
            "gridcolor": "white",
            "gridwidth": 2,
            "linecolor": "white",
            "showbackground": true,
            "ticks": "",
            "zerolinecolor": "white"
           },
           "zaxis": {
            "backgroundcolor": "#E5ECF6",
            "gridcolor": "white",
            "gridwidth": 2,
            "linecolor": "white",
            "showbackground": true,
            "ticks": "",
            "zerolinecolor": "white"
           }
          },
          "shapedefaults": {
           "line": {
            "color": "#2a3f5f"
           }
          },
          "ternary": {
           "aaxis": {
            "gridcolor": "white",
            "linecolor": "white",
            "ticks": ""
           },
           "baxis": {
            "gridcolor": "white",
            "linecolor": "white",
            "ticks": ""
           },
           "bgcolor": "#E5ECF6",
           "caxis": {
            "gridcolor": "white",
            "linecolor": "white",
            "ticks": ""
           }
          },
          "title": {
           "x": 0.05
          },
          "xaxis": {
           "automargin": true,
           "gridcolor": "white",
           "linecolor": "white",
           "ticks": "",
           "title": {
            "standoff": 15
           },
           "zerolinecolor": "white",
           "zerolinewidth": 2
          },
          "yaxis": {
           "automargin": true,
           "gridcolor": "white",
           "linecolor": "white",
           "ticks": "",
           "title": {
            "standoff": 15
           },
           "zerolinecolor": "white",
           "zerolinewidth": 2
          }
         }
        },
        "title": {
         "text": "Sample line Graph"
        },
        "xaxis": {
         "anchor": "y",
         "domain": [
          0,
          1
         ],
         "title": {
          "text": "create_date"
         }
        },
        "yaxis": {
         "anchor": "x",
         "domain": [
          0,
          1
         ],
         "title": {
          "text": "avg_polarity"
         }
        }
       }
      },
      "text/html": [
       "<div>\n",
       "        \n",
       "        \n",
       "            <div id=\"30a437d6-befe-4124-ae51-6a047dcee182\" class=\"plotly-graph-div\" style=\"height:525px; width:100%;\"></div>\n",
       "            <script type=\"text/javascript\">\n",
       "                require([\"plotly\"], function(Plotly) {\n",
       "                    window.PLOTLYENV=window.PLOTLYENV || {};\n",
       "                    \n",
       "                if (document.getElementById(\"30a437d6-befe-4124-ae51-6a047dcee182\")) {\n",
       "                    Plotly.newPlot(\n",
       "                        '30a437d6-befe-4124-ae51-6a047dcee182',\n",
       "                        [{\"hovertemplate\": \"create_date=%{x}<br>avg_polarity=%{y}<extra></extra>\", \"legendgroup\": \"\", \"line\": {\"color\": \"#636efa\", \"dash\": \"solid\"}, \"mode\": \"lines\", \"name\": \"\", \"orientation\": \"v\", \"showlegend\": false, \"type\": \"scatter\", \"x\": [\"2020-07-14\", \"2020-07-15\", \"2020-07-16\", \"2020-07-17\", \"2020-07-18\", \"2020-07-19\", \"2020-07-20\", \"2020-07-21\", \"2020-07-22\", \"2020-07-23\", \"2020-07-24\", \"2020-07-25\", \"2020-07-26\", \"2020-07-27\", \"2020-07-28\"], \"xaxis\": \"x\", \"y\": [0.11492244818146286, 0.09756623496762283, 0.11697517331022515, 0.2381909473684205, 0.13313197492162973, 0.22194889663182432, 0.09505864077669918, 0.16007023809523793, 0.18651974921630093, 0.15647815533980575, 0.1467163323782235, 0.11191383928571427, 0.14087944444444442, 0.15504374999999998, 0.14172354740061158], \"yaxis\": \"y\"}],\n",
       "                        {\"legend\": {\"tracegroupgap\": 0}, \"template\": {\"data\": {\"bar\": [{\"error_x\": {\"color\": \"#2a3f5f\"}, \"error_y\": {\"color\": \"#2a3f5f\"}, \"marker\": {\"line\": {\"color\": \"#E5ECF6\", \"width\": 0.5}}, \"type\": \"bar\"}], \"barpolar\": [{\"marker\": {\"line\": {\"color\": \"#E5ECF6\", \"width\": 0.5}}, \"type\": \"barpolar\"}], \"carpet\": [{\"aaxis\": {\"endlinecolor\": \"#2a3f5f\", \"gridcolor\": \"white\", \"linecolor\": \"white\", \"minorgridcolor\": \"white\", \"startlinecolor\": \"#2a3f5f\"}, \"baxis\": {\"endlinecolor\": \"#2a3f5f\", \"gridcolor\": \"white\", \"linecolor\": \"white\", \"minorgridcolor\": \"white\", \"startlinecolor\": \"#2a3f5f\"}, \"type\": \"carpet\"}], \"choropleth\": [{\"colorbar\": {\"outlinewidth\": 0, \"ticks\": \"\"}, \"type\": \"choropleth\"}], \"contour\": [{\"colorbar\": {\"outlinewidth\": 0, \"ticks\": \"\"}, \"colorscale\": [[0.0, \"#0d0887\"], [0.1111111111111111, \"#46039f\"], [0.2222222222222222, \"#7201a8\"], [0.3333333333333333, \"#9c179e\"], [0.4444444444444444, \"#bd3786\"], [0.5555555555555556, \"#d8576b\"], [0.6666666666666666, \"#ed7953\"], [0.7777777777777778, \"#fb9f3a\"], [0.8888888888888888, \"#fdca26\"], [1.0, \"#f0f921\"]], \"type\": \"contour\"}], \"contourcarpet\": [{\"colorbar\": {\"outlinewidth\": 0, \"ticks\": \"\"}, \"type\": \"contourcarpet\"}], \"heatmap\": [{\"colorbar\": {\"outlinewidth\": 0, \"ticks\": \"\"}, \"colorscale\": [[0.0, \"#0d0887\"], [0.1111111111111111, \"#46039f\"], [0.2222222222222222, \"#7201a8\"], [0.3333333333333333, \"#9c179e\"], [0.4444444444444444, \"#bd3786\"], [0.5555555555555556, \"#d8576b\"], [0.6666666666666666, \"#ed7953\"], [0.7777777777777778, \"#fb9f3a\"], [0.8888888888888888, \"#fdca26\"], [1.0, \"#f0f921\"]], \"type\": \"heatmap\"}], \"heatmapgl\": [{\"colorbar\": {\"outlinewidth\": 0, \"ticks\": \"\"}, \"colorscale\": [[0.0, \"#0d0887\"], [0.1111111111111111, \"#46039f\"], [0.2222222222222222, \"#7201a8\"], [0.3333333333333333, \"#9c179e\"], [0.4444444444444444, \"#bd3786\"], [0.5555555555555556, \"#d8576b\"], [0.6666666666666666, \"#ed7953\"], [0.7777777777777778, \"#fb9f3a\"], [0.8888888888888888, \"#fdca26\"], [1.0, \"#f0f921\"]], \"type\": \"heatmapgl\"}], \"histogram\": [{\"marker\": {\"colorbar\": {\"outlinewidth\": 0, \"ticks\": \"\"}}, \"type\": \"histogram\"}], \"histogram2d\": [{\"colorbar\": {\"outlinewidth\": 0, \"ticks\": \"\"}, \"colorscale\": [[0.0, \"#0d0887\"], [0.1111111111111111, \"#46039f\"], [0.2222222222222222, \"#7201a8\"], [0.3333333333333333, \"#9c179e\"], [0.4444444444444444, \"#bd3786\"], [0.5555555555555556, \"#d8576b\"], [0.6666666666666666, \"#ed7953\"], [0.7777777777777778, \"#fb9f3a\"], [0.8888888888888888, \"#fdca26\"], [1.0, \"#f0f921\"]], \"type\": \"histogram2d\"}], \"histogram2dcontour\": [{\"colorbar\": {\"outlinewidth\": 0, \"ticks\": \"\"}, \"colorscale\": [[0.0, \"#0d0887\"], [0.1111111111111111, \"#46039f\"], [0.2222222222222222, \"#7201a8\"], [0.3333333333333333, \"#9c179e\"], [0.4444444444444444, \"#bd3786\"], [0.5555555555555556, \"#d8576b\"], [0.6666666666666666, \"#ed7953\"], [0.7777777777777778, \"#fb9f3a\"], [0.8888888888888888, \"#fdca26\"], [1.0, \"#f0f921\"]], \"type\": \"histogram2dcontour\"}], \"mesh3d\": [{\"colorbar\": {\"outlinewidth\": 0, \"ticks\": \"\"}, \"type\": \"mesh3d\"}], \"parcoords\": [{\"line\": {\"colorbar\": {\"outlinewidth\": 0, \"ticks\": \"\"}}, \"type\": \"parcoords\"}], \"pie\": [{\"automargin\": true, \"type\": \"pie\"}], \"scatter\": [{\"marker\": {\"colorbar\": {\"outlinewidth\": 0, \"ticks\": \"\"}}, \"type\": \"scatter\"}], \"scatter3d\": [{\"line\": {\"colorbar\": {\"outlinewidth\": 0, \"ticks\": \"\"}}, \"marker\": {\"colorbar\": {\"outlinewidth\": 0, \"ticks\": \"\"}}, \"type\": \"scatter3d\"}], \"scattercarpet\": [{\"marker\": {\"colorbar\": {\"outlinewidth\": 0, \"ticks\": \"\"}}, \"type\": \"scattercarpet\"}], \"scattergeo\": [{\"marker\": {\"colorbar\": {\"outlinewidth\": 0, \"ticks\": \"\"}}, \"type\": \"scattergeo\"}], \"scattergl\": [{\"marker\": {\"colorbar\": {\"outlinewidth\": 0, \"ticks\": \"\"}}, \"type\": \"scattergl\"}], \"scattermapbox\": [{\"marker\": {\"colorbar\": {\"outlinewidth\": 0, \"ticks\": \"\"}}, \"type\": \"scattermapbox\"}], \"scatterpolar\": [{\"marker\": {\"colorbar\": {\"outlinewidth\": 0, \"ticks\": \"\"}}, \"type\": \"scatterpolar\"}], \"scatterpolargl\": [{\"marker\": {\"colorbar\": {\"outlinewidth\": 0, \"ticks\": \"\"}}, \"type\": \"scatterpolargl\"}], \"scatterternary\": [{\"marker\": {\"colorbar\": {\"outlinewidth\": 0, \"ticks\": \"\"}}, \"type\": \"scatterternary\"}], \"surface\": [{\"colorbar\": {\"outlinewidth\": 0, \"ticks\": \"\"}, \"colorscale\": [[0.0, \"#0d0887\"], [0.1111111111111111, \"#46039f\"], [0.2222222222222222, \"#7201a8\"], [0.3333333333333333, \"#9c179e\"], [0.4444444444444444, \"#bd3786\"], [0.5555555555555556, \"#d8576b\"], [0.6666666666666666, \"#ed7953\"], [0.7777777777777778, \"#fb9f3a\"], [0.8888888888888888, \"#fdca26\"], [1.0, \"#f0f921\"]], \"type\": \"surface\"}], \"table\": [{\"cells\": {\"fill\": {\"color\": \"#EBF0F8\"}, \"line\": {\"color\": \"white\"}}, \"header\": {\"fill\": {\"color\": \"#C8D4E3\"}, \"line\": {\"color\": \"white\"}}, \"type\": \"table\"}]}, \"layout\": {\"annotationdefaults\": {\"arrowcolor\": \"#2a3f5f\", \"arrowhead\": 0, \"arrowwidth\": 1}, \"coloraxis\": {\"colorbar\": {\"outlinewidth\": 0, \"ticks\": \"\"}}, \"colorscale\": {\"diverging\": [[0, \"#8e0152\"], [0.1, \"#c51b7d\"], [0.2, \"#de77ae\"], [0.3, \"#f1b6da\"], [0.4, \"#fde0ef\"], [0.5, \"#f7f7f7\"], [0.6, \"#e6f5d0\"], [0.7, \"#b8e186\"], [0.8, \"#7fbc41\"], [0.9, \"#4d9221\"], [1, \"#276419\"]], \"sequential\": [[0.0, \"#0d0887\"], [0.1111111111111111, \"#46039f\"], [0.2222222222222222, \"#7201a8\"], [0.3333333333333333, \"#9c179e\"], [0.4444444444444444, \"#bd3786\"], [0.5555555555555556, \"#d8576b\"], [0.6666666666666666, \"#ed7953\"], [0.7777777777777778, \"#fb9f3a\"], [0.8888888888888888, \"#fdca26\"], [1.0, \"#f0f921\"]], \"sequentialminus\": [[0.0, \"#0d0887\"], [0.1111111111111111, \"#46039f\"], [0.2222222222222222, \"#7201a8\"], [0.3333333333333333, \"#9c179e\"], [0.4444444444444444, \"#bd3786\"], [0.5555555555555556, \"#d8576b\"], [0.6666666666666666, \"#ed7953\"], [0.7777777777777778, \"#fb9f3a\"], [0.8888888888888888, \"#fdca26\"], [1.0, \"#f0f921\"]]}, \"colorway\": [\"#636efa\", \"#EF553B\", \"#00cc96\", \"#ab63fa\", \"#FFA15A\", \"#19d3f3\", \"#FF6692\", \"#B6E880\", \"#FF97FF\", \"#FECB52\"], \"font\": {\"color\": \"#2a3f5f\"}, \"geo\": {\"bgcolor\": \"white\", \"lakecolor\": \"white\", \"landcolor\": \"#E5ECF6\", \"showlakes\": true, \"showland\": true, \"subunitcolor\": \"white\"}, \"hoverlabel\": {\"align\": \"left\"}, \"hovermode\": \"closest\", \"mapbox\": {\"style\": \"light\"}, \"paper_bgcolor\": \"white\", \"plot_bgcolor\": \"#E5ECF6\", \"polar\": {\"angularaxis\": {\"gridcolor\": \"white\", \"linecolor\": \"white\", \"ticks\": \"\"}, \"bgcolor\": \"#E5ECF6\", \"radialaxis\": {\"gridcolor\": \"white\", \"linecolor\": \"white\", \"ticks\": \"\"}}, \"scene\": {\"xaxis\": {\"backgroundcolor\": \"#E5ECF6\", \"gridcolor\": \"white\", \"gridwidth\": 2, \"linecolor\": \"white\", \"showbackground\": true, \"ticks\": \"\", \"zerolinecolor\": \"white\"}, \"yaxis\": {\"backgroundcolor\": \"#E5ECF6\", \"gridcolor\": \"white\", \"gridwidth\": 2, \"linecolor\": \"white\", \"showbackground\": true, \"ticks\": \"\", \"zerolinecolor\": \"white\"}, \"zaxis\": {\"backgroundcolor\": \"#E5ECF6\", \"gridcolor\": \"white\", \"gridwidth\": 2, \"linecolor\": \"white\", \"showbackground\": true, \"ticks\": \"\", \"zerolinecolor\": \"white\"}}, \"shapedefaults\": {\"line\": {\"color\": \"#2a3f5f\"}}, \"ternary\": {\"aaxis\": {\"gridcolor\": \"white\", \"linecolor\": \"white\", \"ticks\": \"\"}, \"baxis\": {\"gridcolor\": \"white\", \"linecolor\": \"white\", \"ticks\": \"\"}, \"bgcolor\": \"#E5ECF6\", \"caxis\": {\"gridcolor\": \"white\", \"linecolor\": \"white\", \"ticks\": \"\"}}, \"title\": {\"x\": 0.05}, \"xaxis\": {\"automargin\": true, \"gridcolor\": \"white\", \"linecolor\": \"white\", \"ticks\": \"\", \"title\": {\"standoff\": 15}, \"zerolinecolor\": \"white\", \"zerolinewidth\": 2}, \"yaxis\": {\"automargin\": true, \"gridcolor\": \"white\", \"linecolor\": \"white\", \"ticks\": \"\", \"title\": {\"standoff\": 15}, \"zerolinecolor\": \"white\", \"zerolinewidth\": 2}}}, \"title\": {\"text\": \"Sample line Graph\"}, \"xaxis\": {\"anchor\": \"y\", \"domain\": [0.0, 1.0], \"title\": {\"text\": \"create_date\"}}, \"yaxis\": {\"anchor\": \"x\", \"domain\": [0.0, 1.0], \"title\": {\"text\": \"avg_polarity\"}}},\n",
       "                        {\"responsive\": true}\n",
       "                    ).then(function(){\n",
       "                            \n",
       "var gd = document.getElementById('30a437d6-befe-4124-ae51-6a047dcee182');\n",
       "var x = new MutationObserver(function (mutations, observer) {{\n",
       "        var display = window.getComputedStyle(gd).display;\n",
       "        if (!display || display === 'none') {{\n",
       "            console.log([gd, 'removed!']);\n",
       "            Plotly.purge(gd);\n",
       "            observer.disconnect();\n",
       "        }}\n",
       "}});\n",
       "\n",
       "// Listen for the removal of the full notebook cells\n",
       "var notebookContainer = gd.closest('#notebook-container');\n",
       "if (notebookContainer) {{\n",
       "    x.observe(notebookContainer, {childList: true});\n",
       "}}\n",
       "\n",
       "// Listen for the clearing of the current output cell\n",
       "var outputEl = gd.closest('.output');\n",
       "if (outputEl) {{\n",
       "    x.observe(outputEl, {childList: true});\n",
       "}}\n",
       "\n",
       "                        })\n",
       "                };\n",
       "                });\n",
       "            </script>\n",
       "        </div>"
      ]
     },
     "metadata": {},
     "output_type": "display_data"
    }
   ],
   "source": [
    "fig.show()"
   ]
  },
  {
   "cell_type": "markdown",
   "metadata": {},
   "source": [
    "## Horizontal bar chart of words"
   ]
  },
  {
   "cell_type": "code",
   "execution_count": 31,
   "metadata": {},
   "outputs": [],
   "source": [
    "date_selected='2020-07-20'\n",
    "df_wordthatdate=dffiltered[dffiltered['create_date']==date_selected]"
   ]
  },
  {
   "cell_type": "code",
   "execution_count": 38,
   "metadata": {},
   "outputs": [],
   "source": [
    "word_freq_str=df_wordthatdate['word_freq'].iloc[0]\n",
    "word_freq_arr=ast.literal_eval(word_freq_str)"
   ]
  },
  {
   "cell_type": "code",
   "execution_count": 39,
   "metadata": {},
   "outputs": [
    {
     "data": {
      "text/plain": [
       "[('amd', 174),\n",
       " ('1', 118),\n",
       " ('aorus', 100),\n",
       " ('10', 99),\n",
       " ('7nm', 98),\n",
       " ('lot', 93),\n",
       " ('conflicting', 93),\n",
       " ('rumors', 93),\n",
       " ('going', 93),\n",
       " ('8nm.', 93),\n",
       " ('well,', 93),\n",
       " ('bad', 93),\n",
       " ('new', 92),\n",
       " ('rx', 90),\n",
       " ('new…', 88),\n",
       " ('5700', 86),\n",
       " ('xt', 86),\n",
       " ('build', 85),\n",
       " ('ryzen', 81),\n",
       " ('✨you', 81),\n",
       " ('ask', 81),\n",
       " ('ya', 81),\n",
       " ('go!', 81),\n",
       " ('💯rate', 81),\n",
       " ('gpu!', 81),\n",
       " ('🛒shop', 81),\n",
       " ('🚨', 80),\n",
       " ('google', 78),\n",
       " ('confidential', 78),\n",
       " ('computing', 78)]"
      ]
     },
     "execution_count": 39,
     "metadata": {},
     "output_type": "execute_result"
    }
   ],
   "source": [
    "word_freq_arr"
   ]
  },
  {
   "cell_type": "code",
   "execution_count": 41,
   "metadata": {},
   "outputs": [],
   "source": [
    "df_wf=pd.DataFrame(word_freq_arr,columns=['word','freq'])"
   ]
  },
  {
   "cell_type": "code",
   "execution_count": 47,
   "metadata": {},
   "outputs": [],
   "source": [
    "df_wf=df_wf.sort_values(by=['freq'],ascending=True)"
   ]
  },
  {
   "cell_type": "code",
   "execution_count": 48,
   "metadata": {},
   "outputs": [
    {
     "data": {
      "application/vnd.plotly.v1+json": {
       "config": {
        "plotlyServerURL": "https://plot.ly"
       },
       "data": [
        {
         "alignmentgroup": "True",
         "hovertemplate": "freq=%{x}<br>word=%{y}<extra></extra>",
         "legendgroup": "",
         "marker": {
          "color": "#636efa"
         },
         "name": "",
         "offsetgroup": "",
         "orientation": "h",
         "showlegend": false,
         "textposition": "auto",
         "type": "bar",
         "x": [
          78,
          78,
          78,
          80,
          81,
          81,
          81,
          81,
          81,
          81,
          81,
          81,
          85,
          86,
          86,
          88,
          90,
          92,
          93,
          93,
          93,
          93,
          93,
          93,
          93,
          98,
          99,
          100,
          118,
          174
         ],
         "xaxis": "x",
         "y": [
          "computing",
          "google",
          "confidential",
          "🚨",
          "🛒shop",
          "gpu!",
          "💯rate",
          "go!",
          "ya",
          "ask",
          "✨you",
          "ryzen",
          "build",
          "xt",
          "5700",
          "new…",
          "rx",
          "new",
          "bad",
          "well,",
          "8nm.",
          "going",
          "rumors",
          "conflicting",
          "lot",
          "7nm",
          "10",
          "aorus",
          "1",
          "amd"
         ],
         "yaxis": "y"
        }
       ],
       "layout": {
        "barmode": "relative",
        "legend": {
         "tracegroupgap": 0
        },
        "margin": {
         "t": 60
        },
        "template": {
         "data": {
          "bar": [
           {
            "error_x": {
             "color": "#2a3f5f"
            },
            "error_y": {
             "color": "#2a3f5f"
            },
            "marker": {
             "line": {
              "color": "#E5ECF6",
              "width": 0.5
             }
            },
            "type": "bar"
           }
          ],
          "barpolar": [
           {
            "marker": {
             "line": {
              "color": "#E5ECF6",
              "width": 0.5
             }
            },
            "type": "barpolar"
           }
          ],
          "carpet": [
           {
            "aaxis": {
             "endlinecolor": "#2a3f5f",
             "gridcolor": "white",
             "linecolor": "white",
             "minorgridcolor": "white",
             "startlinecolor": "#2a3f5f"
            },
            "baxis": {
             "endlinecolor": "#2a3f5f",
             "gridcolor": "white",
             "linecolor": "white",
             "minorgridcolor": "white",
             "startlinecolor": "#2a3f5f"
            },
            "type": "carpet"
           }
          ],
          "choropleth": [
           {
            "colorbar": {
             "outlinewidth": 0,
             "ticks": ""
            },
            "type": "choropleth"
           }
          ],
          "contour": [
           {
            "colorbar": {
             "outlinewidth": 0,
             "ticks": ""
            },
            "colorscale": [
             [
              0,
              "#0d0887"
             ],
             [
              0.1111111111111111,
              "#46039f"
             ],
             [
              0.2222222222222222,
              "#7201a8"
             ],
             [
              0.3333333333333333,
              "#9c179e"
             ],
             [
              0.4444444444444444,
              "#bd3786"
             ],
             [
              0.5555555555555556,
              "#d8576b"
             ],
             [
              0.6666666666666666,
              "#ed7953"
             ],
             [
              0.7777777777777778,
              "#fb9f3a"
             ],
             [
              0.8888888888888888,
              "#fdca26"
             ],
             [
              1,
              "#f0f921"
             ]
            ],
            "type": "contour"
           }
          ],
          "contourcarpet": [
           {
            "colorbar": {
             "outlinewidth": 0,
             "ticks": ""
            },
            "type": "contourcarpet"
           }
          ],
          "heatmap": [
           {
            "colorbar": {
             "outlinewidth": 0,
             "ticks": ""
            },
            "colorscale": [
             [
              0,
              "#0d0887"
             ],
             [
              0.1111111111111111,
              "#46039f"
             ],
             [
              0.2222222222222222,
              "#7201a8"
             ],
             [
              0.3333333333333333,
              "#9c179e"
             ],
             [
              0.4444444444444444,
              "#bd3786"
             ],
             [
              0.5555555555555556,
              "#d8576b"
             ],
             [
              0.6666666666666666,
              "#ed7953"
             ],
             [
              0.7777777777777778,
              "#fb9f3a"
             ],
             [
              0.8888888888888888,
              "#fdca26"
             ],
             [
              1,
              "#f0f921"
             ]
            ],
            "type": "heatmap"
           }
          ],
          "heatmapgl": [
           {
            "colorbar": {
             "outlinewidth": 0,
             "ticks": ""
            },
            "colorscale": [
             [
              0,
              "#0d0887"
             ],
             [
              0.1111111111111111,
              "#46039f"
             ],
             [
              0.2222222222222222,
              "#7201a8"
             ],
             [
              0.3333333333333333,
              "#9c179e"
             ],
             [
              0.4444444444444444,
              "#bd3786"
             ],
             [
              0.5555555555555556,
              "#d8576b"
             ],
             [
              0.6666666666666666,
              "#ed7953"
             ],
             [
              0.7777777777777778,
              "#fb9f3a"
             ],
             [
              0.8888888888888888,
              "#fdca26"
             ],
             [
              1,
              "#f0f921"
             ]
            ],
            "type": "heatmapgl"
           }
          ],
          "histogram": [
           {
            "marker": {
             "colorbar": {
              "outlinewidth": 0,
              "ticks": ""
             }
            },
            "type": "histogram"
           }
          ],
          "histogram2d": [
           {
            "colorbar": {
             "outlinewidth": 0,
             "ticks": ""
            },
            "colorscale": [
             [
              0,
              "#0d0887"
             ],
             [
              0.1111111111111111,
              "#46039f"
             ],
             [
              0.2222222222222222,
              "#7201a8"
             ],
             [
              0.3333333333333333,
              "#9c179e"
             ],
             [
              0.4444444444444444,
              "#bd3786"
             ],
             [
              0.5555555555555556,
              "#d8576b"
             ],
             [
              0.6666666666666666,
              "#ed7953"
             ],
             [
              0.7777777777777778,
              "#fb9f3a"
             ],
             [
              0.8888888888888888,
              "#fdca26"
             ],
             [
              1,
              "#f0f921"
             ]
            ],
            "type": "histogram2d"
           }
          ],
          "histogram2dcontour": [
           {
            "colorbar": {
             "outlinewidth": 0,
             "ticks": ""
            },
            "colorscale": [
             [
              0,
              "#0d0887"
             ],
             [
              0.1111111111111111,
              "#46039f"
             ],
             [
              0.2222222222222222,
              "#7201a8"
             ],
             [
              0.3333333333333333,
              "#9c179e"
             ],
             [
              0.4444444444444444,
              "#bd3786"
             ],
             [
              0.5555555555555556,
              "#d8576b"
             ],
             [
              0.6666666666666666,
              "#ed7953"
             ],
             [
              0.7777777777777778,
              "#fb9f3a"
             ],
             [
              0.8888888888888888,
              "#fdca26"
             ],
             [
              1,
              "#f0f921"
             ]
            ],
            "type": "histogram2dcontour"
           }
          ],
          "mesh3d": [
           {
            "colorbar": {
             "outlinewidth": 0,
             "ticks": ""
            },
            "type": "mesh3d"
           }
          ],
          "parcoords": [
           {
            "line": {
             "colorbar": {
              "outlinewidth": 0,
              "ticks": ""
             }
            },
            "type": "parcoords"
           }
          ],
          "pie": [
           {
            "automargin": true,
            "type": "pie"
           }
          ],
          "scatter": [
           {
            "marker": {
             "colorbar": {
              "outlinewidth": 0,
              "ticks": ""
             }
            },
            "type": "scatter"
           }
          ],
          "scatter3d": [
           {
            "line": {
             "colorbar": {
              "outlinewidth": 0,
              "ticks": ""
             }
            },
            "marker": {
             "colorbar": {
              "outlinewidth": 0,
              "ticks": ""
             }
            },
            "type": "scatter3d"
           }
          ],
          "scattercarpet": [
           {
            "marker": {
             "colorbar": {
              "outlinewidth": 0,
              "ticks": ""
             }
            },
            "type": "scattercarpet"
           }
          ],
          "scattergeo": [
           {
            "marker": {
             "colorbar": {
              "outlinewidth": 0,
              "ticks": ""
             }
            },
            "type": "scattergeo"
           }
          ],
          "scattergl": [
           {
            "marker": {
             "colorbar": {
              "outlinewidth": 0,
              "ticks": ""
             }
            },
            "type": "scattergl"
           }
          ],
          "scattermapbox": [
           {
            "marker": {
             "colorbar": {
              "outlinewidth": 0,
              "ticks": ""
             }
            },
            "type": "scattermapbox"
           }
          ],
          "scatterpolar": [
           {
            "marker": {
             "colorbar": {
              "outlinewidth": 0,
              "ticks": ""
             }
            },
            "type": "scatterpolar"
           }
          ],
          "scatterpolargl": [
           {
            "marker": {
             "colorbar": {
              "outlinewidth": 0,
              "ticks": ""
             }
            },
            "type": "scatterpolargl"
           }
          ],
          "scatterternary": [
           {
            "marker": {
             "colorbar": {
              "outlinewidth": 0,
              "ticks": ""
             }
            },
            "type": "scatterternary"
           }
          ],
          "surface": [
           {
            "colorbar": {
             "outlinewidth": 0,
             "ticks": ""
            },
            "colorscale": [
             [
              0,
              "#0d0887"
             ],
             [
              0.1111111111111111,
              "#46039f"
             ],
             [
              0.2222222222222222,
              "#7201a8"
             ],
             [
              0.3333333333333333,
              "#9c179e"
             ],
             [
              0.4444444444444444,
              "#bd3786"
             ],
             [
              0.5555555555555556,
              "#d8576b"
             ],
             [
              0.6666666666666666,
              "#ed7953"
             ],
             [
              0.7777777777777778,
              "#fb9f3a"
             ],
             [
              0.8888888888888888,
              "#fdca26"
             ],
             [
              1,
              "#f0f921"
             ]
            ],
            "type": "surface"
           }
          ],
          "table": [
           {
            "cells": {
             "fill": {
              "color": "#EBF0F8"
             },
             "line": {
              "color": "white"
             }
            },
            "header": {
             "fill": {
              "color": "#C8D4E3"
             },
             "line": {
              "color": "white"
             }
            },
            "type": "table"
           }
          ]
         },
         "layout": {
          "annotationdefaults": {
           "arrowcolor": "#2a3f5f",
           "arrowhead": 0,
           "arrowwidth": 1
          },
          "coloraxis": {
           "colorbar": {
            "outlinewidth": 0,
            "ticks": ""
           }
          },
          "colorscale": {
           "diverging": [
            [
             0,
             "#8e0152"
            ],
            [
             0.1,
             "#c51b7d"
            ],
            [
             0.2,
             "#de77ae"
            ],
            [
             0.3,
             "#f1b6da"
            ],
            [
             0.4,
             "#fde0ef"
            ],
            [
             0.5,
             "#f7f7f7"
            ],
            [
             0.6,
             "#e6f5d0"
            ],
            [
             0.7,
             "#b8e186"
            ],
            [
             0.8,
             "#7fbc41"
            ],
            [
             0.9,
             "#4d9221"
            ],
            [
             1,
             "#276419"
            ]
           ],
           "sequential": [
            [
             0,
             "#0d0887"
            ],
            [
             0.1111111111111111,
             "#46039f"
            ],
            [
             0.2222222222222222,
             "#7201a8"
            ],
            [
             0.3333333333333333,
             "#9c179e"
            ],
            [
             0.4444444444444444,
             "#bd3786"
            ],
            [
             0.5555555555555556,
             "#d8576b"
            ],
            [
             0.6666666666666666,
             "#ed7953"
            ],
            [
             0.7777777777777778,
             "#fb9f3a"
            ],
            [
             0.8888888888888888,
             "#fdca26"
            ],
            [
             1,
             "#f0f921"
            ]
           ],
           "sequentialminus": [
            [
             0,
             "#0d0887"
            ],
            [
             0.1111111111111111,
             "#46039f"
            ],
            [
             0.2222222222222222,
             "#7201a8"
            ],
            [
             0.3333333333333333,
             "#9c179e"
            ],
            [
             0.4444444444444444,
             "#bd3786"
            ],
            [
             0.5555555555555556,
             "#d8576b"
            ],
            [
             0.6666666666666666,
             "#ed7953"
            ],
            [
             0.7777777777777778,
             "#fb9f3a"
            ],
            [
             0.8888888888888888,
             "#fdca26"
            ],
            [
             1,
             "#f0f921"
            ]
           ]
          },
          "colorway": [
           "#636efa",
           "#EF553B",
           "#00cc96",
           "#ab63fa",
           "#FFA15A",
           "#19d3f3",
           "#FF6692",
           "#B6E880",
           "#FF97FF",
           "#FECB52"
          ],
          "font": {
           "color": "#2a3f5f"
          },
          "geo": {
           "bgcolor": "white",
           "lakecolor": "white",
           "landcolor": "#E5ECF6",
           "showlakes": true,
           "showland": true,
           "subunitcolor": "white"
          },
          "hoverlabel": {
           "align": "left"
          },
          "hovermode": "closest",
          "mapbox": {
           "style": "light"
          },
          "paper_bgcolor": "white",
          "plot_bgcolor": "#E5ECF6",
          "polar": {
           "angularaxis": {
            "gridcolor": "white",
            "linecolor": "white",
            "ticks": ""
           },
           "bgcolor": "#E5ECF6",
           "radialaxis": {
            "gridcolor": "white",
            "linecolor": "white",
            "ticks": ""
           }
          },
          "scene": {
           "xaxis": {
            "backgroundcolor": "#E5ECF6",
            "gridcolor": "white",
            "gridwidth": 2,
            "linecolor": "white",
            "showbackground": true,
            "ticks": "",
            "zerolinecolor": "white"
           },
           "yaxis": {
            "backgroundcolor": "#E5ECF6",
            "gridcolor": "white",
            "gridwidth": 2,
            "linecolor": "white",
            "showbackground": true,
            "ticks": "",
            "zerolinecolor": "white"
           },
           "zaxis": {
            "backgroundcolor": "#E5ECF6",
            "gridcolor": "white",
            "gridwidth": 2,
            "linecolor": "white",
            "showbackground": true,
            "ticks": "",
            "zerolinecolor": "white"
           }
          },
          "shapedefaults": {
           "line": {
            "color": "#2a3f5f"
           }
          },
          "ternary": {
           "aaxis": {
            "gridcolor": "white",
            "linecolor": "white",
            "ticks": ""
           },
           "baxis": {
            "gridcolor": "white",
            "linecolor": "white",
            "ticks": ""
           },
           "bgcolor": "#E5ECF6",
           "caxis": {
            "gridcolor": "white",
            "linecolor": "white",
            "ticks": ""
           }
          },
          "title": {
           "x": 0.05
          },
          "xaxis": {
           "automargin": true,
           "gridcolor": "white",
           "linecolor": "white",
           "ticks": "",
           "title": {
            "standoff": 15
           },
           "zerolinecolor": "white",
           "zerolinewidth": 2
          },
          "yaxis": {
           "automargin": true,
           "gridcolor": "white",
           "linecolor": "white",
           "ticks": "",
           "title": {
            "standoff": 15
           },
           "zerolinecolor": "white",
           "zerolinewidth": 2
          }
         }
        },
        "xaxis": {
         "anchor": "y",
         "domain": [
          0,
          1
         ],
         "title": {
          "text": "freq"
         }
        },
        "yaxis": {
         "anchor": "x",
         "domain": [
          0,
          1
         ],
         "title": {
          "text": "word"
         }
        }
       }
      },
      "text/html": [
       "<div>\n",
       "        \n",
       "        \n",
       "            <div id=\"2b721639-26af-4e43-9c35-3ae17eb9dadb\" class=\"plotly-graph-div\" style=\"height:525px; width:100%;\"></div>\n",
       "            <script type=\"text/javascript\">\n",
       "                require([\"plotly\"], function(Plotly) {\n",
       "                    window.PLOTLYENV=window.PLOTLYENV || {};\n",
       "                    \n",
       "                if (document.getElementById(\"2b721639-26af-4e43-9c35-3ae17eb9dadb\")) {\n",
       "                    Plotly.newPlot(\n",
       "                        '2b721639-26af-4e43-9c35-3ae17eb9dadb',\n",
       "                        [{\"alignmentgroup\": \"True\", \"hovertemplate\": \"freq=%{x}<br>word=%{y}<extra></extra>\", \"legendgroup\": \"\", \"marker\": {\"color\": \"#636efa\"}, \"name\": \"\", \"offsetgroup\": \"\", \"orientation\": \"h\", \"showlegend\": false, \"textposition\": \"auto\", \"type\": \"bar\", \"x\": [78, 78, 78, 80, 81, 81, 81, 81, 81, 81, 81, 81, 85, 86, 86, 88, 90, 92, 93, 93, 93, 93, 93, 93, 93, 98, 99, 100, 118, 174], \"xaxis\": \"x\", \"y\": [\"computing\", \"google\", \"confidential\", \"\\ud83d\\udea8\", \"\\ud83d\\uded2shop\", \"gpu!\", \"\\ud83d\\udcafrate\", \"go!\", \"ya\", \"ask\", \"\\u2728you\", \"ryzen\", \"build\", \"xt\", \"5700\", \"new\\u2026\", \"rx\", \"new\", \"bad\", \"well,\", \"8nm.\", \"going\", \"rumors\", \"conflicting\", \"lot\", \"7nm\", \"10\", \"aorus\", \"1\", \"amd\"], \"yaxis\": \"y\"}],\n",
       "                        {\"barmode\": \"relative\", \"legend\": {\"tracegroupgap\": 0}, \"margin\": {\"t\": 60}, \"template\": {\"data\": {\"bar\": [{\"error_x\": {\"color\": \"#2a3f5f\"}, \"error_y\": {\"color\": \"#2a3f5f\"}, \"marker\": {\"line\": {\"color\": \"#E5ECF6\", \"width\": 0.5}}, \"type\": \"bar\"}], \"barpolar\": [{\"marker\": {\"line\": {\"color\": \"#E5ECF6\", \"width\": 0.5}}, \"type\": \"barpolar\"}], \"carpet\": [{\"aaxis\": {\"endlinecolor\": \"#2a3f5f\", \"gridcolor\": \"white\", \"linecolor\": \"white\", \"minorgridcolor\": \"white\", \"startlinecolor\": \"#2a3f5f\"}, \"baxis\": {\"endlinecolor\": \"#2a3f5f\", \"gridcolor\": \"white\", \"linecolor\": \"white\", \"minorgridcolor\": \"white\", \"startlinecolor\": \"#2a3f5f\"}, \"type\": \"carpet\"}], \"choropleth\": [{\"colorbar\": {\"outlinewidth\": 0, \"ticks\": \"\"}, \"type\": \"choropleth\"}], \"contour\": [{\"colorbar\": {\"outlinewidth\": 0, \"ticks\": \"\"}, \"colorscale\": [[0.0, \"#0d0887\"], [0.1111111111111111, \"#46039f\"], [0.2222222222222222, \"#7201a8\"], [0.3333333333333333, \"#9c179e\"], [0.4444444444444444, \"#bd3786\"], [0.5555555555555556, \"#d8576b\"], [0.6666666666666666, \"#ed7953\"], [0.7777777777777778, \"#fb9f3a\"], [0.8888888888888888, \"#fdca26\"], [1.0, \"#f0f921\"]], \"type\": \"contour\"}], \"contourcarpet\": [{\"colorbar\": {\"outlinewidth\": 0, \"ticks\": \"\"}, \"type\": \"contourcarpet\"}], \"heatmap\": [{\"colorbar\": {\"outlinewidth\": 0, \"ticks\": \"\"}, \"colorscale\": [[0.0, \"#0d0887\"], [0.1111111111111111, \"#46039f\"], [0.2222222222222222, \"#7201a8\"], [0.3333333333333333, \"#9c179e\"], [0.4444444444444444, \"#bd3786\"], [0.5555555555555556, \"#d8576b\"], [0.6666666666666666, \"#ed7953\"], [0.7777777777777778, \"#fb9f3a\"], [0.8888888888888888, \"#fdca26\"], [1.0, \"#f0f921\"]], \"type\": \"heatmap\"}], \"heatmapgl\": [{\"colorbar\": {\"outlinewidth\": 0, \"ticks\": \"\"}, \"colorscale\": [[0.0, \"#0d0887\"], [0.1111111111111111, \"#46039f\"], [0.2222222222222222, \"#7201a8\"], [0.3333333333333333, \"#9c179e\"], [0.4444444444444444, \"#bd3786\"], [0.5555555555555556, \"#d8576b\"], [0.6666666666666666, \"#ed7953\"], [0.7777777777777778, \"#fb9f3a\"], [0.8888888888888888, \"#fdca26\"], [1.0, \"#f0f921\"]], \"type\": \"heatmapgl\"}], \"histogram\": [{\"marker\": {\"colorbar\": {\"outlinewidth\": 0, \"ticks\": \"\"}}, \"type\": \"histogram\"}], \"histogram2d\": [{\"colorbar\": {\"outlinewidth\": 0, \"ticks\": \"\"}, \"colorscale\": [[0.0, \"#0d0887\"], [0.1111111111111111, \"#46039f\"], [0.2222222222222222, \"#7201a8\"], [0.3333333333333333, \"#9c179e\"], [0.4444444444444444, \"#bd3786\"], [0.5555555555555556, \"#d8576b\"], [0.6666666666666666, \"#ed7953\"], [0.7777777777777778, \"#fb9f3a\"], [0.8888888888888888, \"#fdca26\"], [1.0, \"#f0f921\"]], \"type\": \"histogram2d\"}], \"histogram2dcontour\": [{\"colorbar\": {\"outlinewidth\": 0, \"ticks\": \"\"}, \"colorscale\": [[0.0, \"#0d0887\"], [0.1111111111111111, \"#46039f\"], [0.2222222222222222, \"#7201a8\"], [0.3333333333333333, \"#9c179e\"], [0.4444444444444444, \"#bd3786\"], [0.5555555555555556, \"#d8576b\"], [0.6666666666666666, \"#ed7953\"], [0.7777777777777778, \"#fb9f3a\"], [0.8888888888888888, \"#fdca26\"], [1.0, \"#f0f921\"]], \"type\": \"histogram2dcontour\"}], \"mesh3d\": [{\"colorbar\": {\"outlinewidth\": 0, \"ticks\": \"\"}, \"type\": \"mesh3d\"}], \"parcoords\": [{\"line\": {\"colorbar\": {\"outlinewidth\": 0, \"ticks\": \"\"}}, \"type\": \"parcoords\"}], \"pie\": [{\"automargin\": true, \"type\": \"pie\"}], \"scatter\": [{\"marker\": {\"colorbar\": {\"outlinewidth\": 0, \"ticks\": \"\"}}, \"type\": \"scatter\"}], \"scatter3d\": [{\"line\": {\"colorbar\": {\"outlinewidth\": 0, \"ticks\": \"\"}}, \"marker\": {\"colorbar\": {\"outlinewidth\": 0, \"ticks\": \"\"}}, \"type\": \"scatter3d\"}], \"scattercarpet\": [{\"marker\": {\"colorbar\": {\"outlinewidth\": 0, \"ticks\": \"\"}}, \"type\": \"scattercarpet\"}], \"scattergeo\": [{\"marker\": {\"colorbar\": {\"outlinewidth\": 0, \"ticks\": \"\"}}, \"type\": \"scattergeo\"}], \"scattergl\": [{\"marker\": {\"colorbar\": {\"outlinewidth\": 0, \"ticks\": \"\"}}, \"type\": \"scattergl\"}], \"scattermapbox\": [{\"marker\": {\"colorbar\": {\"outlinewidth\": 0, \"ticks\": \"\"}}, \"type\": \"scattermapbox\"}], \"scatterpolar\": [{\"marker\": {\"colorbar\": {\"outlinewidth\": 0, \"ticks\": \"\"}}, \"type\": \"scatterpolar\"}], \"scatterpolargl\": [{\"marker\": {\"colorbar\": {\"outlinewidth\": 0, \"ticks\": \"\"}}, \"type\": \"scatterpolargl\"}], \"scatterternary\": [{\"marker\": {\"colorbar\": {\"outlinewidth\": 0, \"ticks\": \"\"}}, \"type\": \"scatterternary\"}], \"surface\": [{\"colorbar\": {\"outlinewidth\": 0, \"ticks\": \"\"}, \"colorscale\": [[0.0, \"#0d0887\"], [0.1111111111111111, \"#46039f\"], [0.2222222222222222, \"#7201a8\"], [0.3333333333333333, \"#9c179e\"], [0.4444444444444444, \"#bd3786\"], [0.5555555555555556, \"#d8576b\"], [0.6666666666666666, \"#ed7953\"], [0.7777777777777778, \"#fb9f3a\"], [0.8888888888888888, \"#fdca26\"], [1.0, \"#f0f921\"]], \"type\": \"surface\"}], \"table\": [{\"cells\": {\"fill\": {\"color\": \"#EBF0F8\"}, \"line\": {\"color\": \"white\"}}, \"header\": {\"fill\": {\"color\": \"#C8D4E3\"}, \"line\": {\"color\": \"white\"}}, \"type\": \"table\"}]}, \"layout\": {\"annotationdefaults\": {\"arrowcolor\": \"#2a3f5f\", \"arrowhead\": 0, \"arrowwidth\": 1}, \"coloraxis\": {\"colorbar\": {\"outlinewidth\": 0, \"ticks\": \"\"}}, \"colorscale\": {\"diverging\": [[0, \"#8e0152\"], [0.1, \"#c51b7d\"], [0.2, \"#de77ae\"], [0.3, \"#f1b6da\"], [0.4, \"#fde0ef\"], [0.5, \"#f7f7f7\"], [0.6, \"#e6f5d0\"], [0.7, \"#b8e186\"], [0.8, \"#7fbc41\"], [0.9, \"#4d9221\"], [1, \"#276419\"]], \"sequential\": [[0.0, \"#0d0887\"], [0.1111111111111111, \"#46039f\"], [0.2222222222222222, \"#7201a8\"], [0.3333333333333333, \"#9c179e\"], [0.4444444444444444, \"#bd3786\"], [0.5555555555555556, \"#d8576b\"], [0.6666666666666666, \"#ed7953\"], [0.7777777777777778, \"#fb9f3a\"], [0.8888888888888888, \"#fdca26\"], [1.0, \"#f0f921\"]], \"sequentialminus\": [[0.0, \"#0d0887\"], [0.1111111111111111, \"#46039f\"], [0.2222222222222222, \"#7201a8\"], [0.3333333333333333, \"#9c179e\"], [0.4444444444444444, \"#bd3786\"], [0.5555555555555556, \"#d8576b\"], [0.6666666666666666, \"#ed7953\"], [0.7777777777777778, \"#fb9f3a\"], [0.8888888888888888, \"#fdca26\"], [1.0, \"#f0f921\"]]}, \"colorway\": [\"#636efa\", \"#EF553B\", \"#00cc96\", \"#ab63fa\", \"#FFA15A\", \"#19d3f3\", \"#FF6692\", \"#B6E880\", \"#FF97FF\", \"#FECB52\"], \"font\": {\"color\": \"#2a3f5f\"}, \"geo\": {\"bgcolor\": \"white\", \"lakecolor\": \"white\", \"landcolor\": \"#E5ECF6\", \"showlakes\": true, \"showland\": true, \"subunitcolor\": \"white\"}, \"hoverlabel\": {\"align\": \"left\"}, \"hovermode\": \"closest\", \"mapbox\": {\"style\": \"light\"}, \"paper_bgcolor\": \"white\", \"plot_bgcolor\": \"#E5ECF6\", \"polar\": {\"angularaxis\": {\"gridcolor\": \"white\", \"linecolor\": \"white\", \"ticks\": \"\"}, \"bgcolor\": \"#E5ECF6\", \"radialaxis\": {\"gridcolor\": \"white\", \"linecolor\": \"white\", \"ticks\": \"\"}}, \"scene\": {\"xaxis\": {\"backgroundcolor\": \"#E5ECF6\", \"gridcolor\": \"white\", \"gridwidth\": 2, \"linecolor\": \"white\", \"showbackground\": true, \"ticks\": \"\", \"zerolinecolor\": \"white\"}, \"yaxis\": {\"backgroundcolor\": \"#E5ECF6\", \"gridcolor\": \"white\", \"gridwidth\": 2, \"linecolor\": \"white\", \"showbackground\": true, \"ticks\": \"\", \"zerolinecolor\": \"white\"}, \"zaxis\": {\"backgroundcolor\": \"#E5ECF6\", \"gridcolor\": \"white\", \"gridwidth\": 2, \"linecolor\": \"white\", \"showbackground\": true, \"ticks\": \"\", \"zerolinecolor\": \"white\"}}, \"shapedefaults\": {\"line\": {\"color\": \"#2a3f5f\"}}, \"ternary\": {\"aaxis\": {\"gridcolor\": \"white\", \"linecolor\": \"white\", \"ticks\": \"\"}, \"baxis\": {\"gridcolor\": \"white\", \"linecolor\": \"white\", \"ticks\": \"\"}, \"bgcolor\": \"#E5ECF6\", \"caxis\": {\"gridcolor\": \"white\", \"linecolor\": \"white\", \"ticks\": \"\"}}, \"title\": {\"x\": 0.05}, \"xaxis\": {\"automargin\": true, \"gridcolor\": \"white\", \"linecolor\": \"white\", \"ticks\": \"\", \"title\": {\"standoff\": 15}, \"zerolinecolor\": \"white\", \"zerolinewidth\": 2}, \"yaxis\": {\"automargin\": true, \"gridcolor\": \"white\", \"linecolor\": \"white\", \"ticks\": \"\", \"title\": {\"standoff\": 15}, \"zerolinecolor\": \"white\", \"zerolinewidth\": 2}}}, \"xaxis\": {\"anchor\": \"y\", \"domain\": [0.0, 1.0], \"title\": {\"text\": \"freq\"}}, \"yaxis\": {\"anchor\": \"x\", \"domain\": [0.0, 1.0], \"title\": {\"text\": \"word\"}}},\n",
       "                        {\"responsive\": true}\n",
       "                    ).then(function(){\n",
       "                            \n",
       "var gd = document.getElementById('2b721639-26af-4e43-9c35-3ae17eb9dadb');\n",
       "var x = new MutationObserver(function (mutations, observer) {{\n",
       "        var display = window.getComputedStyle(gd).display;\n",
       "        if (!display || display === 'none') {{\n",
       "            console.log([gd, 'removed!']);\n",
       "            Plotly.purge(gd);\n",
       "            observer.disconnect();\n",
       "        }}\n",
       "}});\n",
       "\n",
       "// Listen for the removal of the full notebook cells\n",
       "var notebookContainer = gd.closest('#notebook-container');\n",
       "if (notebookContainer) {{\n",
       "    x.observe(notebookContainer, {childList: true});\n",
       "}}\n",
       "\n",
       "// Listen for the clearing of the current output cell\n",
       "var outputEl = gd.closest('.output');\n",
       "if (outputEl) {{\n",
       "    x.observe(outputEl, {childList: true});\n",
       "}}\n",
       "\n",
       "                        })\n",
       "                };\n",
       "                });\n",
       "            </script>\n",
       "        </div>"
      ]
     },
     "metadata": {},
     "output_type": "display_data"
    }
   ],
   "source": [
    "fig = px.bar(df_wf, x=\"freq\", y=\"word\", orientation='h')\n",
    "fig.show()"
   ]
  },
  {
   "cell_type": "code",
   "execution_count": 58,
   "metadata": {},
   "outputs": [
    {
     "data": {
      "application/vnd.plotly.v1+json": {
       "config": {
        "plotlyServerURL": "https://plot.ly"
       },
       "data": [
        {
         "branchvalues": "total",
         "customdata": [
          [
           118
          ],
          [
           99
          ],
          [
           86
          ],
          [
           98
          ],
          [
           93
          ],
          [
           174
          ],
          [
           100
          ],
          [
           81
          ],
          [
           93
          ],
          [
           85
          ],
          [
           78
          ],
          [
           78
          ],
          [
           93
          ],
          [
           81
          ],
          [
           93
          ],
          [
           78
          ],
          [
           81
          ],
          [
           93
          ],
          [
           92
          ],
          [
           88
          ],
          [
           93
          ],
          [
           90
          ],
          [
           81
          ],
          [
           93
          ],
          [
           86
          ],
          [
           81
          ],
          [
           81
          ],
          [
           81
          ],
          [
           80
          ],
          [
           81
          ]
         ],
         "domain": {
          "x": [
           0,
           1
          ],
          "y": [
           0,
           1
          ]
         },
         "hovertemplate": "labels=%{label}<br>freq_sum=%{value}<br>parent=%{parent}<br>id=%{id}<br>freq=%{color}<extra></extra>",
         "ids": [
          "1",
          "10",
          "5700",
          "7nm",
          "8nm.",
          "amd",
          "aorus",
          "ask",
          "bad",
          "build",
          "computing",
          "confidential",
          "conflicting",
          "go!",
          "going",
          "google",
          "gpu!",
          "lot",
          "new",
          "new…",
          "rumors",
          "rx",
          "ryzen",
          "well,",
          "xt",
          "ya",
          "✨you",
          "💯rate",
          "🚨",
          "🛒shop"
         ],
         "labels": [
          "1",
          "10",
          "5700",
          "7nm",
          "8nm.",
          "amd",
          "aorus",
          "ask",
          "bad",
          "build",
          "computing",
          "confidential",
          "conflicting",
          "go!",
          "going",
          "google",
          "gpu!",
          "lot",
          "new",
          "new…",
          "rumors",
          "rx",
          "ryzen",
          "well,",
          "xt",
          "ya",
          "✨you",
          "💯rate",
          "🚨",
          "🛒shop"
         ],
         "marker": {
          "coloraxis": "coloraxis",
          "colors": [
           118,
           99,
           86,
           98,
           93,
           174,
           100,
           81,
           93,
           85,
           78,
           78,
           93,
           81,
           93,
           78,
           81,
           93,
           92,
           88,
           93,
           90,
           81,
           93,
           86,
           81,
           81,
           81,
           80,
           81
          ]
         },
         "name": "",
         "parents": [
          "",
          "",
          "",
          "",
          "",
          "",
          "",
          "",
          "",
          "",
          "",
          "",
          "",
          "",
          "",
          "",
          "",
          "",
          "",
          "",
          "",
          "",
          "",
          "",
          "",
          "",
          "",
          "",
          "",
          ""
         ],
         "type": "treemap",
         "values": [
          118,
          99,
          86,
          98,
          93,
          174,
          100,
          81,
          93,
          85,
          78,
          78,
          93,
          81,
          93,
          78,
          81,
          93,
          92,
          88,
          93,
          90,
          81,
          93,
          86,
          81,
          81,
          81,
          80,
          81
         ]
        }
       ],
       "layout": {
        "coloraxis": {
         "colorbar": {
          "title": {
           "text": "freq"
          }
         },
         "colorscale": [
          [
           0,
           "rgb(247,251,255)"
          ],
          [
           0.125,
           "rgb(222,235,247)"
          ],
          [
           0.25,
           "rgb(198,219,239)"
          ],
          [
           0.375,
           "rgb(158,202,225)"
          ],
          [
           0.5,
           "rgb(107,174,214)"
          ],
          [
           0.625,
           "rgb(66,146,198)"
          ],
          [
           0.75,
           "rgb(33,113,181)"
          ],
          [
           0.875,
           "rgb(8,81,156)"
          ],
          [
           1,
           "rgb(8,48,107)"
          ]
         ]
        },
        "legend": {
         "tracegroupgap": 0
        },
        "margin": {
         "t": 60
        },
        "template": {
         "data": {
          "bar": [
           {
            "error_x": {
             "color": "#2a3f5f"
            },
            "error_y": {
             "color": "#2a3f5f"
            },
            "marker": {
             "line": {
              "color": "#E5ECF6",
              "width": 0.5
             }
            },
            "type": "bar"
           }
          ],
          "barpolar": [
           {
            "marker": {
             "line": {
              "color": "#E5ECF6",
              "width": 0.5
             }
            },
            "type": "barpolar"
           }
          ],
          "carpet": [
           {
            "aaxis": {
             "endlinecolor": "#2a3f5f",
             "gridcolor": "white",
             "linecolor": "white",
             "minorgridcolor": "white",
             "startlinecolor": "#2a3f5f"
            },
            "baxis": {
             "endlinecolor": "#2a3f5f",
             "gridcolor": "white",
             "linecolor": "white",
             "minorgridcolor": "white",
             "startlinecolor": "#2a3f5f"
            },
            "type": "carpet"
           }
          ],
          "choropleth": [
           {
            "colorbar": {
             "outlinewidth": 0,
             "ticks": ""
            },
            "type": "choropleth"
           }
          ],
          "contour": [
           {
            "colorbar": {
             "outlinewidth": 0,
             "ticks": ""
            },
            "colorscale": [
             [
              0,
              "#0d0887"
             ],
             [
              0.1111111111111111,
              "#46039f"
             ],
             [
              0.2222222222222222,
              "#7201a8"
             ],
             [
              0.3333333333333333,
              "#9c179e"
             ],
             [
              0.4444444444444444,
              "#bd3786"
             ],
             [
              0.5555555555555556,
              "#d8576b"
             ],
             [
              0.6666666666666666,
              "#ed7953"
             ],
             [
              0.7777777777777778,
              "#fb9f3a"
             ],
             [
              0.8888888888888888,
              "#fdca26"
             ],
             [
              1,
              "#f0f921"
             ]
            ],
            "type": "contour"
           }
          ],
          "contourcarpet": [
           {
            "colorbar": {
             "outlinewidth": 0,
             "ticks": ""
            },
            "type": "contourcarpet"
           }
          ],
          "heatmap": [
           {
            "colorbar": {
             "outlinewidth": 0,
             "ticks": ""
            },
            "colorscale": [
             [
              0,
              "#0d0887"
             ],
             [
              0.1111111111111111,
              "#46039f"
             ],
             [
              0.2222222222222222,
              "#7201a8"
             ],
             [
              0.3333333333333333,
              "#9c179e"
             ],
             [
              0.4444444444444444,
              "#bd3786"
             ],
             [
              0.5555555555555556,
              "#d8576b"
             ],
             [
              0.6666666666666666,
              "#ed7953"
             ],
             [
              0.7777777777777778,
              "#fb9f3a"
             ],
             [
              0.8888888888888888,
              "#fdca26"
             ],
             [
              1,
              "#f0f921"
             ]
            ],
            "type": "heatmap"
           }
          ],
          "heatmapgl": [
           {
            "colorbar": {
             "outlinewidth": 0,
             "ticks": ""
            },
            "colorscale": [
             [
              0,
              "#0d0887"
             ],
             [
              0.1111111111111111,
              "#46039f"
             ],
             [
              0.2222222222222222,
              "#7201a8"
             ],
             [
              0.3333333333333333,
              "#9c179e"
             ],
             [
              0.4444444444444444,
              "#bd3786"
             ],
             [
              0.5555555555555556,
              "#d8576b"
             ],
             [
              0.6666666666666666,
              "#ed7953"
             ],
             [
              0.7777777777777778,
              "#fb9f3a"
             ],
             [
              0.8888888888888888,
              "#fdca26"
             ],
             [
              1,
              "#f0f921"
             ]
            ],
            "type": "heatmapgl"
           }
          ],
          "histogram": [
           {
            "marker": {
             "colorbar": {
              "outlinewidth": 0,
              "ticks": ""
             }
            },
            "type": "histogram"
           }
          ],
          "histogram2d": [
           {
            "colorbar": {
             "outlinewidth": 0,
             "ticks": ""
            },
            "colorscale": [
             [
              0,
              "#0d0887"
             ],
             [
              0.1111111111111111,
              "#46039f"
             ],
             [
              0.2222222222222222,
              "#7201a8"
             ],
             [
              0.3333333333333333,
              "#9c179e"
             ],
             [
              0.4444444444444444,
              "#bd3786"
             ],
             [
              0.5555555555555556,
              "#d8576b"
             ],
             [
              0.6666666666666666,
              "#ed7953"
             ],
             [
              0.7777777777777778,
              "#fb9f3a"
             ],
             [
              0.8888888888888888,
              "#fdca26"
             ],
             [
              1,
              "#f0f921"
             ]
            ],
            "type": "histogram2d"
           }
          ],
          "histogram2dcontour": [
           {
            "colorbar": {
             "outlinewidth": 0,
             "ticks": ""
            },
            "colorscale": [
             [
              0,
              "#0d0887"
             ],
             [
              0.1111111111111111,
              "#46039f"
             ],
             [
              0.2222222222222222,
              "#7201a8"
             ],
             [
              0.3333333333333333,
              "#9c179e"
             ],
             [
              0.4444444444444444,
              "#bd3786"
             ],
             [
              0.5555555555555556,
              "#d8576b"
             ],
             [
              0.6666666666666666,
              "#ed7953"
             ],
             [
              0.7777777777777778,
              "#fb9f3a"
             ],
             [
              0.8888888888888888,
              "#fdca26"
             ],
             [
              1,
              "#f0f921"
             ]
            ],
            "type": "histogram2dcontour"
           }
          ],
          "mesh3d": [
           {
            "colorbar": {
             "outlinewidth": 0,
             "ticks": ""
            },
            "type": "mesh3d"
           }
          ],
          "parcoords": [
           {
            "line": {
             "colorbar": {
              "outlinewidth": 0,
              "ticks": ""
             }
            },
            "type": "parcoords"
           }
          ],
          "pie": [
           {
            "automargin": true,
            "type": "pie"
           }
          ],
          "scatter": [
           {
            "marker": {
             "colorbar": {
              "outlinewidth": 0,
              "ticks": ""
             }
            },
            "type": "scatter"
           }
          ],
          "scatter3d": [
           {
            "line": {
             "colorbar": {
              "outlinewidth": 0,
              "ticks": ""
             }
            },
            "marker": {
             "colorbar": {
              "outlinewidth": 0,
              "ticks": ""
             }
            },
            "type": "scatter3d"
           }
          ],
          "scattercarpet": [
           {
            "marker": {
             "colorbar": {
              "outlinewidth": 0,
              "ticks": ""
             }
            },
            "type": "scattercarpet"
           }
          ],
          "scattergeo": [
           {
            "marker": {
             "colorbar": {
              "outlinewidth": 0,
              "ticks": ""
             }
            },
            "type": "scattergeo"
           }
          ],
          "scattergl": [
           {
            "marker": {
             "colorbar": {
              "outlinewidth": 0,
              "ticks": ""
             }
            },
            "type": "scattergl"
           }
          ],
          "scattermapbox": [
           {
            "marker": {
             "colorbar": {
              "outlinewidth": 0,
              "ticks": ""
             }
            },
            "type": "scattermapbox"
           }
          ],
          "scatterpolar": [
           {
            "marker": {
             "colorbar": {
              "outlinewidth": 0,
              "ticks": ""
             }
            },
            "type": "scatterpolar"
           }
          ],
          "scatterpolargl": [
           {
            "marker": {
             "colorbar": {
              "outlinewidth": 0,
              "ticks": ""
             }
            },
            "type": "scatterpolargl"
           }
          ],
          "scatterternary": [
           {
            "marker": {
             "colorbar": {
              "outlinewidth": 0,
              "ticks": ""
             }
            },
            "type": "scatterternary"
           }
          ],
          "surface": [
           {
            "colorbar": {
             "outlinewidth": 0,
             "ticks": ""
            },
            "colorscale": [
             [
              0,
              "#0d0887"
             ],
             [
              0.1111111111111111,
              "#46039f"
             ],
             [
              0.2222222222222222,
              "#7201a8"
             ],
             [
              0.3333333333333333,
              "#9c179e"
             ],
             [
              0.4444444444444444,
              "#bd3786"
             ],
             [
              0.5555555555555556,
              "#d8576b"
             ],
             [
              0.6666666666666666,
              "#ed7953"
             ],
             [
              0.7777777777777778,
              "#fb9f3a"
             ],
             [
              0.8888888888888888,
              "#fdca26"
             ],
             [
              1,
              "#f0f921"
             ]
            ],
            "type": "surface"
           }
          ],
          "table": [
           {
            "cells": {
             "fill": {
              "color": "#EBF0F8"
             },
             "line": {
              "color": "white"
             }
            },
            "header": {
             "fill": {
              "color": "#C8D4E3"
             },
             "line": {
              "color": "white"
             }
            },
            "type": "table"
           }
          ]
         },
         "layout": {
          "annotationdefaults": {
           "arrowcolor": "#2a3f5f",
           "arrowhead": 0,
           "arrowwidth": 1
          },
          "coloraxis": {
           "colorbar": {
            "outlinewidth": 0,
            "ticks": ""
           }
          },
          "colorscale": {
           "diverging": [
            [
             0,
             "#8e0152"
            ],
            [
             0.1,
             "#c51b7d"
            ],
            [
             0.2,
             "#de77ae"
            ],
            [
             0.3,
             "#f1b6da"
            ],
            [
             0.4,
             "#fde0ef"
            ],
            [
             0.5,
             "#f7f7f7"
            ],
            [
             0.6,
             "#e6f5d0"
            ],
            [
             0.7,
             "#b8e186"
            ],
            [
             0.8,
             "#7fbc41"
            ],
            [
             0.9,
             "#4d9221"
            ],
            [
             1,
             "#276419"
            ]
           ],
           "sequential": [
            [
             0,
             "#0d0887"
            ],
            [
             0.1111111111111111,
             "#46039f"
            ],
            [
             0.2222222222222222,
             "#7201a8"
            ],
            [
             0.3333333333333333,
             "#9c179e"
            ],
            [
             0.4444444444444444,
             "#bd3786"
            ],
            [
             0.5555555555555556,
             "#d8576b"
            ],
            [
             0.6666666666666666,
             "#ed7953"
            ],
            [
             0.7777777777777778,
             "#fb9f3a"
            ],
            [
             0.8888888888888888,
             "#fdca26"
            ],
            [
             1,
             "#f0f921"
            ]
           ],
           "sequentialminus": [
            [
             0,
             "#0d0887"
            ],
            [
             0.1111111111111111,
             "#46039f"
            ],
            [
             0.2222222222222222,
             "#7201a8"
            ],
            [
             0.3333333333333333,
             "#9c179e"
            ],
            [
             0.4444444444444444,
             "#bd3786"
            ],
            [
             0.5555555555555556,
             "#d8576b"
            ],
            [
             0.6666666666666666,
             "#ed7953"
            ],
            [
             0.7777777777777778,
             "#fb9f3a"
            ],
            [
             0.8888888888888888,
             "#fdca26"
            ],
            [
             1,
             "#f0f921"
            ]
           ]
          },
          "colorway": [
           "#636efa",
           "#EF553B",
           "#00cc96",
           "#ab63fa",
           "#FFA15A",
           "#19d3f3",
           "#FF6692",
           "#B6E880",
           "#FF97FF",
           "#FECB52"
          ],
          "font": {
           "color": "#2a3f5f"
          },
          "geo": {
           "bgcolor": "white",
           "lakecolor": "white",
           "landcolor": "#E5ECF6",
           "showlakes": true,
           "showland": true,
           "subunitcolor": "white"
          },
          "hoverlabel": {
           "align": "left"
          },
          "hovermode": "closest",
          "mapbox": {
           "style": "light"
          },
          "paper_bgcolor": "white",
          "plot_bgcolor": "#E5ECF6",
          "polar": {
           "angularaxis": {
            "gridcolor": "white",
            "linecolor": "white",
            "ticks": ""
           },
           "bgcolor": "#E5ECF6",
           "radialaxis": {
            "gridcolor": "white",
            "linecolor": "white",
            "ticks": ""
           }
          },
          "scene": {
           "xaxis": {
            "backgroundcolor": "#E5ECF6",
            "gridcolor": "white",
            "gridwidth": 2,
            "linecolor": "white",
            "showbackground": true,
            "ticks": "",
            "zerolinecolor": "white"
           },
           "yaxis": {
            "backgroundcolor": "#E5ECF6",
            "gridcolor": "white",
            "gridwidth": 2,
            "linecolor": "white",
            "showbackground": true,
            "ticks": "",
            "zerolinecolor": "white"
           },
           "zaxis": {
            "backgroundcolor": "#E5ECF6",
            "gridcolor": "white",
            "gridwidth": 2,
            "linecolor": "white",
            "showbackground": true,
            "ticks": "",
            "zerolinecolor": "white"
           }
          },
          "shapedefaults": {
           "line": {
            "color": "#2a3f5f"
           }
          },
          "ternary": {
           "aaxis": {
            "gridcolor": "white",
            "linecolor": "white",
            "ticks": ""
           },
           "baxis": {
            "gridcolor": "white",
            "linecolor": "white",
            "ticks": ""
           },
           "bgcolor": "#E5ECF6",
           "caxis": {
            "gridcolor": "white",
            "linecolor": "white",
            "ticks": ""
           }
          },
          "title": {
           "x": 0.05
          },
          "xaxis": {
           "automargin": true,
           "gridcolor": "white",
           "linecolor": "white",
           "ticks": "",
           "title": {
            "standoff": 15
           },
           "zerolinecolor": "white",
           "zerolinewidth": 2
          },
          "yaxis": {
           "automargin": true,
           "gridcolor": "white",
           "linecolor": "white",
           "ticks": "",
           "title": {
            "standoff": 15
           },
           "zerolinecolor": "white",
           "zerolinewidth": 2
          }
         }
        }
       }
      },
      "text/html": [
       "<div>\n",
       "        \n",
       "        \n",
       "            <div id=\"4c6661e9-a162-4169-9bce-6563a4767ea2\" class=\"plotly-graph-div\" style=\"height:525px; width:100%;\"></div>\n",
       "            <script type=\"text/javascript\">\n",
       "                require([\"plotly\"], function(Plotly) {\n",
       "                    window.PLOTLYENV=window.PLOTLYENV || {};\n",
       "                    \n",
       "                if (document.getElementById(\"4c6661e9-a162-4169-9bce-6563a4767ea2\")) {\n",
       "                    Plotly.newPlot(\n",
       "                        '4c6661e9-a162-4169-9bce-6563a4767ea2',\n",
       "                        [{\"branchvalues\": \"total\", \"customdata\": [[118], [99], [86], [98], [93], [174], [100], [81], [93], [85], [78], [78], [93], [81], [93], [78], [81], [93], [92], [88], [93], [90], [81], [93], [86], [81], [81], [81], [80], [81]], \"domain\": {\"x\": [0.0, 1.0], \"y\": [0.0, 1.0]}, \"hovertemplate\": \"labels=%{label}<br>freq_sum=%{value}<br>parent=%{parent}<br>id=%{id}<br>freq=%{color}<extra></extra>\", \"ids\": [\"1\", \"10\", \"5700\", \"7nm\", \"8nm.\", \"amd\", \"aorus\", \"ask\", \"bad\", \"build\", \"computing\", \"confidential\", \"conflicting\", \"go!\", \"going\", \"google\", \"gpu!\", \"lot\", \"new\", \"new\\u2026\", \"rumors\", \"rx\", \"ryzen\", \"well,\", \"xt\", \"ya\", \"\\u2728you\", \"\\ud83d\\udcafrate\", \"\\ud83d\\udea8\", \"\\ud83d\\uded2shop\"], \"labels\": [\"1\", \"10\", \"5700\", \"7nm\", \"8nm.\", \"amd\", \"aorus\", \"ask\", \"bad\", \"build\", \"computing\", \"confidential\", \"conflicting\", \"go!\", \"going\", \"google\", \"gpu!\", \"lot\", \"new\", \"new\\u2026\", \"rumors\", \"rx\", \"ryzen\", \"well,\", \"xt\", \"ya\", \"\\u2728you\", \"\\ud83d\\udcafrate\", \"\\ud83d\\udea8\", \"\\ud83d\\uded2shop\"], \"marker\": {\"coloraxis\": \"coloraxis\", \"colors\": [118, 99, 86, 98, 93, 174, 100, 81, 93, 85, 78, 78, 93, 81, 93, 78, 81, 93, 92, 88, 93, 90, 81, 93, 86, 81, 81, 81, 80, 81]}, \"name\": \"\", \"parents\": [\"\", \"\", \"\", \"\", \"\", \"\", \"\", \"\", \"\", \"\", \"\", \"\", \"\", \"\", \"\", \"\", \"\", \"\", \"\", \"\", \"\", \"\", \"\", \"\", \"\", \"\", \"\", \"\", \"\", \"\"], \"type\": \"treemap\", \"values\": [118, 99, 86, 98, 93, 174, 100, 81, 93, 85, 78, 78, 93, 81, 93, 78, 81, 93, 92, 88, 93, 90, 81, 93, 86, 81, 81, 81, 80, 81]}],\n",
       "                        {\"coloraxis\": {\"colorbar\": {\"title\": {\"text\": \"freq\"}}, \"colorscale\": [[0.0, \"rgb(247,251,255)\"], [0.125, \"rgb(222,235,247)\"], [0.25, \"rgb(198,219,239)\"], [0.375, \"rgb(158,202,225)\"], [0.5, \"rgb(107,174,214)\"], [0.625, \"rgb(66,146,198)\"], [0.75, \"rgb(33,113,181)\"], [0.875, \"rgb(8,81,156)\"], [1.0, \"rgb(8,48,107)\"]]}, \"legend\": {\"tracegroupgap\": 0}, \"margin\": {\"t\": 60}, \"template\": {\"data\": {\"bar\": [{\"error_x\": {\"color\": \"#2a3f5f\"}, \"error_y\": {\"color\": \"#2a3f5f\"}, \"marker\": {\"line\": {\"color\": \"#E5ECF6\", \"width\": 0.5}}, \"type\": \"bar\"}], \"barpolar\": [{\"marker\": {\"line\": {\"color\": \"#E5ECF6\", \"width\": 0.5}}, \"type\": \"barpolar\"}], \"carpet\": [{\"aaxis\": {\"endlinecolor\": \"#2a3f5f\", \"gridcolor\": \"white\", \"linecolor\": \"white\", \"minorgridcolor\": \"white\", \"startlinecolor\": \"#2a3f5f\"}, \"baxis\": {\"endlinecolor\": \"#2a3f5f\", \"gridcolor\": \"white\", \"linecolor\": \"white\", \"minorgridcolor\": \"white\", \"startlinecolor\": \"#2a3f5f\"}, \"type\": \"carpet\"}], \"choropleth\": [{\"colorbar\": {\"outlinewidth\": 0, \"ticks\": \"\"}, \"type\": \"choropleth\"}], \"contour\": [{\"colorbar\": {\"outlinewidth\": 0, \"ticks\": \"\"}, \"colorscale\": [[0.0, \"#0d0887\"], [0.1111111111111111, \"#46039f\"], [0.2222222222222222, \"#7201a8\"], [0.3333333333333333, \"#9c179e\"], [0.4444444444444444, \"#bd3786\"], [0.5555555555555556, \"#d8576b\"], [0.6666666666666666, \"#ed7953\"], [0.7777777777777778, \"#fb9f3a\"], [0.8888888888888888, \"#fdca26\"], [1.0, \"#f0f921\"]], \"type\": \"contour\"}], \"contourcarpet\": [{\"colorbar\": {\"outlinewidth\": 0, \"ticks\": \"\"}, \"type\": \"contourcarpet\"}], \"heatmap\": [{\"colorbar\": {\"outlinewidth\": 0, \"ticks\": \"\"}, \"colorscale\": [[0.0, \"#0d0887\"], [0.1111111111111111, \"#46039f\"], [0.2222222222222222, \"#7201a8\"], [0.3333333333333333, \"#9c179e\"], [0.4444444444444444, \"#bd3786\"], [0.5555555555555556, \"#d8576b\"], [0.6666666666666666, \"#ed7953\"], [0.7777777777777778, \"#fb9f3a\"], [0.8888888888888888, \"#fdca26\"], [1.0, \"#f0f921\"]], \"type\": \"heatmap\"}], \"heatmapgl\": [{\"colorbar\": {\"outlinewidth\": 0, \"ticks\": \"\"}, \"colorscale\": [[0.0, \"#0d0887\"], [0.1111111111111111, \"#46039f\"], [0.2222222222222222, \"#7201a8\"], [0.3333333333333333, \"#9c179e\"], [0.4444444444444444, \"#bd3786\"], [0.5555555555555556, \"#d8576b\"], [0.6666666666666666, \"#ed7953\"], [0.7777777777777778, \"#fb9f3a\"], [0.8888888888888888, \"#fdca26\"], [1.0, \"#f0f921\"]], \"type\": \"heatmapgl\"}], \"histogram\": [{\"marker\": {\"colorbar\": {\"outlinewidth\": 0, \"ticks\": \"\"}}, \"type\": \"histogram\"}], \"histogram2d\": [{\"colorbar\": {\"outlinewidth\": 0, \"ticks\": \"\"}, \"colorscale\": [[0.0, \"#0d0887\"], [0.1111111111111111, \"#46039f\"], [0.2222222222222222, \"#7201a8\"], [0.3333333333333333, \"#9c179e\"], [0.4444444444444444, \"#bd3786\"], [0.5555555555555556, \"#d8576b\"], [0.6666666666666666, \"#ed7953\"], [0.7777777777777778, \"#fb9f3a\"], [0.8888888888888888, \"#fdca26\"], [1.0, \"#f0f921\"]], \"type\": \"histogram2d\"}], \"histogram2dcontour\": [{\"colorbar\": {\"outlinewidth\": 0, \"ticks\": \"\"}, \"colorscale\": [[0.0, \"#0d0887\"], [0.1111111111111111, \"#46039f\"], [0.2222222222222222, \"#7201a8\"], [0.3333333333333333, \"#9c179e\"], [0.4444444444444444, \"#bd3786\"], [0.5555555555555556, \"#d8576b\"], [0.6666666666666666, \"#ed7953\"], [0.7777777777777778, \"#fb9f3a\"], [0.8888888888888888, \"#fdca26\"], [1.0, \"#f0f921\"]], \"type\": \"histogram2dcontour\"}], \"mesh3d\": [{\"colorbar\": {\"outlinewidth\": 0, \"ticks\": \"\"}, \"type\": \"mesh3d\"}], \"parcoords\": [{\"line\": {\"colorbar\": {\"outlinewidth\": 0, \"ticks\": \"\"}}, \"type\": \"parcoords\"}], \"pie\": [{\"automargin\": true, \"type\": \"pie\"}], \"scatter\": [{\"marker\": {\"colorbar\": {\"outlinewidth\": 0, \"ticks\": \"\"}}, \"type\": \"scatter\"}], \"scatter3d\": [{\"line\": {\"colorbar\": {\"outlinewidth\": 0, \"ticks\": \"\"}}, \"marker\": {\"colorbar\": {\"outlinewidth\": 0, \"ticks\": \"\"}}, \"type\": \"scatter3d\"}], \"scattercarpet\": [{\"marker\": {\"colorbar\": {\"outlinewidth\": 0, \"ticks\": \"\"}}, \"type\": \"scattercarpet\"}], \"scattergeo\": [{\"marker\": {\"colorbar\": {\"outlinewidth\": 0, \"ticks\": \"\"}}, \"type\": \"scattergeo\"}], \"scattergl\": [{\"marker\": {\"colorbar\": {\"outlinewidth\": 0, \"ticks\": \"\"}}, \"type\": \"scattergl\"}], \"scattermapbox\": [{\"marker\": {\"colorbar\": {\"outlinewidth\": 0, \"ticks\": \"\"}}, \"type\": \"scattermapbox\"}], \"scatterpolar\": [{\"marker\": {\"colorbar\": {\"outlinewidth\": 0, \"ticks\": \"\"}}, \"type\": \"scatterpolar\"}], \"scatterpolargl\": [{\"marker\": {\"colorbar\": {\"outlinewidth\": 0, \"ticks\": \"\"}}, \"type\": \"scatterpolargl\"}], \"scatterternary\": [{\"marker\": {\"colorbar\": {\"outlinewidth\": 0, \"ticks\": \"\"}}, \"type\": \"scatterternary\"}], \"surface\": [{\"colorbar\": {\"outlinewidth\": 0, \"ticks\": \"\"}, \"colorscale\": [[0.0, \"#0d0887\"], [0.1111111111111111, \"#46039f\"], [0.2222222222222222, \"#7201a8\"], [0.3333333333333333, \"#9c179e\"], [0.4444444444444444, \"#bd3786\"], [0.5555555555555556, \"#d8576b\"], [0.6666666666666666, \"#ed7953\"], [0.7777777777777778, \"#fb9f3a\"], [0.8888888888888888, \"#fdca26\"], [1.0, \"#f0f921\"]], \"type\": \"surface\"}], \"table\": [{\"cells\": {\"fill\": {\"color\": \"#EBF0F8\"}, \"line\": {\"color\": \"white\"}}, \"header\": {\"fill\": {\"color\": \"#C8D4E3\"}, \"line\": {\"color\": \"white\"}}, \"type\": \"table\"}]}, \"layout\": {\"annotationdefaults\": {\"arrowcolor\": \"#2a3f5f\", \"arrowhead\": 0, \"arrowwidth\": 1}, \"coloraxis\": {\"colorbar\": {\"outlinewidth\": 0, \"ticks\": \"\"}}, \"colorscale\": {\"diverging\": [[0, \"#8e0152\"], [0.1, \"#c51b7d\"], [0.2, \"#de77ae\"], [0.3, \"#f1b6da\"], [0.4, \"#fde0ef\"], [0.5, \"#f7f7f7\"], [0.6, \"#e6f5d0\"], [0.7, \"#b8e186\"], [0.8, \"#7fbc41\"], [0.9, \"#4d9221\"], [1, \"#276419\"]], \"sequential\": [[0.0, \"#0d0887\"], [0.1111111111111111, \"#46039f\"], [0.2222222222222222, \"#7201a8\"], [0.3333333333333333, \"#9c179e\"], [0.4444444444444444, \"#bd3786\"], [0.5555555555555556, \"#d8576b\"], [0.6666666666666666, \"#ed7953\"], [0.7777777777777778, \"#fb9f3a\"], [0.8888888888888888, \"#fdca26\"], [1.0, \"#f0f921\"]], \"sequentialminus\": [[0.0, \"#0d0887\"], [0.1111111111111111, \"#46039f\"], [0.2222222222222222, \"#7201a8\"], [0.3333333333333333, \"#9c179e\"], [0.4444444444444444, \"#bd3786\"], [0.5555555555555556, \"#d8576b\"], [0.6666666666666666, \"#ed7953\"], [0.7777777777777778, \"#fb9f3a\"], [0.8888888888888888, \"#fdca26\"], [1.0, \"#f0f921\"]]}, \"colorway\": [\"#636efa\", \"#EF553B\", \"#00cc96\", \"#ab63fa\", \"#FFA15A\", \"#19d3f3\", \"#FF6692\", \"#B6E880\", \"#FF97FF\", \"#FECB52\"], \"font\": {\"color\": \"#2a3f5f\"}, \"geo\": {\"bgcolor\": \"white\", \"lakecolor\": \"white\", \"landcolor\": \"#E5ECF6\", \"showlakes\": true, \"showland\": true, \"subunitcolor\": \"white\"}, \"hoverlabel\": {\"align\": \"left\"}, \"hovermode\": \"closest\", \"mapbox\": {\"style\": \"light\"}, \"paper_bgcolor\": \"white\", \"plot_bgcolor\": \"#E5ECF6\", \"polar\": {\"angularaxis\": {\"gridcolor\": \"white\", \"linecolor\": \"white\", \"ticks\": \"\"}, \"bgcolor\": \"#E5ECF6\", \"radialaxis\": {\"gridcolor\": \"white\", \"linecolor\": \"white\", \"ticks\": \"\"}}, \"scene\": {\"xaxis\": {\"backgroundcolor\": \"#E5ECF6\", \"gridcolor\": \"white\", \"gridwidth\": 2, \"linecolor\": \"white\", \"showbackground\": true, \"ticks\": \"\", \"zerolinecolor\": \"white\"}, \"yaxis\": {\"backgroundcolor\": \"#E5ECF6\", \"gridcolor\": \"white\", \"gridwidth\": 2, \"linecolor\": \"white\", \"showbackground\": true, \"ticks\": \"\", \"zerolinecolor\": \"white\"}, \"zaxis\": {\"backgroundcolor\": \"#E5ECF6\", \"gridcolor\": \"white\", \"gridwidth\": 2, \"linecolor\": \"white\", \"showbackground\": true, \"ticks\": \"\", \"zerolinecolor\": \"white\"}}, \"shapedefaults\": {\"line\": {\"color\": \"#2a3f5f\"}}, \"ternary\": {\"aaxis\": {\"gridcolor\": \"white\", \"linecolor\": \"white\", \"ticks\": \"\"}, \"baxis\": {\"gridcolor\": \"white\", \"linecolor\": \"white\", \"ticks\": \"\"}, \"bgcolor\": \"#E5ECF6\", \"caxis\": {\"gridcolor\": \"white\", \"linecolor\": \"white\", \"ticks\": \"\"}}, \"title\": {\"x\": 0.05}, \"xaxis\": {\"automargin\": true, \"gridcolor\": \"white\", \"linecolor\": \"white\", \"ticks\": \"\", \"title\": {\"standoff\": 15}, \"zerolinecolor\": \"white\", \"zerolinewidth\": 2}, \"yaxis\": {\"automargin\": true, \"gridcolor\": \"white\", \"linecolor\": \"white\", \"ticks\": \"\", \"title\": {\"standoff\": 15}, \"zerolinecolor\": \"white\", \"zerolinewidth\": 2}}}},\n",
       "                        {\"responsive\": true}\n",
       "                    ).then(function(){\n",
       "                            \n",
       "var gd = document.getElementById('4c6661e9-a162-4169-9bce-6563a4767ea2');\n",
       "var x = new MutationObserver(function (mutations, observer) {{\n",
       "        var display = window.getComputedStyle(gd).display;\n",
       "        if (!display || display === 'none') {{\n",
       "            console.log([gd, 'removed!']);\n",
       "            Plotly.purge(gd);\n",
       "            observer.disconnect();\n",
       "        }}\n",
       "}});\n",
       "\n",
       "// Listen for the removal of the full notebook cells\n",
       "var notebookContainer = gd.closest('#notebook-container');\n",
       "if (notebookContainer) {{\n",
       "    x.observe(notebookContainer, {childList: true});\n",
       "}}\n",
       "\n",
       "// Listen for the clearing of the current output cell\n",
       "var outputEl = gd.closest('.output');\n",
       "if (outputEl) {{\n",
       "    x.observe(outputEl, {childList: true});\n",
       "}}\n",
       "\n",
       "                        })\n",
       "                };\n",
       "                });\n",
       "            </script>\n",
       "        </div>"
      ]
     },
     "metadata": {},
     "output_type": "display_data"
    }
   ],
   "source": [
    "fig = px.treemap(df_wf, path=['word'], values='freq',\n",
    "                  color='freq',color_continuous_scale='blues')\n",
    "fig.show()"
   ]
  },
  {
   "cell_type": "code",
   "execution_count": 24,
   "metadata": {},
   "outputs": [],
   "source": [
    "unique_partition_1=df['partition_1'].unique()"
   ]
  },
  {
   "cell_type": "code",
   "execution_count": 26,
   "metadata": {},
   "outputs": [
    {
     "data": {
      "text/html": [
       "<div>\n",
       "<style scoped>\n",
       "    .dataframe tbody tr th:only-of-type {\n",
       "        vertical-align: middle;\n",
       "    }\n",
       "\n",
       "    .dataframe tbody tr th {\n",
       "        vertical-align: top;\n",
       "    }\n",
       "\n",
       "    .dataframe thead th {\n",
       "        text-align: right;\n",
       "    }\n",
       "</style>\n",
       "<table border=\"1\" class=\"dataframe\">\n",
       "  <thead>\n",
       "    <tr style=\"text-align: right;\">\n",
       "      <th></th>\n",
       "      <th>partition_1</th>\n",
       "      <th>partition_0</th>\n",
       "      <th>search_query</th>\n",
       "    </tr>\n",
       "  </thead>\n",
       "  <tbody>\n",
       "    <tr>\n",
       "      <th>0</th>\n",
       "      <td>AFC Bournemouth</td>\n",
       "      <td>EPL</td>\n",
       "      <td>#Bournemouth</td>\n",
       "    </tr>\n",
       "    <tr>\n",
       "      <th>1</th>\n",
       "      <td>AMD</td>\n",
       "      <td>Technology</td>\n",
       "      <td>#AMD</td>\n",
       "    </tr>\n",
       "    <tr>\n",
       "      <th>2</th>\n",
       "      <td>Adelaide</td>\n",
       "      <td>Australia</td>\n",
       "      <td>#Adelaide</td>\n",
       "    </tr>\n",
       "    <tr>\n",
       "      <th>3</th>\n",
       "      <td>Adidas</td>\n",
       "      <td>Fashion</td>\n",
       "      <td>#Adidas</td>\n",
       "    </tr>\n",
       "    <tr>\n",
       "      <th>4</th>\n",
       "      <td>Afghanistan</td>\n",
       "      <td>Politics</td>\n",
       "      <td>#Afghanistan</td>\n",
       "    </tr>\n",
       "    <tr>\n",
       "      <th>...</th>\n",
       "      <td>...</td>\n",
       "      <td>...</td>\n",
       "      <td>...</td>\n",
       "    </tr>\n",
       "    <tr>\n",
       "      <th>61</th>\n",
       "      <td>ColumbiaUniversity</td>\n",
       "      <td>Universities</td>\n",
       "      <td>#ColumbiaUniversity</td>\n",
       "    </tr>\n",
       "    <tr>\n",
       "      <th>107</th>\n",
       "      <td>HKUST</td>\n",
       "      <td>Universities</td>\n",
       "      <td>#HKUST</td>\n",
       "    </tr>\n",
       "    <tr>\n",
       "      <th>136</th>\n",
       "      <td>KingsCollege</td>\n",
       "      <td>Universities</td>\n",
       "      <td>#KingsCollege</td>\n",
       "    </tr>\n",
       "    <tr>\n",
       "      <th>276</th>\n",
       "      <td>UniversityOfHongKong</td>\n",
       "      <td>Universities</td>\n",
       "      <td>#HKU OR #UniversityOfHongKong</td>\n",
       "    </tr>\n",
       "    <tr>\n",
       "      <th>182</th>\n",
       "      <td>OxfordUni</td>\n",
       "      <td>Universities</td>\n",
       "      <td>#OxfordUni</td>\n",
       "    </tr>\n",
       "  </tbody>\n",
       "</table>\n",
       "<p>319 rows × 3 columns</p>\n",
       "</div>"
      ],
      "text/plain": [
       "              partition_1   partition_0                   search_query\n",
       "0         AFC Bournemouth           EPL                   #Bournemouth\n",
       "1                     AMD    Technology                           #AMD\n",
       "2                Adelaide     Australia                      #Adelaide\n",
       "3                  Adidas       Fashion                        #Adidas\n",
       "4             Afghanistan      Politics                   #Afghanistan\n",
       "..                    ...           ...                            ...\n",
       "61     ColumbiaUniversity  Universities            #ColumbiaUniversity\n",
       "107                 HKUST  Universities                         #HKUST\n",
       "136          KingsCollege  Universities                  #KingsCollege\n",
       "276  UniversityOfHongKong  Universities  #HKU OR #UniversityOfHongKong\n",
       "182             OxfordUni  Universities                     #OxfordUni\n",
       "\n",
       "[319 rows x 3 columns]"
      ]
     },
     "execution_count": 26,
     "metadata": {},
     "output_type": "execute_result"
    }
   ],
   "source": []
  },
  {
   "cell_type": "code",
   "execution_count": 29,
   "metadata": {},
   "outputs": [
    {
     "data": {
      "text/plain": [
       "[{'label': 'EPL - AFC Bournemouth (#Bournemouth)', 'value': '#Bournemouth'},\n",
       " {'label': 'Technology - AMD (#AMD)', 'value': '#AMD'},\n",
       " {'label': 'Australia - Adelaide (#Adelaide)', 'value': '#Adelaide'},\n",
       " {'label': 'Fashion - Adidas (#Adidas)', 'value': '#Adidas'},\n",
       " {'label': 'Politics - Afghanistan (#Afghanistan)', 'value': '#Afghanistan'},\n",
       " {'label': 'Politics - Albania (#Albania)', 'value': '#Albania'},\n",
       " {'label': 'Politics - Algeria (#Algeria)', 'value': '#Algeria'},\n",
       " {'label': 'Technology - Amazon (#Amazon OR #AWS)',\n",
       "  'value': '#Amazon OR #AWS'},\n",
       " {'label': 'Politics - Andorra (#Andorra)', 'value': '#Andorra'},\n",
       " {'label': 'Tennis - AndyMurray (#AndyMurray)', 'value': '#AndyMurray'},\n",
       " {'label': 'Politics - Angola (#Angola)', 'value': '#Angola'},\n",
       " {'label': 'Politics - Anguilla (#Anguilla)', 'value': '#Anguilla'},\n",
       " {'label': 'Politics - Antarctica (#Antarctica)', 'value': '#Antarctica'},\n",
       " {'label': 'Technology - Apple (#Apple OR #Iphone)',\n",
       "  'value': '#Apple OR #Iphone'},\n",
       " {'label': 'Politics - Argentina (#Argentina)', 'value': '#Argentina'},\n",
       " {'label': 'Politics - Armenia (#Armenia)', 'value': '#Armenia'},\n",
       " {'label': 'EPL - Arsenal (#Arsenal OR #AFC OR #COYG)',\n",
       "  'value': '#Arsenal OR #AFC OR #COYG'},\n",
       " {'label': 'Religion - Atheist (#Atheist)', 'value': '#Atheist'},\n",
       " {'label': 'NBA - AtlantaHawks (#AtlantaHawks)', 'value': '#AtlantaHawks'},\n",
       " {'label': 'Politics - Australia (#Australia)', 'value': '#Australia'},\n",
       " {'label': 'Politics - Austria (#Austria)', 'value': '#Austria'},\n",
       " {'label': 'Politics - Azerbaijan (#Azerbaijan)', 'value': '#Azerbaijan'},\n",
       " {'label': 'Politics - Bahamas (#Bahamas)', 'value': '#Bahamas'},\n",
       " {'label': 'Politics - Bahrain (#Bahrain)', 'value': '#Bahrain'},\n",
       " {'label': 'Politics - Bangladesh (#Bangladesh)', 'value': '#Bangladesh'},\n",
       " {'label': 'Politics - Barbados (#Barbados)', 'value': '#Barbados'},\n",
       " {'label': 'Politics - Belarus (#Belarus)', 'value': '#Belarus'},\n",
       " {'label': 'Politics - Belgium (#Belgium)', 'value': '#Belgium'},\n",
       " {'label': 'Politics - Belize (#Belize)', 'value': '#Belize'},\n",
       " {'label': 'Politics - Benin (#Benin)', 'value': '#Benin'},\n",
       " {'label': 'Politics - Bermuda (#Bermuda)', 'value': '#Bermuda'},\n",
       " {'label': 'Politics - Bhutan (#Bhutan)', 'value': '#Bhutan'},\n",
       " {'label': 'RichList - BillGates (#BillGates)', 'value': '#BillGates'},\n",
       " {'label': 'Politics - Bolivia (#Bolivia)', 'value': '#Bolivia'},\n",
       " {'label': 'Politics - Bosnia (#Bosnia)', 'value': '#Bosnia'},\n",
       " {'label': 'NBA - BostonCeltics (#BostonCeltics)', 'value': '#BostonCeltics'},\n",
       " {'label': 'Politics - Botswana (#Botswana)', 'value': '#Botswana'},\n",
       " {'label': 'Politics - Brazil (#Brazil)', 'value': '#Brazil'},\n",
       " {'label': 'Australia - Brisbane (#Brisbane)', 'value': '#Brisbane'},\n",
       " {'label': 'NBA - BrooklynNets (#BrooklynNets)', 'value': '#BrooklynNets'},\n",
       " {'label': 'FastFood - BubbleTea (#Boba OR #BubbleTea)',\n",
       "  'value': '#Boba OR #BubbleTea'},\n",
       " {'label': 'Religion - Buddhism (#Buddhism OR #Buddha)',\n",
       "  'value': '#Buddhism OR #Buddha'},\n",
       " {'label': 'Politics - Bulgaria (#Bulgaria)', 'value': '#Bulgaria'},\n",
       " {'label': 'EPL - Burnley (#Burnley OR #BurnleyFC)',\n",
       "  'value': '#Burnley OR #BurnleyFC'},\n",
       " {'label': 'Esports - CSGO (#CSGO)', 'value': '#CSGO'},\n",
       " {'label': 'Politics - Cambodia (#Cambodia)', 'value': '#Cambodia'},\n",
       " {'label': 'Politics - Cameroon (#Cameroon)', 'value': '#Cameroon'},\n",
       " {'label': 'Politics - Canada (#Canada)', 'value': '#Canada'},\n",
       " {'label': 'Australia - Canberra (#Canberra)', 'value': '#Canberra'},\n",
       " {'label': 'Politics - Cayman Islands (#CaymanIslands)',\n",
       "  'value': '#CaymanIslands'},\n",
       " {'label': 'Politics - Chad (#Chad)', 'value': '#Chad'},\n",
       " {'label': 'EPL - Chelsea (#Chelsea OR #ChelseaFC #CFC)',\n",
       "  'value': '#Chelsea OR #ChelseaFC #CFC'},\n",
       " {'label': 'Chess - Chess (#chess OR #studychess)',\n",
       "  'value': '#chess OR #studychess'},\n",
       " {'label': 'NBA - ChicagoBulls (#ChicagoBulls)', 'value': '#ChicagoBulls'},\n",
       " {'label': 'Politics - Chile (#Chile)', 'value': '#Chile'},\n",
       " {'label': 'Politics - China (#China)', 'value': '#China'},\n",
       " {'label': 'Religion - Christian (#Christian OR #Christianity)',\n",
       "  'value': '#Christian OR #Christianity'},\n",
       " {'label': 'Politics - Christmas Island (#ChristmasIsland)',\n",
       "  'value': '#ChristmasIsland'},\n",
       " {'label': 'Politics - Colombia (#Colombia)', 'value': '#Colombia'},\n",
       " {'label': 'Politics - Congo (#Congo)', 'value': '#Congo'},\n",
       " {'label': 'World - Coronavirus (#COVID OR #Coronavirus OR #COVID19 OR #COVID-19)',\n",
       "  'value': '#COVID OR #Coronavirus OR #COVID19 OR #COVID-19'},\n",
       " {'label': 'Politics - Costa Rica (#CostaRica)', 'value': '#CostaRica'},\n",
       " {'label': 'Politics - Croatia (#Croatia)', 'value': '#Croatia'},\n",
       " {'label': 'EPL - CrystalPalace (#CrystalPalace OR #CPFC)',\n",
       "  'value': '#CrystalPalace OR #CPFC'},\n",
       " {'label': 'Politics - Cuba (#Cuba)', 'value': '#Cuba'},\n",
       " {'label': 'Politics - Cyprus (#Cyprus)', 'value': '#Cyprus'},\n",
       " {'label': 'Politics - Czech Republic (#CzechRepublic)',\n",
       "  'value': '#CzechRepublic'},\n",
       " {'label': 'NBA - DallasMavericks (#DallasMavericks)',\n",
       "  'value': '#DallasMavericks'},\n",
       " {'label': 'Religion - Dao (#Dao OR #Daoism OR #Tao OR #Taoism)',\n",
       "  'value': '#Dao OR #Daoism OR #Tao OR #Taoism'},\n",
       " {'label': 'Politics - Denmark (#Denmark)', 'value': '#Denmark'},\n",
       " {'label': 'NBA - DenverNuggets (#DenverNuggets)', 'value': '#DenverNuggets'},\n",
       " {'label': 'NBA - DetroitPistons (#DetroitPistons)',\n",
       "  'value': '#DetroitPistons'},\n",
       " {'label': 'Politics - Djibouti (#Djibouti)', 'value': '#Djibouti'},\n",
       " {'label': 'Politics - Dominican Republic (#DominicanRepublic)',\n",
       "  'value': '#DominicanRepublic'},\n",
       " {'label': 'FastFood - Dominos (#dominos)', 'value': '#dominos'},\n",
       " {'label': 'Leaders - DonaldTrump (#DonaldTrump OR #Trump)',\n",
       "  'value': '#DonaldTrump OR #Trump'},\n",
       " {'label': 'Esports - Dota2 (#Dota2)', 'value': '#Dota2'},\n",
       " {'label': 'Politics - Ecuador (#Ecuador)', 'value': '#Ecuador'},\n",
       " {'label': 'Politics - Egypt (#Egypt)', 'value': '#Egypt'},\n",
       " {'label': 'Politics - El Salvador (#ElSalvador)', 'value': '#ElSalvador'},\n",
       " {'label': 'RichList - ElonMusk (#ElonMusk)', 'value': '#ElonMusk'},\n",
       " {'label': 'Politics - Equatorial Guinea (#EquatorialGuinea)',\n",
       "  'value': '#EquatorialGuinea'},\n",
       " {'label': 'Politics - Eritrea (#Eritrea)', 'value': '#Eritrea'},\n",
       " {'label': 'Politics - Estonia (#Estonia)', 'value': '#Estonia'},\n",
       " {'label': 'Politics - Ethiopia (#Ethiopia)', 'value': '#Ethiopia'},\n",
       " {'label': 'EPL - Everton (#Everton OR #EFC)', 'value': '#Everton OR #EFC'},\n",
       " {'label': 'Politics - Fiji (#Fiji)', 'value': '#Fiji'},\n",
       " {'label': 'Politics - Finland (#Finland)', 'value': '#Finland'},\n",
       " {'label': 'Esports - Fortnite (#Fortnite)', 'value': '#Fortnite'},\n",
       " {'label': 'Politics - France (#France)', 'value': '#France'},\n",
       " {'label': 'Politics - Gabon (#Gabon)', 'value': '#Gabon'},\n",
       " {'label': 'Politics - Gambia (#Gambia)', 'value': '#Gambia'},\n",
       " {'label': 'Politics - Georgia (#Georgia)', 'value': '#Georgia'},\n",
       " {'label': 'Politics - Germany (#Germany)', 'value': '#Germany'},\n",
       " {'label': 'Politics - Ghana (#Ghana)', 'value': '#Ghana'},\n",
       " {'label': 'Politics - Gibraltar (#Gibraltar)', 'value': '#Gibraltar'},\n",
       " {'label': 'Australia - GoldCoast (#GoldCoast)', 'value': '#GoldCoast'},\n",
       " {'label': 'NBA - GoldenStateWarriors (#GoldenStateWarriors)',\n",
       "  'value': '#GoldenStateWarriors'},\n",
       " {'label': 'Technology - Google (#Google)', 'value': '#Google'},\n",
       " {'label': 'Politics - Greece (#Greek OR #Greece)',\n",
       "  'value': '#Greek OR #Greece'},\n",
       " {'label': 'Politics - Greenland (#Greenland)', 'value': '#Greenland'},\n",
       " {'label': 'Politics - Grenada (#Grenada)', 'value': '#Grenada'},\n",
       " {'label': 'Politics - Guadeloupe (#Guadeloupe)', 'value': '#Guadeloupe'},\n",
       " {'label': 'Politics - Guam (#Guam)', 'value': '#Guam'},\n",
       " {'label': 'Politics - Guatemala (#Guatemala)', 'value': '#Guatemala'},\n",
       " {'label': 'Politics - Guyana (#Guyana)', 'value': '#Guyana'},\n",
       " {'label': 'Politics - Haiti (#Haiti)', 'value': '#Haiti'},\n",
       " {'label': 'Religion - Hindu (#Hindu OR #Hinduism)',\n",
       "  'value': '#Hindu OR #Hinduism'},\n",
       " {'label': 'Politics - Honduras (#Honduras)', 'value': '#Honduras'},\n",
       " {'label': 'Politics - HongKong (#HongKong)', 'value': '#HongKong'},\n",
       " {'label': 'NBA - HoustonRockets (#HoustonRockets)',\n",
       "  'value': '#HoustonRockets'},\n",
       " {'label': 'Politics - Hungary (#Hungary)', 'value': '#Hungary'},\n",
       " {'label': 'Politics - Iceland (#Iceland)', 'value': '#Iceland'},\n",
       " {'label': 'Politics - India (#India OR #Indian)',\n",
       "  'value': '#India OR #Indian'},\n",
       " {'label': 'NBA - IndianaPacers (#IndianaPacers)', 'value': '#IndianaPacers'},\n",
       " {'label': 'Politics - Indonesia (#Indonesia)', 'value': '#Indonesia'},\n",
       " {'label': 'Politics - Iran (#Iran)', 'value': '#Iran'},\n",
       " {'label': 'Politics - Iraq (#Iraq)', 'value': '#Iraq'},\n",
       " {'label': 'Politics - Ireland (#Ireland)', 'value': '#Ireland'},\n",
       " {'label': 'Religion - Islam (#Islam)', 'value': '#Islam'},\n",
       " {'label': 'Politics - Isle of Man (#IsleofMan)', 'value': '#IsleofMan'},\n",
       " {'label': 'Politics - Israel (#Israel)', 'value': '#Israel'},\n",
       " {'label': 'Politics - Italy (#Italy)', 'value': '#Italy'},\n",
       " {'label': 'Politics - Ivory Coast (#IvoryCoast)', 'value': '#IvoryCoast'},\n",
       " {'label': 'RichList - JackMa (#JackMa)', 'value': '#JackMa'},\n",
       " {'label': 'Politics - Jamaica (#Jamaica)', 'value': '#Jamaica'},\n",
       " {'label': 'Politics - Japan (#Japan)', 'value': '#Japan'},\n",
       " {'label': 'RichList - JeffBezos (#JeffBezos)', 'value': '#JeffBezos'},\n",
       " {'label': 'Politics - Jersey (#Jersey)', 'value': '#Jersey'},\n",
       " {'label': 'Religion - Jewish (#Jewish)', 'value': '#Jewish'},\n",
       " {'label': 'Politics - Jordan (#Jordan)', 'value': '#Jordan'},\n",
       " {'label': 'FastFood - KFC (#KFC OR #KentuckyFriedChicken)',\n",
       "  'value': '#KFC OR #KentuckyFriedChicken'},\n",
       " {'label': 'Politics - Kazakhstan (#Kazakhstan)', 'value': '#Kazakhstan'},\n",
       " {'label': 'Tennis - KeiNishikori (#Nishikori OR #KeiNishikori)',\n",
       "  'value': '#Nishikori OR #KeiNishikori'},\n",
       " {'label': 'Politics - Kenya (#Kenya)', 'value': '#Kenya'},\n",
       " {'label': 'Politics - Kiribati (#Kiribati)', 'value': '#Kiribati'},\n",
       " {'label': 'Politics - Kuwait (#Kuwait)', 'value': '#Kuwait'},\n",
       " {'label': 'Politics - Kyrgyzstan (#Kyrgyzstan)', 'value': '#Kyrgyzstan'},\n",
       " {'label': 'Politics - Lao (#Lao)', 'value': '#Lao'},\n",
       " {'label': 'Politics - Latvia (#Latvia)', 'value': '#Latvia'},\n",
       " {'label': 'Esports - LeagueofLegends (#LeagueofLegends)',\n",
       "  'value': '#LeagueofLegends'},\n",
       " {'label': 'Politics - Lebanon (#Lebanon)', 'value': '#Lebanon'},\n",
       " {'label': 'EPL - LeicesterCity (#LeicesterCity OR #LCFC)',\n",
       "  'value': '#LeicesterCity OR #LCFC'},\n",
       " {'label': 'Politics - Lesotho (#Lesotho)', 'value': '#Lesotho'},\n",
       " {'label': 'Politics - Liberia (#Liberia)', 'value': '#Liberia'},\n",
       " {'label': 'Politics - Libya (#Libya)', 'value': '#Libya'},\n",
       " {'label': 'Politics - Liechtenstein (#Liechtenstein)',\n",
       "  'value': '#Liechtenstein'},\n",
       " {'label': 'Politics - Lithuania (#Lithuania)', 'value': '#Lithuania'},\n",
       " {'label': 'EPL - Liverpool (#liverpoolfc OR #YNWA OR #LFC)',\n",
       "  'value': '#liverpoolfc OR #YNWA OR #LFC'},\n",
       " {'label': 'NBA - LosAngelesClippers (#LosAngelesClippers)',\n",
       "  'value': '#LosAngelesClippers'},\n",
       " {'label': 'NBA - LosAngelesLakers (#LosAngelesLakers)',\n",
       "  'value': '#LosAngelesLakers'},\n",
       " {'label': 'Politics - Luxembourg (#Luxembourg)', 'value': '#Luxembourg'},\n",
       " {'label': 'Politics - Macao (#Macao)', 'value': '#Macao'},\n",
       " {'label': 'Politics - Madagascar (#Madagascar)', 'value': '#Madagascar'},\n",
       " {'label': 'Politics - Malawi (#Malawi)', 'value': '#Malawi'},\n",
       " {'label': 'Politics - Malaysia (#Malaysia)', 'value': '#Malaysia'},\n",
       " {'label': 'Politics - Maldives (#Maldives)', 'value': '#Maldives'},\n",
       " {'label': 'Politics - Mali (#Mali)', 'value': '#Mali'},\n",
       " {'label': 'Politics - Malta (#Malta)', 'value': '#Malta'},\n",
       " {'label': 'EPL - ManchesterCity (#ManchesterCity OR #ManCity OR #MCFC)',\n",
       "  'value': '#ManchesterCity OR #ManCity OR #MCFC'},\n",
       " {'label': 'EPL - ManchesterUnited (#ManchesterUnited OR #ManUnited OR #MUFC)',\n",
       "  'value': '#ManchesterUnited OR #ManUnited OR #MUFC'},\n",
       " {'label': 'RichList - MarkZuckerberg (#MarkZuckerberg)',\n",
       "  'value': '#MarkZuckerberg'},\n",
       " {'label': 'Politics - Marshall Islands (#MarshallIslands)',\n",
       "  'value': '#MarshallIslands'},\n",
       " {'label': 'Politics - Martinique (#Martinique)', 'value': '#Martinique'},\n",
       " {'label': 'Politics - Mauritania (#Mauritania)', 'value': '#Mauritania'},\n",
       " {'label': 'Politics - Mauritius (#Mauritius)', 'value': '#Mauritius'},\n",
       " {'label': 'Politics - Mayotte (#Mayotte)', 'value': '#Mayotte'},\n",
       " {'label': 'FastFood - Mcdonalds (#Maccas OR #Mcdonalds)',\n",
       "  'value': '#Maccas OR #Mcdonalds'},\n",
       " {'label': 'Australia - Melbourne (#Melbourne)', 'value': '#Melbourne'},\n",
       " {'label': 'NBA - MemphisGrizzlies (#MemphisGrizzlies)',\n",
       "  'value': '#MemphisGrizzlies'},\n",
       " {'label': 'Politics - Mexico (#Mexico)', 'value': '#Mexico'},\n",
       " {'label': 'NBA - MiamiHeat (#MiamiHeat)', 'value': '#MiamiHeat'},\n",
       " {'label': 'Technology - Microsoft (#Microsoft)', 'value': '#Microsoft'},\n",
       " {'label': 'NBA - MilwaukeeBucks (#MilwaukeeBucks)',\n",
       "  'value': '#MilwaukeeBucks'},\n",
       " {'label': 'Politics - Monaco (#Monaco)', 'value': '#Monaco'},\n",
       " {'label': 'Politics - Mongolia (#Mongolia)', 'value': '#Mongolia'},\n",
       " {'label': 'Politics - Montenegro (#Montenegro)', 'value': '#Montenegro'},\n",
       " {'label': 'Politics - Morocco (#Morocco)', 'value': '#Morocco'},\n",
       " {'label': 'Politics - Mozambique (#Mozambique)', 'value': '#Mozambique'},\n",
       " {'label': 'Religion - Muslim (#Muslim)', 'value': '#Muslim'},\n",
       " {'label': 'Politics - Myanmar (#Myanmar)', 'value': '#Myanmar'},\n",
       " {'label': 'Politics - Namibia (#Namibia)', 'value': '#Namibia'},\n",
       " {'label': 'FastFood - Nandos (#Nandos)', 'value': '#Nandos'},\n",
       " {'label': 'Politics - Nauru (#Nauru)', 'value': '#Nauru'},\n",
       " {'label': 'Politics - Nepal (#Nepal)', 'value': '#Nepal'},\n",
       " {'label': 'Technology - Netflix (#Netflix)', 'value': '#Netflix'},\n",
       " {'label': 'Politics - Netherlands (#Netherlands OR #Holland)',\n",
       "  'value': '#Netherlands OR #Holland'},\n",
       " {'label': 'Politics - New Caledonia (#NewCaledonia)',\n",
       "  'value': '#NewCaledonia'},\n",
       " {'label': 'NBA - NewOrleansPelicans (#NewOrleansPelicans)',\n",
       "  'value': '#NewOrleansPelicans'},\n",
       " {'label': 'NBA - NewYorkKnicks (#NewYorkKnicks)', 'value': '#NewYorkKnicks'},\n",
       " {'label': 'Politics - NewZealand (#NewZealand OR #NZ)',\n",
       "  'value': '#NewZealand OR #NZ'},\n",
       " {'label': 'Tennis - NickKyrgios (#Kyrgios OR #NickKyrgios)',\n",
       "  'value': '#Kyrgios OR #NickKyrgios'},\n",
       " {'label': 'Politics - Nigeria (#Nigeria)', 'value': '#Nigeria'},\n",
       " {'label': 'Fashion - Nike (#Nike)', 'value': '#Nike'},\n",
       " {'label': 'Politics - NorthKorea (#NorthKorea)', 'value': '#NorthKorea'},\n",
       " {'label': 'Politics - Norway (#Norway)', 'value': '#Norway'},\n",
       " {'label': 'Tennis - NovakDjokovic (#Djokovic OR #NovakDjokovic OR #Nole)',\n",
       "  'value': '#Djokovic OR #NovakDjokovic OR #Nole'},\n",
       " {'label': 'Technology - Nvidia (#Nvidia)', 'value': '#Nvidia'},\n",
       " {'label': 'NBA - OklahomaCityThunder (#OklahomaCityThunder)',\n",
       "  'value': '#OklahomaCityThunder'},\n",
       " {'label': 'Politics - Oman (#Oman)', 'value': '#Oman'},\n",
       " {'label': 'NBA - OrlandoMagic (#OrlandoMagic)', 'value': '#OrlandoMagic'},\n",
       " {'label': 'Esports - Overwatch (#Overwatch)', 'value': '#Overwatch'},\n",
       " {'label': 'Politics - Pakistan (#Pakistan)', 'value': '#Pakistan'},\n",
       " {'label': 'Politics - Palestine (#Palestine)', 'value': '#Palestine'},\n",
       " {'label': 'Politics - Panama (#Panama)', 'value': '#Panama'},\n",
       " {'label': 'Politics - Papua New Guinea (#PapuaNewGuinea)',\n",
       "  'value': '#PapuaNewGuinea'},\n",
       " {'label': 'Politics - Paraguay (#Paraguay)', 'value': '#Paraguay'},\n",
       " {'label': 'Australia - Perth (#Perth)', 'value': '#Perth'},\n",
       " {'label': 'Politics - Peru (#Peru)', 'value': '#Peru'},\n",
       " {'label': 'NBA - Philadelphia76ers (#Philadelphia76ers)',\n",
       "  'value': '#Philadelphia76ers'},\n",
       " {'label': 'Politics - Phillippines (#Phillippines)',\n",
       "  'value': '#Phillippines'},\n",
       " {'label': 'NBA - PhoenixSuns (#PhoenixSuns)', 'value': '#PhoenixSuns'},\n",
       " {'label': 'Politics - Pitcairn (#Pitcairn)', 'value': '#Pitcairn'},\n",
       " {'label': 'Politics - Poland (#Poland)', 'value': '#Poland'},\n",
       " {'label': 'FastFood - Popeyes (#popeyes)', 'value': '#popeyes'},\n",
       " {'label': 'NBA - PortlandTrailBlazers (#PortlandTrailBlazers)',\n",
       "  'value': '#PortlandTrailBlazers'},\n",
       " {'label': 'Politics - Portugal (#Portugal)', 'value': '#Portugal'},\n",
       " {'label': 'Politics - Puerto Rico (#PuertoRico)', 'value': '#PuertoRico'},\n",
       " {'label': 'Politics - Qatar (#Qatar)', 'value': '#Qatar'},\n",
       " {'label': 'Tennis - RafaelNadal (#Rafa OR #RafaelNadal OR #Nadal)',\n",
       "  'value': '#Rafa OR #RafaelNadal OR #Nadal'},\n",
       " {'label': 'Tennis - RogerFederer (#Federer OR #RogerFederer OR #FedExpress)',\n",
       "  'value': '#Federer OR #RogerFederer OR #FedExpress'},\n",
       " {'label': 'Politics - Romania (#Romania)', 'value': '#Romania'},\n",
       " {'label': 'Politics - Russia (#Russia)', 'value': '#Russia'},\n",
       " {'label': 'Politics - Rwanda (#Rwanda)', 'value': '#Rwanda'},\n",
       " {'label': 'NBA - SacramentoKings (#SacramentoKings)',\n",
       "  'value': '#SacramentoKings'},\n",
       " {'label': 'Politics - Samoa (#Samoa)', 'value': '#Samoa'},\n",
       " {'label': 'NBA - SanAntonioSpurs (#SanAntonioSpurs)',\n",
       "  'value': '#SanAntonioSpurs'},\n",
       " {'label': 'Politics - Saudi Arabia (#SaudiArabia)', 'value': '#SaudiArabia'},\n",
       " {'label': 'Politics - Senegal (#Senegal)', 'value': '#Senegal'},\n",
       " {'label': 'Politics - Serbia (#Serbia)', 'value': '#Serbia'},\n",
       " {'label': 'Politics - Seychelles (#Seychelles)', 'value': '#Seychelles'},\n",
       " {'label': 'Politics - Sierra Leone (#SierraLeone)', 'value': '#SierraLeone'},\n",
       " {'label': 'Politics - Singapore (#Singapore)', 'value': '#Singapore'},\n",
       " {'label': 'Politics - Slovakia (#Slovakia)', 'value': '#Slovakia'},\n",
       " {'label': 'Politics - Slovenia (#Slovenia)', 'value': '#Slovenia'},\n",
       " {'label': 'Politics - Solomon Islands (#SolomonIslands)',\n",
       "  'value': '#SolomonIslands'},\n",
       " {'label': 'Politics - Somalia (#Somalia)', 'value': '#Somalia'},\n",
       " {'label': 'Politics - SouthAfrica (#SouthAfrica)', 'value': '#SouthAfrica'},\n",
       " {'label': 'Politics - SouthKorea (#SouthKorea)', 'value': '#SouthKorea'},\n",
       " {'label': 'EPL - Southampton (#SouthamptonFC OR #Southampton)',\n",
       "  'value': '#SouthamptonFC OR #Southampton'},\n",
       " {'label': 'Politics - Spain (#Spain)', 'value': '#Spain'},\n",
       " {'label': 'Politics - Sri Lanka (#SriLanka)', 'value': '#SriLanka'},\n",
       " {'label': 'FastFood - Starbucks (#Starbucks)', 'value': '#Starbucks'},\n",
       " {'label': 'FastFood - Subway (#Subway)', 'value': '#Subway'},\n",
       " {'label': 'Politics - Sudan (#Sudan)', 'value': '#Sudan'},\n",
       " {'label': 'Politics - Sweden (#Sweden)', 'value': '#Sweden'},\n",
       " {'label': 'Politics - Switzerland (#Switzerland)', 'value': '#Switzerland'},\n",
       " {'label': 'Australia - Sydney (#Sydney)', 'value': '#Sydney'},\n",
       " {'label': 'Politics - Syria (#Syria)', 'value': '#Syria'},\n",
       " {'label': 'Politics - Taiwan (#Taiwan)', 'value': '#Taiwan'},\n",
       " {'label': 'Politics - Tajikistan (#Tajikistan)', 'value': '#Tajikistan'},\n",
       " {'label': 'Politics - Tanzania (#Tanzania)', 'value': '#Tanzania'},\n",
       " {'label': 'Technology - Tesla (#Tesla)', 'value': '#Tesla'},\n",
       " {'label': 'Politics - Thailand (#Thailand)', 'value': '#Thailand'},\n",
       " {'label': 'Politics - Togo (#Togo)', 'value': '#Togo'},\n",
       " {'label': 'Politics - Tonga (#Tonga)', 'value': '#Tonga'},\n",
       " {'label': 'NBA - TorontoRaptors (#TorontoRaptors)',\n",
       "  'value': '#TorontoRaptors'},\n",
       " {'label': 'EPL - TottenhamHotspur (#Tottenham OR #THFC OR #SPURS)',\n",
       "  'value': '#Tottenham OR #THFC OR #SPURS'},\n",
       " {'label': 'World - Travel (#Travel)', 'value': '#Travel'},\n",
       " {'label': 'Politics - Trinidad and Tobago (#TrinidadandTobago)',\n",
       "  'value': '#TrinidadandTobago'},\n",
       " {'label': 'Politics - Tunisia (#Tunisia)', 'value': '#Tunisia'},\n",
       " {'label': 'Politics - Turkey (#Turkey)', 'value': '#Turkey'},\n",
       " {'label': 'Politics - Turkmenistan (#Turkmenistan)',\n",
       "  'value': '#Turkmenistan'},\n",
       " {'label': 'Technology - Twitch (#Twitch)', 'value': '#Twitch'},\n",
       " {'label': 'Politics - USA (#USA OR #UnitedStates OR #UnitedStatesOfAmerica)',\n",
       "  'value': '#USA OR #UnitedStates OR #UnitedStatesOfAmerica'},\n",
       " {'label': 'Politics - Uganda (#Uganda)', 'value': '#Uganda'},\n",
       " {'label': 'Politics - Ukraine (#Ukraine)', 'value': '#Ukraine'},\n",
       " {'label': 'Fashion - Uniqlo (#Uniqlo)', 'value': '#Uniqlo'},\n",
       " {'label': 'Politics - United Arab Emirates (#UnitedArabEmirates)',\n",
       "  'value': '#UnitedArabEmirates'},\n",
       " {'label': 'Politics - UnitedKingdom (#UK OR #UnitedKingdom)',\n",
       "  'value': '#UK OR #UnitedKingdom'},\n",
       " {'label': 'Politics - Uruguay (#Uruguay)', 'value': '#Uruguay'},\n",
       " {'label': 'NBA - UtahJazz (#UtahJazz)', 'value': '#UtahJazz'},\n",
       " {'label': 'Politics - Uzbekistan (#Uzbekistan)', 'value': '#Uzbekistan'},\n",
       " {'label': 'Esports - Valorant (#Valorant)', 'value': '#Valorant'},\n",
       " {'label': 'Politics - Vanuatu (#Vanuatu)', 'value': '#Vanuatu'},\n",
       " {'label': 'Politics - Venezuela (#Venezuela)', 'value': '#Venezuela'},\n",
       " {'label': 'Politics - Vietnam (#Vietnam)', 'value': '#Vietnam'},\n",
       " {'label': 'RichList - WarrenBuffett (#WarrenBuffett)',\n",
       "  'value': '#WarrenBuffett'},\n",
       " {'label': 'Politics - Yemen (#Yemen)', 'value': '#Yemen'},\n",
       " {'label': 'Technology - Youtube (#Youtube)', 'value': '#Youtube'},\n",
       " {'label': 'Politics - Zambia (#Zambia)', 'value': '#Zambia'},\n",
       " {'label': 'Fashion - Zara (#Zara)', 'value': '#Zara'},\n",
       " {'label': 'Politics - Zimbabwe (#Zimbabwe)', 'value': '#Zimbabwe'},\n",
       " {'label': 'Pets - cats (#Cats)', 'value': '#Cats'},\n",
       " {'label': 'Pets - dogs (#Dogs OR #Doggo)', 'value': '#Dogs OR #Doggo'},\n",
       " {'label': 'NBA - CharlotteHornets (#CharlotteHornets)',\n",
       "  'value': '#CharlotteHornets'},\n",
       " {'label': 'NBA - ClevelandCavaliers (#ClevelandCavaliers)',\n",
       "  'value': '#ClevelandCavaliers'},\n",
       " {'label': 'Chess - HikaruNakamura (#GMHikaru OR #HikaruNakamura)',\n",
       "  'value': '#GMHikaru OR #HikaruNakamura'},\n",
       " {'label': 'NBA - MinnesotaTimberwolves (#MinnesotaTimberwolves)',\n",
       "  'value': '#MinnesotaTimberwolves'},\n",
       " {'label': 'Universities - ANU (#ANU)', 'value': '#ANU'},\n",
       " {'label': 'Politics - Australia (#Australia OR #Aussie OR #STRAYA)',\n",
       "  'value': '#Australia OR #Aussie OR #STRAYA'},\n",
       " {'label': 'Universities - Berkeley (#Berkeley)', 'value': '#Berkeley'},\n",
       " {'label': 'Universities - Cambridge (#Cambridge)', 'value': '#Cambridge'},\n",
       " {'label': 'Politics - China (#China OR #Chinese)',\n",
       "  'value': '#China OR #Chinese'},\n",
       " {'label': 'Universities - DeakinUniversity (#DeakinUniversity)',\n",
       "  'value': '#DeakinUniversity'},\n",
       " {'label': 'Politics - DonaldTrump (#DonaldTrump OR #Trump)',\n",
       "  'value': '#DonaldTrump OR #Trump'},\n",
       " {'label': 'Universities - Harvard (#Harvard)', 'value': '#Harvard'},\n",
       " {'label': 'Politics - HongKong (#HongKong OR #Hong Kong)',\n",
       "  'value': '#HongKong OR #Hong Kong'},\n",
       " {'label': 'Universities - MIT (#MIT)', 'value': '#MIT'},\n",
       " {'label': 'Universities - MonashUniversity (#MonashUni OR #MonashUniversity)',\n",
       "  'value': '#MonashUni OR #MonashUniversity'},\n",
       " {'label': 'Universities - NUS (#NUS)', 'value': '#NUS'},\n",
       " {'label': 'Politics - Philippines (#Philippines)', 'value': '#Philippines'},\n",
       " {'label': 'Universities - Princeton (#Princeton)', 'value': '#Princeton'},\n",
       " {'label': 'Universities - RMIT (#RMIT)', 'value': '#RMIT'},\n",
       " {'label': 'Politics - SouthKorea (#SouthKorea OR #Korea OR #Korean)',\n",
       "  'value': '#SouthKorea OR #Korea OR #Korean'},\n",
       " {'label': 'Universities - Stanford (#Stanford)', 'value': '#Stanford'},\n",
       " {'label': 'Universities - UCL (#UCL)', 'value': '#UCL'},\n",
       " {'label': 'Universities - UCLA (#UCLA)', 'value': '#UCLA'},\n",
       " {'label': 'Universities - UCSD (#UCSD)', 'value': '#UCSD'},\n",
       " {'label': 'Politics - USA (#USA OR #America OR #UnitedStates OR #UnitedStatesOfAmerica)',\n",
       "  'value': '#USA OR #America OR #UnitedStates OR #UnitedStatesOfAmerica'},\n",
       " {'label': 'Universities - UniversityOfBritishColumbia (#UBC OR #UniversityOfBritishColumbia)',\n",
       "  'value': '#UBC OR #UniversityOfBritishColumbia'},\n",
       " {'label': 'Universities - UniversityOfMelbourne (#Unimelb OR #UniversityOfMelbourne)',\n",
       "  'value': '#Unimelb OR #UniversityOfMelbourne'},\n",
       " {'label': 'Universities - UniversityOfSydney (#Usyd OR #UniversityOfSydney)',\n",
       "  'value': '#Usyd OR #UniversityOfSydney'},\n",
       " {'label': 'Universities - Caltech (#Caltech)', 'value': '#Caltech'},\n",
       " {'label': 'Universities - ColumbiaUniversity (#ColumbiaUniversity)',\n",
       "  'value': '#ColumbiaUniversity'},\n",
       " {'label': 'Universities - HKUST (#HKUST)', 'value': '#HKUST'},\n",
       " {'label': 'Universities - KingsCollege (#KingsCollege)',\n",
       "  'value': '#KingsCollege'},\n",
       " {'label': 'Universities - UniversityOfHongKong (#HKU OR #UniversityOfHongKong)',\n",
       "  'value': '#HKU OR #UniversityOfHongKong'},\n",
       " {'label': 'Universities - OxfordUni (#OxfordUni)', 'value': '#OxfordUni'}]"
      ]
     },
     "execution_count": 29,
     "metadata": {},
     "output_type": "execute_result"
    }
   ],
   "source": [
    "df_unique_query=df[['partition_1','partition_0','search_query']].drop_duplicates()\n",
    "multiselect_options=[]\n",
    "for index,row in df_unique_query.iterrows():\n",
    "    label_string=row['partition_0'] + ' - ' + row['partition_1'] + ' (' + row['search_query'] + ')'\n",
    "    multiselect_options.append({'label':label_string, 'value': row['search_query']})\n",
    "multiselect_options"
   ]
  },
  {
   "cell_type": "code",
   "execution_count": 61,
   "metadata": {},
   "outputs": [],
   "source": [
    "partition_1_options=[]\n",
    "for i in df[['partition_1','search_query']].unique():\n",
    "    partition_1_options.append({'label': i, 'value': i})"
   ]
  },
  {
   "cell_type": "code",
   "execution_count": 62,
   "metadata": {},
   "outputs": [
    {
     "data": {
      "text/plain": [
       "[{'label': 'AFC Bournemouth', 'value': 'AFC Bournemouth'},\n",
       " {'label': 'AMD', 'value': 'AMD'},\n",
       " {'label': 'Adelaide', 'value': 'Adelaide'},\n",
       " {'label': 'Adidas', 'value': 'Adidas'},\n",
       " {'label': 'Afghanistan', 'value': 'Afghanistan'},\n",
       " {'label': 'Albania', 'value': 'Albania'},\n",
       " {'label': 'Algeria', 'value': 'Algeria'},\n",
       " {'label': 'Amazon', 'value': 'Amazon'},\n",
       " {'label': 'Andorra', 'value': 'Andorra'},\n",
       " {'label': 'AndyMurray', 'value': 'AndyMurray'},\n",
       " {'label': 'Angola', 'value': 'Angola'},\n",
       " {'label': 'Anguilla', 'value': 'Anguilla'},\n",
       " {'label': 'Antarctica', 'value': 'Antarctica'},\n",
       " {'label': 'Apple', 'value': 'Apple'},\n",
       " {'label': 'Argentina', 'value': 'Argentina'},\n",
       " {'label': 'Armenia', 'value': 'Armenia'},\n",
       " {'label': 'Arsenal', 'value': 'Arsenal'},\n",
       " {'label': 'Atheist', 'value': 'Atheist'},\n",
       " {'label': 'AtlantaHawks', 'value': 'AtlantaHawks'},\n",
       " {'label': 'Australia', 'value': 'Australia'},\n",
       " {'label': 'Austria', 'value': 'Austria'},\n",
       " {'label': 'Azerbaijan', 'value': 'Azerbaijan'},\n",
       " {'label': 'Bahamas', 'value': 'Bahamas'},\n",
       " {'label': 'Bahrain', 'value': 'Bahrain'},\n",
       " {'label': 'Bangladesh', 'value': 'Bangladesh'},\n",
       " {'label': 'Barbados', 'value': 'Barbados'},\n",
       " {'label': 'Belarus', 'value': 'Belarus'},\n",
       " {'label': 'Belgium', 'value': 'Belgium'},\n",
       " {'label': 'Belize', 'value': 'Belize'},\n",
       " {'label': 'Benin', 'value': 'Benin'},\n",
       " {'label': 'Bermuda', 'value': 'Bermuda'},\n",
       " {'label': 'Bhutan', 'value': 'Bhutan'},\n",
       " {'label': 'BillGates', 'value': 'BillGates'},\n",
       " {'label': 'Bolivia', 'value': 'Bolivia'},\n",
       " {'label': 'Bosnia', 'value': 'Bosnia'},\n",
       " {'label': 'BostonCeltics', 'value': 'BostonCeltics'},\n",
       " {'label': 'Botswana', 'value': 'Botswana'},\n",
       " {'label': 'Brazil', 'value': 'Brazil'},\n",
       " {'label': 'Brisbane', 'value': 'Brisbane'},\n",
       " {'label': 'BrooklynNets', 'value': 'BrooklynNets'},\n",
       " {'label': 'BubbleTea', 'value': 'BubbleTea'},\n",
       " {'label': 'Buddhism', 'value': 'Buddhism'},\n",
       " {'label': 'Bulgaria', 'value': 'Bulgaria'},\n",
       " {'label': 'Burnley', 'value': 'Burnley'},\n",
       " {'label': 'CSGO', 'value': 'CSGO'},\n",
       " {'label': 'Cambodia', 'value': 'Cambodia'},\n",
       " {'label': 'Cameroon', 'value': 'Cameroon'},\n",
       " {'label': 'Canada', 'value': 'Canada'},\n",
       " {'label': 'Canberra', 'value': 'Canberra'},\n",
       " {'label': 'Cayman Islands', 'value': 'Cayman Islands'},\n",
       " {'label': 'Chad', 'value': 'Chad'},\n",
       " {'label': 'CharlotteHornets', 'value': 'CharlotteHornets'},\n",
       " {'label': 'Chelsea', 'value': 'Chelsea'},\n",
       " {'label': 'Chess', 'value': 'Chess'},\n",
       " {'label': 'ChicagoBulls', 'value': 'ChicagoBulls'},\n",
       " {'label': 'Chile', 'value': 'Chile'},\n",
       " {'label': 'China', 'value': 'China'},\n",
       " {'label': 'Christian', 'value': 'Christian'},\n",
       " {'label': 'Christmas Island', 'value': 'Christmas Island'},\n",
       " {'label': 'Colombia', 'value': 'Colombia'},\n",
       " {'label': 'Congo', 'value': 'Congo'},\n",
       " {'label': 'Coronavirus', 'value': 'Coronavirus'},\n",
       " {'label': 'Costa Rica', 'value': 'Costa Rica'},\n",
       " {'label': 'Croatia', 'value': 'Croatia'},\n",
       " {'label': 'CrystalPalace', 'value': 'CrystalPalace'},\n",
       " {'label': 'Cuba', 'value': 'Cuba'},\n",
       " {'label': 'Cyprus', 'value': 'Cyprus'},\n",
       " {'label': 'Czech Republic', 'value': 'Czech Republic'},\n",
       " {'label': 'DallasMavericks', 'value': 'DallasMavericks'},\n",
       " {'label': 'Dao', 'value': 'Dao'},\n",
       " {'label': 'Denmark', 'value': 'Denmark'},\n",
       " {'label': 'DenverNuggets', 'value': 'DenverNuggets'},\n",
       " {'label': 'DetroitPistons', 'value': 'DetroitPistons'},\n",
       " {'label': 'Djibouti', 'value': 'Djibouti'},\n",
       " {'label': 'Dominican Republic', 'value': 'Dominican Republic'},\n",
       " {'label': 'Dominos', 'value': 'Dominos'},\n",
       " {'label': 'DonaldTrump', 'value': 'DonaldTrump'},\n",
       " {'label': 'Dota2', 'value': 'Dota2'},\n",
       " {'label': 'Ecuador', 'value': 'Ecuador'},\n",
       " {'label': 'Egypt', 'value': 'Egypt'},\n",
       " {'label': 'El Salvador', 'value': 'El Salvador'},\n",
       " {'label': 'ElonMusk', 'value': 'ElonMusk'},\n",
       " {'label': 'Equatorial Guinea', 'value': 'Equatorial Guinea'},\n",
       " {'label': 'Eritrea', 'value': 'Eritrea'},\n",
       " {'label': 'Estonia', 'value': 'Estonia'},\n",
       " {'label': 'Ethiopia', 'value': 'Ethiopia'},\n",
       " {'label': 'Everton', 'value': 'Everton'},\n",
       " {'label': 'Fiji', 'value': 'Fiji'},\n",
       " {'label': 'Finland', 'value': 'Finland'},\n",
       " {'label': 'Fortnite', 'value': 'Fortnite'},\n",
       " {'label': 'France', 'value': 'France'},\n",
       " {'label': 'Gabon', 'value': 'Gabon'},\n",
       " {'label': 'Gambia', 'value': 'Gambia'},\n",
       " {'label': 'Georgia', 'value': 'Georgia'},\n",
       " {'label': 'Germany', 'value': 'Germany'},\n",
       " {'label': 'Ghana', 'value': 'Ghana'},\n",
       " {'label': 'Gibraltar', 'value': 'Gibraltar'},\n",
       " {'label': 'GoldCoast', 'value': 'GoldCoast'},\n",
       " {'label': 'GoldenStateWarriors', 'value': 'GoldenStateWarriors'},\n",
       " {'label': 'Google', 'value': 'Google'},\n",
       " {'label': 'Greece', 'value': 'Greece'},\n",
       " {'label': 'Greenland', 'value': 'Greenland'},\n",
       " {'label': 'Grenada', 'value': 'Grenada'},\n",
       " {'label': 'Guadeloupe', 'value': 'Guadeloupe'},\n",
       " {'label': 'Guam', 'value': 'Guam'},\n",
       " {'label': 'Guatemala', 'value': 'Guatemala'},\n",
       " {'label': 'Guyana', 'value': 'Guyana'},\n",
       " {'label': 'Haiti', 'value': 'Haiti'},\n",
       " {'label': 'HikaruNakamura', 'value': 'HikaruNakamura'},\n",
       " {'label': 'Hindu', 'value': 'Hindu'},\n",
       " {'label': 'Honduras', 'value': 'Honduras'},\n",
       " {'label': 'HongKong', 'value': 'HongKong'},\n",
       " {'label': 'HoustonRockets', 'value': 'HoustonRockets'},\n",
       " {'label': 'Hungary', 'value': 'Hungary'},\n",
       " {'label': 'Iceland', 'value': 'Iceland'},\n",
       " {'label': 'India', 'value': 'India'},\n",
       " {'label': 'IndianaPacers', 'value': 'IndianaPacers'},\n",
       " {'label': 'Indonesia', 'value': 'Indonesia'},\n",
       " {'label': 'Iran', 'value': 'Iran'},\n",
       " {'label': 'Iraq', 'value': 'Iraq'},\n",
       " {'label': 'Ireland', 'value': 'Ireland'},\n",
       " {'label': 'Islam', 'value': 'Islam'},\n",
       " {'label': 'Isle of Man', 'value': 'Isle of Man'},\n",
       " {'label': 'Israel', 'value': 'Israel'},\n",
       " {'label': 'Italy', 'value': 'Italy'},\n",
       " {'label': 'Ivory Coast', 'value': 'Ivory Coast'},\n",
       " {'label': 'JackMa', 'value': 'JackMa'},\n",
       " {'label': 'Jamaica', 'value': 'Jamaica'},\n",
       " {'label': 'Japan', 'value': 'Japan'},\n",
       " {'label': 'JeffBezos', 'value': 'JeffBezos'},\n",
       " {'label': 'Jersey', 'value': 'Jersey'},\n",
       " {'label': 'Jewish', 'value': 'Jewish'},\n",
       " {'label': 'Jordan', 'value': 'Jordan'},\n",
       " {'label': 'KFC', 'value': 'KFC'},\n",
       " {'label': 'Kazakhstan', 'value': 'Kazakhstan'},\n",
       " {'label': 'Kenya', 'value': 'Kenya'},\n",
       " {'label': 'Kiribati', 'value': 'Kiribati'},\n",
       " {'label': 'Kuwait', 'value': 'Kuwait'},\n",
       " {'label': 'Kyrgyzstan', 'value': 'Kyrgyzstan'},\n",
       " {'label': 'Lao', 'value': 'Lao'},\n",
       " {'label': 'Latvia', 'value': 'Latvia'},\n",
       " {'label': 'ClevelandCavaliers', 'value': 'ClevelandCavaliers'},\n",
       " {'label': 'ANU', 'value': 'ANU'},\n",
       " {'label': 'Berkeley', 'value': 'Berkeley'},\n",
       " {'label': 'Caltech', 'value': 'Caltech'},\n",
       " {'label': 'Cambridge', 'value': 'Cambridge'},\n",
       " {'label': 'ColumbiaUniversity', 'value': 'ColumbiaUniversity'},\n",
       " {'label': 'HKUST', 'value': 'HKUST'},\n",
       " {'label': 'Harvard', 'value': 'Harvard'},\n",
       " {'label': 'KeiNishikori', 'value': 'KeiNishikori'},\n",
       " {'label': 'LeagueofLegends', 'value': 'LeagueofLegends'},\n",
       " {'label': 'Lebanon', 'value': 'Lebanon'},\n",
       " {'label': 'LeicesterCity', 'value': 'LeicesterCity'},\n",
       " {'label': 'Lesotho', 'value': 'Lesotho'},\n",
       " {'label': 'Liberia', 'value': 'Liberia'},\n",
       " {'label': 'Liechtenstein', 'value': 'Liechtenstein'},\n",
       " {'label': 'Lithuania', 'value': 'Lithuania'},\n",
       " {'label': 'Liverpool', 'value': 'Liverpool'},\n",
       " {'label': 'LosAngelesClippers', 'value': 'LosAngelesClippers'},\n",
       " {'label': 'LosAngelesLakers', 'value': 'LosAngelesLakers'},\n",
       " {'label': 'Luxembourg', 'value': 'Luxembourg'},\n",
       " {'label': 'MIT', 'value': 'MIT'},\n",
       " {'label': 'Macao', 'value': 'Macao'},\n",
       " {'label': 'Madagascar', 'value': 'Madagascar'},\n",
       " {'label': 'Malaysia', 'value': 'Malaysia'},\n",
       " {'label': 'ManchesterCity', 'value': 'ManchesterCity'},\n",
       " {'label': 'ManchesterUnited', 'value': 'ManchesterUnited'},\n",
       " {'label': 'MarkZuckerberg', 'value': 'MarkZuckerberg'},\n",
       " {'label': 'Marshall Islands', 'value': 'Marshall Islands'},\n",
       " {'label': 'Martinique', 'value': 'Martinique'},\n",
       " {'label': 'Mauritania', 'value': 'Mauritania'},\n",
       " {'label': 'Mauritius', 'value': 'Mauritius'},\n",
       " {'label': 'Mayotte', 'value': 'Mayotte'},\n",
       " {'label': 'Mcdonalds', 'value': 'Mcdonalds'},\n",
       " {'label': 'Melbourne', 'value': 'Melbourne'},\n",
       " {'label': 'MemphisGrizzlies', 'value': 'MemphisGrizzlies'},\n",
       " {'label': 'Mexico', 'value': 'Mexico'},\n",
       " {'label': 'MiamiHeat', 'value': 'MiamiHeat'},\n",
       " {'label': 'Microsoft', 'value': 'Microsoft'},\n",
       " {'label': 'MilwaukeeBucks', 'value': 'MilwaukeeBucks'},\n",
       " {'label': 'MinnesotaTimberwolves', 'value': 'MinnesotaTimberwolves'},\n",
       " {'label': 'MonashUniversity', 'value': 'MonashUniversity'},\n",
       " {'label': 'Mongolia', 'value': 'Mongolia'},\n",
       " {'label': 'Montenegro', 'value': 'Montenegro'},\n",
       " {'label': 'Morocco', 'value': 'Morocco'},\n",
       " {'label': 'Mozambique', 'value': 'Mozambique'},\n",
       " {'label': 'Muslim', 'value': 'Muslim'},\n",
       " {'label': 'NUS', 'value': 'NUS'},\n",
       " {'label': 'Namibia', 'value': 'Namibia'},\n",
       " {'label': 'Nandos', 'value': 'Nandos'},\n",
       " {'label': 'Nauru', 'value': 'Nauru'},\n",
       " {'label': 'Nepal', 'value': 'Nepal'},\n",
       " {'label': 'Netflix', 'value': 'Netflix'},\n",
       " {'label': 'Netherlands', 'value': 'Netherlands'},\n",
       " {'label': 'New Caledonia', 'value': 'New Caledonia'},\n",
       " {'label': 'NewOrleansPelicans', 'value': 'NewOrleansPelicans'},\n",
       " {'label': 'NewYorkKnicks', 'value': 'NewYorkKnicks'},\n",
       " {'label': 'NewZealand', 'value': 'NewZealand'},\n",
       " {'label': 'NickKyrgios', 'value': 'NickKyrgios'},\n",
       " {'label': 'Nigeria', 'value': 'Nigeria'},\n",
       " {'label': 'Nike', 'value': 'Nike'},\n",
       " {'label': 'NorthKorea', 'value': 'NorthKorea'},\n",
       " {'label': 'Norway', 'value': 'Norway'},\n",
       " {'label': 'NovakDjokovic', 'value': 'NovakDjokovic'},\n",
       " {'label': 'Nvidia', 'value': 'Nvidia'},\n",
       " {'label': 'OklahomaCityThunder', 'value': 'OklahomaCityThunder'},\n",
       " {'label': 'OrlandoMagic', 'value': 'OrlandoMagic'},\n",
       " {'label': 'Overwatch', 'value': 'Overwatch'},\n",
       " {'label': 'OxfordUni', 'value': 'OxfordUni'},\n",
       " {'label': 'Pakistan', 'value': 'Pakistan'},\n",
       " {'label': 'Papua New Guinea', 'value': 'Papua New Guinea'},\n",
       " {'label': 'Paraguay', 'value': 'Paraguay'},\n",
       " {'label': 'Perth', 'value': 'Perth'},\n",
       " {'label': 'Peru', 'value': 'Peru'},\n",
       " {'label': 'Philadelphia76ers', 'value': 'Philadelphia76ers'},\n",
       " {'label': 'Philippines', 'value': 'Philippines'},\n",
       " {'label': 'PhoenixSuns', 'value': 'PhoenixSuns'},\n",
       " {'label': 'Pitcairn', 'value': 'Pitcairn'},\n",
       " {'label': 'Poland', 'value': 'Poland'},\n",
       " {'label': 'Popeyes', 'value': 'Popeyes'},\n",
       " {'label': 'PortlandTrailBlazers', 'value': 'PortlandTrailBlazers'},\n",
       " {'label': 'Princeton', 'value': 'Princeton'},\n",
       " {'label': 'Puerto Rico', 'value': 'Puerto Rico'},\n",
       " {'label': 'RMIT', 'value': 'RMIT'},\n",
       " {'label': 'RafaelNadal', 'value': 'RafaelNadal'},\n",
       " {'label': 'RogerFederer', 'value': 'RogerFederer'},\n",
       " {'label': 'Russia', 'value': 'Russia'},\n",
       " {'label': 'SacramentoKings', 'value': 'SacramentoKings'},\n",
       " {'label': 'Samoa', 'value': 'Samoa'},\n",
       " {'label': 'SanAntonioSpurs', 'value': 'SanAntonioSpurs'},\n",
       " {'label': 'Saudi Arabia', 'value': 'Saudi Arabia'},\n",
       " {'label': 'Senegal', 'value': 'Senegal'},\n",
       " {'label': 'Serbia', 'value': 'Serbia'},\n",
       " {'label': 'Seychelles', 'value': 'Seychelles'},\n",
       " {'label': 'Sierra Leone', 'value': 'Sierra Leone'},\n",
       " {'label': 'Singapore', 'value': 'Singapore'},\n",
       " {'label': 'Solomon Islands', 'value': 'Solomon Islands'},\n",
       " {'label': 'Somalia', 'value': 'Somalia'},\n",
       " {'label': 'SouthAfrica', 'value': 'SouthAfrica'},\n",
       " {'label': 'SouthKorea', 'value': 'SouthKorea'},\n",
       " {'label': 'Southampton', 'value': 'Southampton'},\n",
       " {'label': 'Spain', 'value': 'Spain'},\n",
       " {'label': 'Sri Lanka', 'value': 'Sri Lanka'},\n",
       " {'label': 'Stanford', 'value': 'Stanford'},\n",
       " {'label': 'Starbucks', 'value': 'Starbucks'},\n",
       " {'label': 'Subway', 'value': 'Subway'},\n",
       " {'label': 'Sudan', 'value': 'Sudan'},\n",
       " {'label': 'Sweden', 'value': 'Sweden'},\n",
       " {'label': 'Switzerland', 'value': 'Switzerland'},\n",
       " {'label': 'Sydney', 'value': 'Sydney'},\n",
       " {'label': 'Syria', 'value': 'Syria'},\n",
       " {'label': 'Taiwan', 'value': 'Taiwan'},\n",
       " {'label': 'Tajikistan', 'value': 'Tajikistan'},\n",
       " {'label': 'Tanzania', 'value': 'Tanzania'},\n",
       " {'label': 'Tesla', 'value': 'Tesla'},\n",
       " {'label': 'Thailand', 'value': 'Thailand'},\n",
       " {'label': 'Togo', 'value': 'Togo'},\n",
       " {'label': 'TorontoRaptors', 'value': 'TorontoRaptors'},\n",
       " {'label': 'TottenhamHotspur', 'value': 'TottenhamHotspur'},\n",
       " {'label': 'Travel', 'value': 'Travel'},\n",
       " {'label': 'Trinidad and Tobago', 'value': 'Trinidad and Tobago'},\n",
       " {'label': 'Turkey', 'value': 'Turkey'},\n",
       " {'label': 'Turkmenistan', 'value': 'Turkmenistan'},\n",
       " {'label': 'Twitch', 'value': 'Twitch'},\n",
       " {'label': 'UCL', 'value': 'UCL'},\n",
       " {'label': 'UCLA', 'value': 'UCLA'},\n",
       " {'label': 'UCSD', 'value': 'UCSD'},\n",
       " {'label': 'USA', 'value': 'USA'},\n",
       " {'label': 'Uganda', 'value': 'Uganda'},\n",
       " {'label': 'Ukraine', 'value': 'Ukraine'},\n",
       " {'label': 'Uniqlo', 'value': 'Uniqlo'},\n",
       " {'label': 'United Arab Emirates', 'value': 'United Arab Emirates'},\n",
       " {'label': 'UnitedKingdom', 'value': 'UnitedKingdom'},\n",
       " {'label': 'UniversityOfBritishColumbia',\n",
       "  'value': 'UniversityOfBritishColumbia'},\n",
       " {'label': 'UniversityOfHongKong', 'value': 'UniversityOfHongKong'},\n",
       " {'label': 'UniversityOfMelbourne', 'value': 'UniversityOfMelbourne'},\n",
       " {'label': 'Uruguay', 'value': 'Uruguay'},\n",
       " {'label': 'UtahJazz', 'value': 'UtahJazz'},\n",
       " {'label': 'Uzbekistan', 'value': 'Uzbekistan'},\n",
       " {'label': 'Valorant', 'value': 'Valorant'},\n",
       " {'label': 'Vanuatu', 'value': 'Vanuatu'},\n",
       " {'label': 'Venezuela', 'value': 'Venezuela'},\n",
       " {'label': 'Vietnam', 'value': 'Vietnam'},\n",
       " {'label': 'WarrenBuffett', 'value': 'WarrenBuffett'},\n",
       " {'label': 'Youtube', 'value': 'Youtube'},\n",
       " {'label': 'Zambia', 'value': 'Zambia'},\n",
       " {'label': 'Zara', 'value': 'Zara'},\n",
       " {'label': 'Zimbabwe', 'value': 'Zimbabwe'},\n",
       " {'label': 'cats', 'value': 'cats'},\n",
       " {'label': 'dogs', 'value': 'dogs'},\n",
       " {'label': 'Libya', 'value': 'Libya'},\n",
       " {'label': 'Malawi', 'value': 'Malawi'},\n",
       " {'label': 'Maldives', 'value': 'Maldives'},\n",
       " {'label': 'Mali', 'value': 'Mali'},\n",
       " {'label': 'Malta', 'value': 'Malta'},\n",
       " {'label': 'Monaco', 'value': 'Monaco'},\n",
       " {'label': 'Myanmar', 'value': 'Myanmar'},\n",
       " {'label': 'Oman', 'value': 'Oman'},\n",
       " {'label': 'Palestine', 'value': 'Palestine'},\n",
       " {'label': 'Panama', 'value': 'Panama'},\n",
       " {'label': 'Phillippines', 'value': 'Phillippines'},\n",
       " {'label': 'Portugal', 'value': 'Portugal'},\n",
       " {'label': 'Qatar', 'value': 'Qatar'},\n",
       " {'label': 'Romania', 'value': 'Romania'},\n",
       " {'label': 'Rwanda', 'value': 'Rwanda'},\n",
       " {'label': 'Slovakia', 'value': 'Slovakia'},\n",
       " {'label': 'Slovenia', 'value': 'Slovenia'},\n",
       " {'label': 'Tonga', 'value': 'Tonga'},\n",
       " {'label': 'Tunisia', 'value': 'Tunisia'},\n",
       " {'label': 'Yemen', 'value': 'Yemen'},\n",
       " {'label': 'DeakinUniversity', 'value': 'DeakinUniversity'},\n",
       " {'label': 'KingsCollege', 'value': 'KingsCollege'},\n",
       " {'label': 'UniversityOfSydney', 'value': 'UniversityOfSydney'}]"
      ]
     },
     "execution_count": 62,
     "metadata": {},
     "output_type": "execute_result"
    }
   ],
   "source": [
    "partition_1_options"
   ]
  },
  {
   "cell_type": "markdown",
   "metadata": {},
   "source": [
    "## Let's try the top tweets"
   ]
  },
  {
   "cell_type": "code",
   "execution_count": null,
   "metadata": {},
   "outputs": [],
   "source": []
  },
  {
   "cell_type": "markdown",
   "metadata": {},
   "source": [
    "## Ingest files"
   ]
  },
  {
   "cell_type": "code",
   "execution_count": 3,
   "metadata": {},
   "outputs": [],
   "source": [
    "with open(\"C:/Users/William Jiang/Documents/credentials.json\") as f:\n",
    "    d = json.load(f)\n",
    "    cred_json=d[\"twitter_api\"]\n",
    "    s3_cred_json=d[\"s3-access\"]\n",
    "##auth using s3fs\n",
    "fs = s3fs.S3FileSystem(anon=False, key=s3_cred_json['ACCESS_KEY_ID'], secret=s3_cred_json['SECRET_ACCESS_KEY'])"
   ]
  },
  {
   "cell_type": "code",
   "execution_count": 11,
   "metadata": {},
   "outputs": [
    {
     "data": {
      "text/plain": [
       "[]"
      ]
     },
     "execution_count": 11,
     "metadata": {},
     "output_type": "execute_result"
    }
   ],
   "source": [
    "##generate list of files in folder 'data':\n",
    "file_exist_arr=[]\n",
    "for file in os.listdir('data'):\n",
    "    file_exist_arr.append(file)\n",
    "file_exist_arr"
   ]
  },
  {
   "cell_type": "code",
   "execution_count": 13,
   "metadata": {},
   "outputs": [],
   "source": [
    "for file1 in fs.listdir('aggregatedresultsforapp'):\n",
    "    file_name=file1['Key'].split('/')[-1]\n",
    "    read_file_path=file1['Key']\n",
    "    if file_name not in file_exist_arr:\n",
    "        write_file_path='data/' + file_name\n",
    "#         read_file_path='s3://aggregatedresultsforapp/' + file_name\n",
    "        fs.download(read_file_path,write_file_path)"
   ]
  },
  {
   "cell_type": "code",
   "execution_count": 21,
   "metadata": {},
   "outputs": [
    {
     "data": {
      "text/html": [
       "<div>\n",
       "<style scoped>\n",
       "    .dataframe tbody tr th:only-of-type {\n",
       "        vertical-align: middle;\n",
       "    }\n",
       "\n",
       "    .dataframe tbody tr th {\n",
       "        vertical-align: top;\n",
       "    }\n",
       "\n",
       "    .dataframe thead th {\n",
       "        text-align: right;\n",
       "    }\n",
       "</style>\n",
       "<table border=\"1\" class=\"dataframe\">\n",
       "  <thead>\n",
       "    <tr style=\"text-align: right;\">\n",
       "      <th></th>\n",
       "      <th>partition_1</th>\n",
       "      <th>partition_0</th>\n",
       "      <th>search_query</th>\n",
       "      <th>avg_polarity</th>\n",
       "      <th>avg_followers</th>\n",
       "      <th>avg_friends</th>\n",
       "      <th>avg_retweet_count</th>\n",
       "      <th>word_freq</th>\n",
       "      <th>count</th>\n",
       "      <th>top_tweets</th>\n",
       "      <th>create_date</th>\n",
       "    </tr>\n",
       "  </thead>\n",
       "  <tbody>\n",
       "    <tr>\n",
       "      <th>0</th>\n",
       "      <td>AFC Bournemouth</td>\n",
       "      <td>EPL</td>\n",
       "      <td>#Bournemouth</td>\n",
       "      <td>0.124462</td>\n",
       "      <td>7269.750000</td>\n",
       "      <td>2709.102273</td>\n",
       "      <td>7.329545</td>\n",
       "      <td>[('looking', 36), ('view', 33), ('pier.', 31),...</td>\n",
       "      <td>264</td>\n",
       "      <td>[{'max_retweet_count': 348, 'text': 'RT @lazbi...</td>\n",
       "      <td>2020-07-31</td>\n",
       "    </tr>\n",
       "    <tr>\n",
       "      <th>1</th>\n",
       "      <td>AMD</td>\n",
       "      <td>Technology</td>\n",
       "      <td>#AMD</td>\n",
       "      <td>0.167238</td>\n",
       "      <td>4258.261780</td>\n",
       "      <td>1351.947644</td>\n",
       "      <td>2.581152</td>\n",
       "      <td>[('ryzen', 26), ('amd', 21), ('$amd', 18), ('5...</td>\n",
       "      <td>191</td>\n",
       "      <td>[{'max_retweet_count': 62, 'text': 'RT @Tsunau...</td>\n",
       "      <td>2020-07-31</td>\n",
       "    </tr>\n",
       "    <tr>\n",
       "      <th>2</th>\n",
       "      <td>Adelaide</td>\n",
       "      <td>Australia</td>\n",
       "      <td>#Adelaide</td>\n",
       "      <td>0.175739</td>\n",
       "      <td>14167.537849</td>\n",
       "      <td>4468.709163</td>\n",
       "      <td>11.422311</td>\n",
       "      <td>[('new', 31), ('kaurna', 16), ('officially', 1...</td>\n",
       "      <td>251</td>\n",
       "      <td>[{'max_retweet_count': 291, 'text': 'RT @MikeH...</td>\n",
       "      <td>2020-07-31</td>\n",
       "    </tr>\n",
       "    <tr>\n",
       "      <th>3</th>\n",
       "      <td>Adidas</td>\n",
       "      <td>Fashion</td>\n",
       "      <td>#Adidas</td>\n",
       "      <td>0.322866</td>\n",
       "      <td>6787.027479</td>\n",
       "      <td>1110.169654</td>\n",
       "      <td>11.506571</td>\n",
       "      <td>[('check', 206), ('good', 190), (\"i'm\", 190), ...</td>\n",
       "      <td>837</td>\n",
       "      <td>[{'max_retweet_count': 438, 'text': 'RT @Stuar...</td>\n",
       "      <td>2020-07-31</td>\n",
       "    </tr>\n",
       "    <tr>\n",
       "      <th>4</th>\n",
       "      <td>Afghanistan</td>\n",
       "      <td>Politics</td>\n",
       "      <td>#Afghanistan</td>\n",
       "      <td>-0.123064</td>\n",
       "      <td>7412.314098</td>\n",
       "      <td>1583.798689</td>\n",
       "      <td>52.022295</td>\n",
       "      <td>[('border', 323), ('side', 220), ('boldak', 20...</td>\n",
       "      <td>1525</td>\n",
       "      <td>[{'max_retweet_count': 952, 'text': 'RT @Hartw...</td>\n",
       "      <td>2020-07-31</td>\n",
       "    </tr>\n",
       "    <tr>\n",
       "      <th>...</th>\n",
       "      <td>...</td>\n",
       "      <td>...</td>\n",
       "      <td>...</td>\n",
       "      <td>...</td>\n",
       "      <td>...</td>\n",
       "      <td>...</td>\n",
       "      <td>...</td>\n",
       "      <td>...</td>\n",
       "      <td>...</td>\n",
       "      <td>...</td>\n",
       "      <td>...</td>\n",
       "    </tr>\n",
       "    <tr>\n",
       "      <th>188</th>\n",
       "      <td>WarrenBuffett</td>\n",
       "      <td>RichList</td>\n",
       "      <td>#WarrenBuffett</td>\n",
       "      <td>0.299652</td>\n",
       "      <td>2139.763889</td>\n",
       "      <td>1564.173611</td>\n",
       "      <td>19.093750</td>\n",
       "      <td>[('richest', 197), ('stock', 196), ('warren', ...</td>\n",
       "      <td>864</td>\n",
       "      <td>[{'max_retweet_count': 257, 'text': 'RT @Econo...</td>\n",
       "      <td>2020-07-14</td>\n",
       "    </tr>\n",
       "    <tr>\n",
       "      <th>189</th>\n",
       "      <td>Youtube</td>\n",
       "      <td>Technology</td>\n",
       "      <td>#Youtube</td>\n",
       "      <td>0.141609</td>\n",
       "      <td>9617.197183</td>\n",
       "      <td>1774.955734</td>\n",
       "      <td>1134.016097</td>\n",
       "      <td>[('video', 91), ('new', 74), ('youtube', 52), ...</td>\n",
       "      <td>497</td>\n",
       "      <td>[{'max_retweet_count': 56910, 'text': \"RT @BLA...</td>\n",
       "      <td>2020-07-14</td>\n",
       "    </tr>\n",
       "    <tr>\n",
       "      <th>190</th>\n",
       "      <td>Zara</td>\n",
       "      <td>Fashion</td>\n",
       "      <td>#Zara</td>\n",
       "      <td>0.226097</td>\n",
       "      <td>998.510171</td>\n",
       "      <td>723.047193</td>\n",
       "      <td>150.014646</td>\n",
       "      <td>[(\"i'm\", 579), ('check', 576), ('items', 571),...</td>\n",
       "      <td>1229</td>\n",
       "      <td>[{'max_retweet_count': 554, 'text': 'RT @Shukr...</td>\n",
       "      <td>2020-07-14</td>\n",
       "    </tr>\n",
       "    <tr>\n",
       "      <th>191</th>\n",
       "      <td>cats</td>\n",
       "      <td>Pets</td>\n",
       "      <td>#Cats</td>\n",
       "      <td>0.241285</td>\n",
       "      <td>3807.825000</td>\n",
       "      <td>3005.067500</td>\n",
       "      <td>133.375000</td>\n",
       "      <td>[('cat', 46), ('summer', 44), ('🍉', 43), ('cut...</td>\n",
       "      <td>400</td>\n",
       "      <td>[{'max_retweet_count': 1740, 'text': 'RT @Snis...</td>\n",
       "      <td>2020-07-14</td>\n",
       "    </tr>\n",
       "    <tr>\n",
       "      <th>192</th>\n",
       "      <td>dogs</td>\n",
       "      <td>Pets</td>\n",
       "      <td>#Dogs OR #Doggo</td>\n",
       "      <td>0.504648</td>\n",
       "      <td>3914.707500</td>\n",
       "      <td>2377.072500</td>\n",
       "      <td>70.602500</td>\n",
       "      <td>[('home', 190), ('please', 149), ('find', 146)...</td>\n",
       "      <td>400</td>\n",
       "      <td>[{'max_retweet_count': 1740, 'text': 'RT @Snis...</td>\n",
       "      <td>2020-07-14</td>\n",
       "    </tr>\n",
       "  </tbody>\n",
       "</table>\n",
       "<p>4964 rows × 11 columns</p>\n",
       "</div>"
      ],
      "text/plain": [
       "         partition_1 partition_0     search_query  avg_polarity  \\\n",
       "0    AFC Bournemouth         EPL     #Bournemouth      0.124462   \n",
       "1                AMD  Technology             #AMD      0.167238   \n",
       "2           Adelaide   Australia        #Adelaide      0.175739   \n",
       "3             Adidas     Fashion          #Adidas      0.322866   \n",
       "4        Afghanistan    Politics     #Afghanistan     -0.123064   \n",
       "..               ...         ...              ...           ...   \n",
       "188    WarrenBuffett    RichList   #WarrenBuffett      0.299652   \n",
       "189          Youtube  Technology         #Youtube      0.141609   \n",
       "190             Zara     Fashion            #Zara      0.226097   \n",
       "191             cats        Pets            #Cats      0.241285   \n",
       "192             dogs        Pets  #Dogs OR #Doggo      0.504648   \n",
       "\n",
       "     avg_followers  avg_friends  avg_retweet_count  \\\n",
       "0      7269.750000  2709.102273           7.329545   \n",
       "1      4258.261780  1351.947644           2.581152   \n",
       "2     14167.537849  4468.709163          11.422311   \n",
       "3      6787.027479  1110.169654          11.506571   \n",
       "4      7412.314098  1583.798689          52.022295   \n",
       "..             ...          ...                ...   \n",
       "188    2139.763889  1564.173611          19.093750   \n",
       "189    9617.197183  1774.955734        1134.016097   \n",
       "190     998.510171   723.047193         150.014646   \n",
       "191    3807.825000  3005.067500         133.375000   \n",
       "192    3914.707500  2377.072500          70.602500   \n",
       "\n",
       "                                             word_freq  count  \\\n",
       "0    [('looking', 36), ('view', 33), ('pier.', 31),...    264   \n",
       "1    [('ryzen', 26), ('amd', 21), ('$amd', 18), ('5...    191   \n",
       "2    [('new', 31), ('kaurna', 16), ('officially', 1...    251   \n",
       "3    [('check', 206), ('good', 190), (\"i'm\", 190), ...    837   \n",
       "4    [('border', 323), ('side', 220), ('boldak', 20...   1525   \n",
       "..                                                 ...    ...   \n",
       "188  [('richest', 197), ('stock', 196), ('warren', ...    864   \n",
       "189  [('video', 91), ('new', 74), ('youtube', 52), ...    497   \n",
       "190  [(\"i'm\", 579), ('check', 576), ('items', 571),...   1229   \n",
       "191  [('cat', 46), ('summer', 44), ('🍉', 43), ('cut...    400   \n",
       "192  [('home', 190), ('please', 149), ('find', 146)...    400   \n",
       "\n",
       "                                            top_tweets create_date  \n",
       "0    [{'max_retweet_count': 348, 'text': 'RT @lazbi...  2020-07-31  \n",
       "1    [{'max_retweet_count': 62, 'text': 'RT @Tsunau...  2020-07-31  \n",
       "2    [{'max_retweet_count': 291, 'text': 'RT @MikeH...  2020-07-31  \n",
       "3    [{'max_retweet_count': 438, 'text': 'RT @Stuar...  2020-07-31  \n",
       "4    [{'max_retweet_count': 952, 'text': 'RT @Hartw...  2020-07-31  \n",
       "..                                                 ...         ...  \n",
       "188  [{'max_retweet_count': 257, 'text': 'RT @Econo...  2020-07-14  \n",
       "189  [{'max_retweet_count': 56910, 'text': \"RT @BLA...  2020-07-14  \n",
       "190  [{'max_retweet_count': 554, 'text': 'RT @Shukr...  2020-07-14  \n",
       "191  [{'max_retweet_count': 1740, 'text': 'RT @Snis...  2020-07-14  \n",
       "192  [{'max_retweet_count': 1740, 'text': 'RT @Snis...  2020-07-14  \n",
       "\n",
       "[4964 rows x 11 columns]"
      ]
     },
     "execution_count": 21,
     "metadata": {},
     "output_type": "execute_result"
    }
   ],
   "source": [
    "# Read the initial file\n",
    "df = pd.read_csv('data/'+'2020-07-14.csv')\n",
    "# Concatenate from then on\n",
    "for file in os.listdir('data'):\n",
    "    dfcurrent=pd.read_csv('data/'+file)\n",
    "    df=pd.concat([dfcurrent,df])\n",
    "df"
   ]
  },
  {
   "cell_type": "code",
   "execution_count": null,
   "metadata": {},
   "outputs": [],
   "source": []
  }
 ],
 "metadata": {
  "kernelspec": {
   "display_name": "Python 3",
   "language": "python",
   "name": "python3"
  },
  "language_info": {
   "codemirror_mode": {
    "name": "ipython",
    "version": 3
   },
   "file_extension": ".py",
   "mimetype": "text/x-python",
   "name": "python",
   "nbconvert_exporter": "python",
   "pygments_lexer": "ipython3",
   "version": "3.6.3"
  }
 },
 "nbformat": 4,
 "nbformat_minor": 4
}
